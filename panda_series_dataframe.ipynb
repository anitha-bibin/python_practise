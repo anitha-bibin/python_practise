{
 "cells": [
  {
   "cell_type": "code",
   "execution_count": 1,
   "id": "91a0f4ad",
   "metadata": {},
   "outputs": [
    {
     "data": {
      "text/plain": [
       "0    12\n",
       "1    -3\n",
       "2     8\n",
       "3    -6\n",
       "dtype: int64"
      ]
     },
     "execution_count": 1,
     "metadata": {},
     "output_type": "execute_result"
    }
   ],
   "source": [
    "import pandas as pd\n",
    "city=pd.Series([12,-3,8,-6])\n",
    "city"
   ]
  },
  {
   "cell_type": "code",
   "execution_count": 2,
   "id": "280f99bb",
   "metadata": {},
   "outputs": [
    {
     "data": {
      "text/plain": [
       "array([12, -3,  8, -6])"
      ]
     },
     "execution_count": 2,
     "metadata": {},
     "output_type": "execute_result"
    }
   ],
   "source": [
    "city.values"
   ]
  },
  {
   "cell_type": "code",
   "execution_count": 3,
   "id": "2cd88b26",
   "metadata": {},
   "outputs": [
    {
     "data": {
      "text/plain": [
       "RangeIndex(start=0, stop=4, step=1)"
      ]
     },
     "execution_count": 3,
     "metadata": {},
     "output_type": "execute_result"
    }
   ],
   "source": [
    "city.index\n"
   ]
  },
  {
   "cell_type": "code",
   "execution_count": 4,
   "id": "fb8e1377",
   "metadata": {},
   "outputs": [
    {
     "data": {
      "text/plain": [
       "dtype('int64')"
      ]
     },
     "execution_count": 4,
     "metadata": {},
     "output_type": "execute_result"
    }
   ],
   "source": [
    "city.dtype"
   ]
  },
  {
   "cell_type": "code",
   "execution_count": 5,
   "id": "3106089e",
   "metadata": {},
   "outputs": [
    {
     "data": {
      "text/plain": [
       "day1    12\n",
       "day2    -3\n",
       "day3     8\n",
       "day4    -6\n",
       "dtype: int64"
      ]
     },
     "execution_count": 5,
     "metadata": {},
     "output_type": "execute_result"
    }
   ],
   "source": [
    "city=pd.Series([12,-3,8,-6],index=['day1','day2','day3','day4'])\n",
    "city"
   ]
  },
  {
   "cell_type": "code",
   "execution_count": 6,
   "id": "f170ba0c",
   "metadata": {},
   "outputs": [
    {
     "data": {
      "text/plain": [
       "-3"
      ]
     },
     "execution_count": 6,
     "metadata": {},
     "output_type": "execute_result"
    }
   ],
   "source": [
    "city['day2']"
   ]
  },
  {
   "cell_type": "code",
   "execution_count": 7,
   "id": "b66699e2",
   "metadata": {},
   "outputs": [
    {
     "data": {
      "text/plain": [
       "day1    12\n",
       "day3     8\n",
       "dtype: int64"
      ]
     },
     "execution_count": 7,
     "metadata": {},
     "output_type": "execute_result"
    }
   ],
   "source": [
    "city[['day1','day3']]"
   ]
  },
  {
   "cell_type": "code",
   "execution_count": 8,
   "id": "82cc33bb",
   "metadata": {},
   "outputs": [
    {
     "data": {
      "text/plain": [
       "day1    12\n",
       "day3     8\n",
       "dtype: int64"
      ]
     },
     "execution_count": 8,
     "metadata": {},
     "output_type": "execute_result"
    }
   ],
   "source": [
    "city[city>0]"
   ]
  },
  {
   "cell_type": "code",
   "execution_count": 9,
   "id": "d766ee8e",
   "metadata": {},
   "outputs": [
    {
     "data": {
      "text/plain": [
       "-6"
      ]
     },
     "execution_count": 9,
     "metadata": {},
     "output_type": "execute_result"
    }
   ],
   "source": [
    "city.min()"
   ]
  },
  {
   "cell_type": "code",
   "execution_count": 10,
   "id": "7979254a",
   "metadata": {},
   "outputs": [
    {
     "data": {
      "text/plain": [
       "12"
      ]
     },
     "execution_count": 10,
     "metadata": {},
     "output_type": "execute_result"
    }
   ],
   "source": [
    "city.max()"
   ]
  },
  {
   "cell_type": "code",
   "execution_count": 11,
   "id": "ce57fb3a",
   "metadata": {},
   "outputs": [
    {
     "data": {
      "text/plain": [
       "day3    8\n",
       "dtype: int64"
      ]
     },
     "execution_count": 11,
     "metadata": {},
     "output_type": "execute_result"
    }
   ],
   "source": [
    "city[(city>2)&(city<9)]"
   ]
  },
  {
   "cell_type": "code",
   "execution_count": 12,
   "id": "a851f226",
   "metadata": {},
   "outputs": [
    {
     "data": {
      "text/plain": [
       "day1    15\n",
       "day2     0\n",
       "day3    11\n",
       "day4    -3\n",
       "dtype: int64"
      ]
     },
     "execution_count": 12,
     "metadata": {},
     "output_type": "execute_result"
    }
   ],
   "source": [
    "city+3"
   ]
  },
  {
   "cell_type": "code",
   "execution_count": 13,
   "id": "d54018cc",
   "metadata": {},
   "outputs": [
    {
     "data": {
      "text/plain": [
       "day1    9\n",
       "day2   -6\n",
       "day3    5\n",
       "day4   -9\n",
       "dtype: int64"
      ]
     },
     "execution_count": 13,
     "metadata": {},
     "output_type": "execute_result"
    }
   ],
   "source": [
    "city-3"
   ]
  },
  {
   "cell_type": "code",
   "execution_count": 14,
   "id": "5de53cd5",
   "metadata": {},
   "outputs": [
    {
     "data": {
      "text/plain": [
       "day1    36\n",
       "day2    -9\n",
       "day3    24\n",
       "day4   -18\n",
       "dtype: int64"
      ]
     },
     "execution_count": 14,
     "metadata": {},
     "output_type": "execute_result"
    }
   ],
   "source": [
    "city*3\n"
   ]
  },
  {
   "cell_type": "code",
   "execution_count": 15,
   "id": "17f01931",
   "metadata": {},
   "outputs": [
    {
     "data": {
      "text/plain": [
       "day1    4.000000\n",
       "day2   -1.000000\n",
       "day3    2.666667\n",
       "day4   -2.000000\n",
       "dtype: float64"
      ]
     },
     "execution_count": 15,
     "metadata": {},
     "output_type": "execute_result"
    }
   ],
   "source": [
    "city/3"
   ]
  },
  {
   "cell_type": "code",
   "execution_count": 16,
   "id": "1c743d32",
   "metadata": {},
   "outputs": [
    {
     "data": {
      "text/plain": [
       "KL    28\n",
       "KA    32\n",
       "TN    35\n",
       "DL    38\n",
       "dtype: int64"
      ]
     },
     "execution_count": 16,
     "metadata": {},
     "output_type": "execute_result"
    }
   ],
   "source": [
    "#creat series using dictionary\n",
    "data={'KL':28,\"KA\":32,'TN':35,'DL':38}\n",
    "data1=pd.Series(data)\n",
    "data1"
   ]
  },
  {
   "cell_type": "code",
   "execution_count": 17,
   "id": "29fbdd6b",
   "metadata": {},
   "outputs": [
    {
     "data": {
      "text/plain": [
       "DL    38.0\n",
       "KL    28.0\n",
       "KA    32.0\n",
       "TN    35.0\n",
       "MP     NaN\n",
       "dtype: float64"
      ]
     },
     "execution_count": 17,
     "metadata": {},
     "output_type": "execute_result"
    }
   ],
   "source": [
    "states=['DL','KL','KA','TN','MP']\n",
    "city=pd.Series(data,index=states)\n",
    "city"
   ]
  },
  {
   "cell_type": "code",
   "execution_count": 18,
   "id": "1b15a29e",
   "metadata": {},
   "outputs": [
    {
     "data": {
      "text/plain": [
       "DL    False\n",
       "KL    False\n",
       "KA    False\n",
       "TN    False\n",
       "MP     True\n",
       "dtype: bool"
      ]
     },
     "execution_count": 18,
     "metadata": {},
     "output_type": "execute_result"
    }
   ],
   "source": [
    "city.isna()"
   ]
  },
  {
   "cell_type": "code",
   "execution_count": 19,
   "id": "c5f505e9",
   "metadata": {},
   "outputs": [
    {
     "data": {
      "text/plain": [
       "DL     True\n",
       "KL     True\n",
       "KA     True\n",
       "TN     True\n",
       "MP    False\n",
       "dtype: bool"
      ]
     },
     "execution_count": 19,
     "metadata": {},
     "output_type": "execute_result"
    }
   ],
   "source": [
    "city.notna()"
   ]
  },
  {
   "cell_type": "markdown",
   "id": "0ec75ef0",
   "metadata": {},
   "source": [
    "# PANDA DATAFRAME"
   ]
  },
  {
   "cell_type": "code",
   "execution_count": 20,
   "id": "27c54c4b",
   "metadata": {},
   "outputs": [
    {
     "data": {
      "text/html": [
       "<div>\n",
       "<style scoped>\n",
       "    .dataframe tbody tr th:only-of-type {\n",
       "        vertical-align: middle;\n",
       "    }\n",
       "\n",
       "    .dataframe tbody tr th {\n",
       "        vertical-align: top;\n",
       "    }\n",
       "\n",
       "    .dataframe thead th {\n",
       "        text-align: right;\n",
       "    }\n",
       "</style>\n",
       "<table border=\"1\" class=\"dataframe\">\n",
       "  <thead>\n",
       "    <tr style=\"text-align: right;\">\n",
       "      <th></th>\n",
       "      <th>year</th>\n",
       "      <th>States</th>\n",
       "      <th>Population</th>\n",
       "    </tr>\n",
       "  </thead>\n",
       "  <tbody>\n",
       "    <tr>\n",
       "      <th>0</th>\n",
       "      <td>2000</td>\n",
       "      <td>KERALA</td>\n",
       "      <td>300</td>\n",
       "    </tr>\n",
       "    <tr>\n",
       "      <th>1</th>\n",
       "      <td>2001</td>\n",
       "      <td>DELHI</td>\n",
       "      <td>400</td>\n",
       "    </tr>\n",
       "    <tr>\n",
       "      <th>2</th>\n",
       "      <td>2002</td>\n",
       "      <td>NAGPUR</td>\n",
       "      <td>250</td>\n",
       "    </tr>\n",
       "    <tr>\n",
       "      <th>3</th>\n",
       "      <td>2003</td>\n",
       "      <td>HARYANA</td>\n",
       "      <td>520</td>\n",
       "    </tr>\n",
       "    <tr>\n",
       "      <th>4</th>\n",
       "      <td>2004</td>\n",
       "      <td>PANJAB</td>\n",
       "      <td>350</td>\n",
       "    </tr>\n",
       "  </tbody>\n",
       "</table>\n",
       "</div>"
      ],
      "text/plain": [
       "   year   States  Population\n",
       "0  2000   KERALA         300\n",
       "1  2001    DELHI         400\n",
       "2  2002   NAGPUR         250\n",
       "3  2003  HARYANA         520\n",
       "4  2004   PANJAB         350"
      ]
     },
     "execution_count": 20,
     "metadata": {},
     "output_type": "execute_result"
    }
   ],
   "source": [
    "import pandas as pd\n",
    "pop_data={'year':[2000,2001,2002,2003,2004],'States':['KERALA','DELHI','NAGPUR','HARYANA','PANJAB'],'Population':[300,400,250,520,350]}\n",
    "pop_data=pd.DataFrame(pop_data,columns=['year','States','Population'])\n",
    "pop_data"
   ]
  },
  {
   "cell_type": "code",
   "execution_count": 21,
   "id": "55652a24",
   "metadata": {},
   "outputs": [
    {
     "data": {
      "text/html": [
       "<div>\n",
       "<style scoped>\n",
       "    .dataframe tbody tr th:only-of-type {\n",
       "        vertical-align: middle;\n",
       "    }\n",
       "\n",
       "    .dataframe tbody tr th {\n",
       "        vertical-align: top;\n",
       "    }\n",
       "\n",
       "    .dataframe thead th {\n",
       "        text-align: right;\n",
       "    }\n",
       "</style>\n",
       "<table border=\"1\" class=\"dataframe\">\n",
       "  <thead>\n",
       "    <tr style=\"text-align: right;\">\n",
       "      <th></th>\n",
       "      <th>year</th>\n",
       "      <th>States</th>\n",
       "      <th>Population</th>\n",
       "      <th>income</th>\n",
       "    </tr>\n",
       "  </thead>\n",
       "  <tbody>\n",
       "    <tr>\n",
       "      <th>0</th>\n",
       "      <td>2000</td>\n",
       "      <td>KERALA</td>\n",
       "      <td>300</td>\n",
       "      <td>NaN</td>\n",
       "    </tr>\n",
       "    <tr>\n",
       "      <th>1</th>\n",
       "      <td>2001</td>\n",
       "      <td>DELHI</td>\n",
       "      <td>400</td>\n",
       "      <td>NaN</td>\n",
       "    </tr>\n",
       "    <tr>\n",
       "      <th>2</th>\n",
       "      <td>2002</td>\n",
       "      <td>NAGPUR</td>\n",
       "      <td>250</td>\n",
       "      <td>NaN</td>\n",
       "    </tr>\n",
       "    <tr>\n",
       "      <th>3</th>\n",
       "      <td>2003</td>\n",
       "      <td>HARYANA</td>\n",
       "      <td>520</td>\n",
       "      <td>NaN</td>\n",
       "    </tr>\n",
       "    <tr>\n",
       "      <th>4</th>\n",
       "      <td>2004</td>\n",
       "      <td>PANJAB</td>\n",
       "      <td>350</td>\n",
       "      <td>NaN</td>\n",
       "    </tr>\n",
       "  </tbody>\n",
       "</table>\n",
       "</div>"
      ],
      "text/plain": [
       "   year   States  Population  income\n",
       "0  2000   KERALA         300     NaN\n",
       "1  2001    DELHI         400     NaN\n",
       "2  2002   NAGPUR         250     NaN\n",
       "3  2003  HARYANA         520     NaN\n",
       "4  2004   PANJAB         350     NaN"
      ]
     },
     "execution_count": 21,
     "metadata": {},
     "output_type": "execute_result"
    }
   ],
   "source": [
    "pop_data=pd.DataFrame(pop_data,columns=['year','States','Population','income'])\n",
    "pop_data"
   ]
  },
  {
   "cell_type": "code",
   "execution_count": 22,
   "id": "63fee85a",
   "metadata": {},
   "outputs": [
    {
     "data": {
      "text/plain": [
       "0    300\n",
       "1    400\n",
       "2    250\n",
       "3    520\n",
       "4    350\n",
       "Name: Population, dtype: int64"
      ]
     },
     "execution_count": 22,
     "metadata": {},
     "output_type": "execute_result"
    }
   ],
   "source": [
    "pop_data['Population']"
   ]
  },
  {
   "cell_type": "code",
   "execution_count": 23,
   "id": "0f84d9e5",
   "metadata": {},
   "outputs": [
    {
     "data": {
      "text/html": [
       "<div>\n",
       "<style scoped>\n",
       "    .dataframe tbody tr th:only-of-type {\n",
       "        vertical-align: middle;\n",
       "    }\n",
       "\n",
       "    .dataframe tbody tr th {\n",
       "        vertical-align: top;\n",
       "    }\n",
       "\n",
       "    .dataframe thead th {\n",
       "        text-align: right;\n",
       "    }\n",
       "</style>\n",
       "<table border=\"1\" class=\"dataframe\">\n",
       "  <thead>\n",
       "    <tr style=\"text-align: right;\">\n",
       "      <th></th>\n",
       "      <th>year</th>\n",
       "      <th>States</th>\n",
       "      <th>Population</th>\n",
       "      <th>income</th>\n",
       "    </tr>\n",
       "  </thead>\n",
       "  <tbody>\n",
       "    <tr>\n",
       "      <th>0</th>\n",
       "      <td>2000</td>\n",
       "      <td>KERALA</td>\n",
       "      <td>300</td>\n",
       "      <td>20000</td>\n",
       "    </tr>\n",
       "    <tr>\n",
       "      <th>1</th>\n",
       "      <td>2001</td>\n",
       "      <td>DELHI</td>\n",
       "      <td>400</td>\n",
       "      <td>30000</td>\n",
       "    </tr>\n",
       "    <tr>\n",
       "      <th>2</th>\n",
       "      <td>2002</td>\n",
       "      <td>NAGPUR</td>\n",
       "      <td>250</td>\n",
       "      <td>52000</td>\n",
       "    </tr>\n",
       "    <tr>\n",
       "      <th>3</th>\n",
       "      <td>2003</td>\n",
       "      <td>HARYANA</td>\n",
       "      <td>520</td>\n",
       "      <td>34000</td>\n",
       "    </tr>\n",
       "    <tr>\n",
       "      <th>4</th>\n",
       "      <td>2004</td>\n",
       "      <td>PANJAB</td>\n",
       "      <td>350</td>\n",
       "      <td>27000</td>\n",
       "    </tr>\n",
       "  </tbody>\n",
       "</table>\n",
       "</div>"
      ],
      "text/plain": [
       "   year   States  Population  income\n",
       "0  2000   KERALA         300   20000\n",
       "1  2001    DELHI         400   30000\n",
       "2  2002   NAGPUR         250   52000\n",
       "3  2003  HARYANA         520   34000\n",
       "4  2004   PANJAB         350   27000"
      ]
     },
     "execution_count": 23,
     "metadata": {},
     "output_type": "execute_result"
    }
   ],
   "source": [
    "pop_data['income']=[20000,30000,52000,34000,27000]\n",
    "pop_data"
   ]
  },
  {
   "cell_type": "code",
   "execution_count": 24,
   "id": "8745231e",
   "metadata": {},
   "outputs": [
    {
     "data": {
      "text/html": [
       "<div>\n",
       "<style scoped>\n",
       "    .dataframe tbody tr th:only-of-type {\n",
       "        vertical-align: middle;\n",
       "    }\n",
       "\n",
       "    .dataframe tbody tr th {\n",
       "        vertical-align: top;\n",
       "    }\n",
       "\n",
       "    .dataframe thead th {\n",
       "        text-align: right;\n",
       "    }\n",
       "</style>\n",
       "<table border=\"1\" class=\"dataframe\">\n",
       "  <thead>\n",
       "    <tr style=\"text-align: right;\">\n",
       "      <th></th>\n",
       "      <th>year</th>\n",
       "      <th>States</th>\n",
       "      <th>Population</th>\n",
       "      <th>income</th>\n",
       "      <th>debt</th>\n",
       "    </tr>\n",
       "  </thead>\n",
       "  <tbody>\n",
       "    <tr>\n",
       "      <th>0</th>\n",
       "      <td>2000</td>\n",
       "      <td>KERALA</td>\n",
       "      <td>300</td>\n",
       "      <td>20000</td>\n",
       "      <td>15000</td>\n",
       "    </tr>\n",
       "    <tr>\n",
       "      <th>1</th>\n",
       "      <td>2001</td>\n",
       "      <td>DELHI</td>\n",
       "      <td>400</td>\n",
       "      <td>30000</td>\n",
       "      <td>3200</td>\n",
       "    </tr>\n",
       "    <tr>\n",
       "      <th>2</th>\n",
       "      <td>2002</td>\n",
       "      <td>NAGPUR</td>\n",
       "      <td>250</td>\n",
       "      <td>52000</td>\n",
       "      <td>4000</td>\n",
       "    </tr>\n",
       "    <tr>\n",
       "      <th>3</th>\n",
       "      <td>2003</td>\n",
       "      <td>HARYANA</td>\n",
       "      <td>520</td>\n",
       "      <td>34000</td>\n",
       "      <td>6000</td>\n",
       "    </tr>\n",
       "    <tr>\n",
       "      <th>4</th>\n",
       "      <td>2004</td>\n",
       "      <td>PANJAB</td>\n",
       "      <td>350</td>\n",
       "      <td>27000</td>\n",
       "      <td>7500</td>\n",
       "    </tr>\n",
       "  </tbody>\n",
       "</table>\n",
       "</div>"
      ],
      "text/plain": [
       "   year   States  Population  income   debt\n",
       "0  2000   KERALA         300   20000  15000\n",
       "1  2001    DELHI         400   30000   3200\n",
       "2  2002   NAGPUR         250   52000   4000\n",
       "3  2003  HARYANA         520   34000   6000\n",
       "4  2004   PANJAB         350   27000   7500"
      ]
     },
     "execution_count": 24,
     "metadata": {},
     "output_type": "execute_result"
    }
   ],
   "source": [
    "pop_data['debt']=[15000,3200,4000,6000,7500]\n",
    "pop_data"
   ]
  },
  {
   "cell_type": "code",
   "execution_count": 25,
   "id": "7507d74f",
   "metadata": {},
   "outputs": [
    {
     "data": {
      "text/html": [
       "<div>\n",
       "<style scoped>\n",
       "    .dataframe tbody tr th:only-of-type {\n",
       "        vertical-align: middle;\n",
       "    }\n",
       "\n",
       "    .dataframe tbody tr th {\n",
       "        vertical-align: top;\n",
       "    }\n",
       "\n",
       "    .dataframe thead th {\n",
       "        text-align: right;\n",
       "    }\n",
       "</style>\n",
       "<table border=\"1\" class=\"dataframe\">\n",
       "  <thead>\n",
       "    <tr style=\"text-align: right;\">\n",
       "      <th></th>\n",
       "      <th>year</th>\n",
       "      <th>States</th>\n",
       "      <th>Population</th>\n",
       "      <th>income</th>\n",
       "      <th>debt</th>\n",
       "      <th>savings</th>\n",
       "    </tr>\n",
       "  </thead>\n",
       "  <tbody>\n",
       "    <tr>\n",
       "      <th>0</th>\n",
       "      <td>2000</td>\n",
       "      <td>KERALA</td>\n",
       "      <td>300</td>\n",
       "      <td>20000</td>\n",
       "      <td>15000</td>\n",
       "      <td>5000</td>\n",
       "    </tr>\n",
       "    <tr>\n",
       "      <th>1</th>\n",
       "      <td>2001</td>\n",
       "      <td>DELHI</td>\n",
       "      <td>400</td>\n",
       "      <td>30000</td>\n",
       "      <td>3200</td>\n",
       "      <td>26800</td>\n",
       "    </tr>\n",
       "    <tr>\n",
       "      <th>2</th>\n",
       "      <td>2002</td>\n",
       "      <td>NAGPUR</td>\n",
       "      <td>250</td>\n",
       "      <td>52000</td>\n",
       "      <td>4000</td>\n",
       "      <td>48000</td>\n",
       "    </tr>\n",
       "    <tr>\n",
       "      <th>3</th>\n",
       "      <td>2003</td>\n",
       "      <td>HARYANA</td>\n",
       "      <td>520</td>\n",
       "      <td>34000</td>\n",
       "      <td>6000</td>\n",
       "      <td>28000</td>\n",
       "    </tr>\n",
       "    <tr>\n",
       "      <th>4</th>\n",
       "      <td>2004</td>\n",
       "      <td>PANJAB</td>\n",
       "      <td>350</td>\n",
       "      <td>27000</td>\n",
       "      <td>7500</td>\n",
       "      <td>19500</td>\n",
       "    </tr>\n",
       "  </tbody>\n",
       "</table>\n",
       "</div>"
      ],
      "text/plain": [
       "   year   States  Population  income   debt  savings\n",
       "0  2000   KERALA         300   20000  15000     5000\n",
       "1  2001    DELHI         400   30000   3200    26800\n",
       "2  2002   NAGPUR         250   52000   4000    48000\n",
       "3  2003  HARYANA         520   34000   6000    28000\n",
       "4  2004   PANJAB         350   27000   7500    19500"
      ]
     },
     "execution_count": 25,
     "metadata": {},
     "output_type": "execute_result"
    }
   ],
   "source": [
    "pop_data['savings']=pop_data['income']-pop_data['debt']\n",
    "pop_data"
   ]
  },
  {
   "cell_type": "markdown",
   "id": "0737a513",
   "metadata": {},
   "source": [
    "# method1 delete a column"
   ]
  },
  {
   "cell_type": "code",
   "execution_count": 26,
   "id": "2caf83fa",
   "metadata": {},
   "outputs": [
    {
     "data": {
      "text/html": [
       "<div>\n",
       "<style scoped>\n",
       "    .dataframe tbody tr th:only-of-type {\n",
       "        vertical-align: middle;\n",
       "    }\n",
       "\n",
       "    .dataframe tbody tr th {\n",
       "        vertical-align: top;\n",
       "    }\n",
       "\n",
       "    .dataframe thead th {\n",
       "        text-align: right;\n",
       "    }\n",
       "</style>\n",
       "<table border=\"1\" class=\"dataframe\">\n",
       "  <thead>\n",
       "    <tr style=\"text-align: right;\">\n",
       "      <th></th>\n",
       "      <th>year</th>\n",
       "      <th>States</th>\n",
       "      <th>income</th>\n",
       "      <th>debt</th>\n",
       "      <th>savings</th>\n",
       "    </tr>\n",
       "  </thead>\n",
       "  <tbody>\n",
       "    <tr>\n",
       "      <th>0</th>\n",
       "      <td>2000</td>\n",
       "      <td>KERALA</td>\n",
       "      <td>20000</td>\n",
       "      <td>15000</td>\n",
       "      <td>5000</td>\n",
       "    </tr>\n",
       "    <tr>\n",
       "      <th>1</th>\n",
       "      <td>2001</td>\n",
       "      <td>DELHI</td>\n",
       "      <td>30000</td>\n",
       "      <td>3200</td>\n",
       "      <td>26800</td>\n",
       "    </tr>\n",
       "    <tr>\n",
       "      <th>2</th>\n",
       "      <td>2002</td>\n",
       "      <td>NAGPUR</td>\n",
       "      <td>52000</td>\n",
       "      <td>4000</td>\n",
       "      <td>48000</td>\n",
       "    </tr>\n",
       "    <tr>\n",
       "      <th>3</th>\n",
       "      <td>2003</td>\n",
       "      <td>HARYANA</td>\n",
       "      <td>34000</td>\n",
       "      <td>6000</td>\n",
       "      <td>28000</td>\n",
       "    </tr>\n",
       "    <tr>\n",
       "      <th>4</th>\n",
       "      <td>2004</td>\n",
       "      <td>PANJAB</td>\n",
       "      <td>27000</td>\n",
       "      <td>7500</td>\n",
       "      <td>19500</td>\n",
       "    </tr>\n",
       "  </tbody>\n",
       "</table>\n",
       "</div>"
      ],
      "text/plain": [
       "   year   States  income   debt  savings\n",
       "0  2000   KERALA   20000  15000     5000\n",
       "1  2001    DELHI   30000   3200    26800\n",
       "2  2002   NAGPUR   52000   4000    48000\n",
       "3  2003  HARYANA   34000   6000    28000\n",
       "4  2004   PANJAB   27000   7500    19500"
      ]
     },
     "execution_count": 26,
     "metadata": {},
     "output_type": "execute_result"
    }
   ],
   "source": [
    "pop_data1=pop_data.drop('Population',axis=1)\n",
    "pop_data1"
   ]
  },
  {
   "cell_type": "markdown",
   "id": "dcdfae28",
   "metadata": {},
   "source": [
    "# method2 delete a column"
   ]
  },
  {
   "cell_type": "code",
   "execution_count": 27,
   "id": "6b829b5b",
   "metadata": {},
   "outputs": [
    {
     "data": {
      "text/html": [
       "<div>\n",
       "<style scoped>\n",
       "    .dataframe tbody tr th:only-of-type {\n",
       "        vertical-align: middle;\n",
       "    }\n",
       "\n",
       "    .dataframe tbody tr th {\n",
       "        vertical-align: top;\n",
       "    }\n",
       "\n",
       "    .dataframe thead th {\n",
       "        text-align: right;\n",
       "    }\n",
       "</style>\n",
       "<table border=\"1\" class=\"dataframe\">\n",
       "  <thead>\n",
       "    <tr style=\"text-align: right;\">\n",
       "      <th></th>\n",
       "      <th>year</th>\n",
       "      <th>States</th>\n",
       "      <th>income</th>\n",
       "      <th>debt</th>\n",
       "      <th>savings</th>\n",
       "    </tr>\n",
       "  </thead>\n",
       "  <tbody>\n",
       "    <tr>\n",
       "      <th>0</th>\n",
       "      <td>2000</td>\n",
       "      <td>KERALA</td>\n",
       "      <td>20000</td>\n",
       "      <td>15000</td>\n",
       "      <td>5000</td>\n",
       "    </tr>\n",
       "    <tr>\n",
       "      <th>1</th>\n",
       "      <td>2001</td>\n",
       "      <td>DELHI</td>\n",
       "      <td>30000</td>\n",
       "      <td>3200</td>\n",
       "      <td>26800</td>\n",
       "    </tr>\n",
       "    <tr>\n",
       "      <th>2</th>\n",
       "      <td>2002</td>\n",
       "      <td>NAGPUR</td>\n",
       "      <td>52000</td>\n",
       "      <td>4000</td>\n",
       "      <td>48000</td>\n",
       "    </tr>\n",
       "    <tr>\n",
       "      <th>3</th>\n",
       "      <td>2003</td>\n",
       "      <td>HARYANA</td>\n",
       "      <td>34000</td>\n",
       "      <td>6000</td>\n",
       "      <td>28000</td>\n",
       "    </tr>\n",
       "    <tr>\n",
       "      <th>4</th>\n",
       "      <td>2004</td>\n",
       "      <td>PANJAB</td>\n",
       "      <td>27000</td>\n",
       "      <td>7500</td>\n",
       "      <td>19500</td>\n",
       "    </tr>\n",
       "  </tbody>\n",
       "</table>\n",
       "</div>"
      ],
      "text/plain": [
       "   year   States  income   debt  savings\n",
       "0  2000   KERALA   20000  15000     5000\n",
       "1  2001    DELHI   30000   3200    26800\n",
       "2  2002   NAGPUR   52000   4000    48000\n",
       "3  2003  HARYANA   34000   6000    28000\n",
       "4  2004   PANJAB   27000   7500    19500"
      ]
     },
     "execution_count": 27,
     "metadata": {},
     "output_type": "execute_result"
    }
   ],
   "source": [
    "del pop_data['Population']\n",
    "pop_data"
   ]
  },
  {
   "cell_type": "code",
   "execution_count": 28,
   "id": "87b6a8cb",
   "metadata": {},
   "outputs": [
    {
     "data": {
      "text/html": [
       "<div>\n",
       "<style scoped>\n",
       "    .dataframe tbody tr th:only-of-type {\n",
       "        vertical-align: middle;\n",
       "    }\n",
       "\n",
       "    .dataframe tbody tr th {\n",
       "        vertical-align: top;\n",
       "    }\n",
       "\n",
       "    .dataframe thead th {\n",
       "        text-align: right;\n",
       "    }\n",
       "</style>\n",
       "<table border=\"1\" class=\"dataframe\">\n",
       "  <thead>\n",
       "    <tr style=\"text-align: right;\">\n",
       "      <th></th>\n",
       "      <th>year</th>\n",
       "      <th>States</th>\n",
       "      <th>income</th>\n",
       "      <th>debt</th>\n",
       "    </tr>\n",
       "  </thead>\n",
       "  <tbody>\n",
       "    <tr>\n",
       "      <th>0</th>\n",
       "      <td>2000</td>\n",
       "      <td>KERALA</td>\n",
       "      <td>20000</td>\n",
       "      <td>15000</td>\n",
       "    </tr>\n",
       "    <tr>\n",
       "      <th>1</th>\n",
       "      <td>2001</td>\n",
       "      <td>DELHI</td>\n",
       "      <td>30000</td>\n",
       "      <td>3200</td>\n",
       "    </tr>\n",
       "    <tr>\n",
       "      <th>2</th>\n",
       "      <td>2002</td>\n",
       "      <td>NAGPUR</td>\n",
       "      <td>52000</td>\n",
       "      <td>4000</td>\n",
       "    </tr>\n",
       "    <tr>\n",
       "      <th>3</th>\n",
       "      <td>2003</td>\n",
       "      <td>HARYANA</td>\n",
       "      <td>34000</td>\n",
       "      <td>6000</td>\n",
       "    </tr>\n",
       "    <tr>\n",
       "      <th>4</th>\n",
       "      <td>2004</td>\n",
       "      <td>PANJAB</td>\n",
       "      <td>27000</td>\n",
       "      <td>7500</td>\n",
       "    </tr>\n",
       "  </tbody>\n",
       "</table>\n",
       "</div>"
      ],
      "text/plain": [
       "   year   States  income   debt\n",
       "0  2000   KERALA   20000  15000\n",
       "1  2001    DELHI   30000   3200\n",
       "2  2002   NAGPUR   52000   4000\n",
       "3  2003  HARYANA   34000   6000\n",
       "4  2004   PANJAB   27000   7500"
      ]
     },
     "execution_count": 28,
     "metadata": {},
     "output_type": "execute_result"
    }
   ],
   "source": [
    "del pop_data['savings']\n",
    "pop_data"
   ]
  },
  {
   "cell_type": "code",
   "execution_count": 29,
   "id": "7f5139a6",
   "metadata": {},
   "outputs": [
    {
     "data": {
      "text/plain": [
       "2"
      ]
     },
     "execution_count": 29,
     "metadata": {},
     "output_type": "execute_result"
    }
   ],
   "source": [
    "pop_data.ndim"
   ]
  },
  {
   "cell_type": "code",
   "execution_count": 30,
   "id": "35ab1b74",
   "metadata": {},
   "outputs": [
    {
     "data": {
      "text/plain": [
       "20"
      ]
     },
     "execution_count": 30,
     "metadata": {},
     "output_type": "execute_result"
    }
   ],
   "source": [
    "pop_data.size"
   ]
  },
  {
   "cell_type": "code",
   "execution_count": 2,
   "id": "de13dfa0",
   "metadata": {},
   "outputs": [
    {
     "name": "stdout",
     "output_type": "stream",
     "text": [
      "a    31\n",
      "e    25\n",
      "i    19\n",
      "o    13\n",
      "u     7\n",
      "dtype: int64\n"
     ]
    }
   ],
   "source": [
    "import pandas as pd\n",
    "S1 = pd.Series(data = range(31, 2, -6), index = [x for x in \"aeiou\"])\n",
    "print(S1)\n"
   ]
  },
  {
   "cell_type": "code",
   "execution_count": 3,
   "id": "af880187",
   "metadata": {},
   "outputs": [
    {
     "name": "stdout",
     "output_type": "stream",
     "text": [
      "[[ 5  6  7  8  9 10]]\n"
     ]
    }
   ],
   "source": [
    "import numpy as np \n",
    "arr = np.array([5,6,7,8,9,10], ndmin = 2)\n",
    "print (arr)"
   ]
  },
  {
   "cell_type": "code",
   "execution_count": null,
   "id": "3e475244",
   "metadata": {},
   "outputs": [],
   "source": []
  }
 ],
 "metadata": {
  "kernelspec": {
   "display_name": "Python 3 (ipykernel)",
   "language": "python",
   "name": "python3"
  },
  "language_info": {
   "codemirror_mode": {
    "name": "ipython",
    "version": 3
   },
   "file_extension": ".py",
   "mimetype": "text/x-python",
   "name": "python",
   "nbconvert_exporter": "python",
   "pygments_lexer": "ipython3",
   "version": "3.8.8"
  }
 },
 "nbformat": 4,
 "nbformat_minor": 5
}
