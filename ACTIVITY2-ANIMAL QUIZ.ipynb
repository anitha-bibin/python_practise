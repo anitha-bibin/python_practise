{
 "cells": [
  {
   "cell_type": "code",
   "execution_count": 4,
   "id": "6dedb478",
   "metadata": {
    "scrolled": true
   },
   "outputs": [
    {
     "name": "stdout",
     "output_type": "stream",
     "text": [
      "Guess The Animal!!!\n",
      "Which bear lives at the north pole?polar bear\n",
      "Correct answer\n",
      "Which is the fastest land animal?asda\n",
      "Sorry wrong answer . Try again.\n",
      "which is the fastest land animal?asd\n",
      "Sorry wrong answer . Try again.\n",
      "which is the fastest land animal?sdf\n",
      "sdf cheetah\n",
      "The correct answer is  Cheetah\n",
      "Which is the largest animal?blue whale\n",
      "Correct answer\n",
      "Which animal is the tallest in the world?giraffe\n",
      "Correct answer\n",
      "Your Score is  3\n"
     ]
    }
   ],
   "source": [
    "           \n",
    "print(\"Guess The Animal!!!\")\n",
    "\n",
    "def check_answer(ans,cor_ans,qn):\n",
    "    marks=0\n",
    "    if ans.lower()==cor_ans:\n",
    "        marks=marks+1\n",
    "        print(\"Correct answer\")\n",
    "    else:\n",
    "        for i in range(1,3):\n",
    "            print(\"Sorry wrong answer . Try again.\")\n",
    "            ans=str(input(qn))\n",
    "            if ans.lower()==cor_ans:\n",
    "                print(\"Correct answer\")\n",
    "                marks=marks+1\n",
    "                break\n",
    "            elif i==2:\n",
    "                print(ans,cor_ans)\n",
    "                print(\"The correct answer is \",cor_ans.capitalize())\n",
    "    return marks\n",
    "\n",
    "\n",
    "qn_list={\"Which bear lives at the North Pole?\":'polar bear',\"Which is the fastest land animal?\":'cheetah',\"Which is the largest animal?\":'blue whale',\"Which animal is the tallest in the world?\":'giraffe'}\n",
    "total_mark=0\n",
    "for qn,an in qn_list.items():\n",
    "    ans=str(input(qn))\n",
    "    total_mark=check_answer(ans,an,qn)+total_mark\n",
    "\n",
    "print(\"Your Score is \",total_mark)"
   ]
  },
  {
   "cell_type": "code",
   "execution_count": null,
   "id": "1eb78caf",
   "metadata": {},
   "outputs": [],
   "source": []
  },
  {
   "cell_type": "code",
   "execution_count": null,
   "id": "fee1b78d",
   "metadata": {},
   "outputs": [],
   "source": []
  }
 ],
 "metadata": {
  "kernelspec": {
   "display_name": "Python 3 (ipykernel)",
   "language": "python",
   "name": "python3"
  },
  "language_info": {
   "codemirror_mode": {
    "name": "ipython",
    "version": 3
   },
   "file_extension": ".py",
   "mimetype": "text/x-python",
   "name": "python",
   "nbconvert_exporter": "python",
   "pygments_lexer": "ipython3",
   "version": "3.8.8"
  }
 },
 "nbformat": 4,
 "nbformat_minor": 5
}
