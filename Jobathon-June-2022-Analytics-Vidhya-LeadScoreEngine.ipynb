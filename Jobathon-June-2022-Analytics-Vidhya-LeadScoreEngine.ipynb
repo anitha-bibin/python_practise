{
 "cells": [
  {
   "cell_type": "code",
   "execution_count": 1,
   "id": "e188c684",
   "metadata": {
    "scrolled": true
   },
   "outputs": [],
   "source": [
    "# importing libraries\n"
   ]
  },
  {
   "cell_type": "code",
   "execution_count": 60,
   "id": "cd01941d",
   "metadata": {},
   "outputs": [],
   "source": [
    "import numpy as np\n",
    "import pandas as pd\n",
    "import seaborn as sns\n",
    "import matplotlib.pyplot as plt\n",
    "import warnings\n",
    "warnings.filterwarnings(\"ignore\")\n",
    "from sklearn.ensemble import RandomForestClassifier ,GradientBoostingClassifier, AdaBoostClassifier\n",
    "from sklearn import preprocessing \n",
    "from sklearn.model_selection import train_test_split,cross_val_score, cross_validate\n",
    "from sklearn.tree import DecisionTreeClassifier\n",
    "from sklearn.metrics import accuracy_score,f1_score,classification_report,confusion_matrix\n",
    "from sklearn.linear_model import LogisticRegression\n",
    "from sklearn.naive_bayes import GaussianNB\n",
    "from sklearn.neighbors import KNeighborsClassifier\n",
    "from sklearn.svm import SVC\n",
    "\n"
   ]
  },
  {
   "cell_type": "code",
   "execution_count": 3,
   "id": "d30d689d",
   "metadata": {},
   "outputs": [],
   "source": [
    "# loading dataset and displaying "
   ]
  },
  {
   "cell_type": "code",
   "execution_count": 4,
   "id": "9c43118b",
   "metadata": {},
   "outputs": [
    {
     "data": {
      "text/html": [
       "<div>\n",
       "<style scoped>\n",
       "    .dataframe tbody tr th:only-of-type {\n",
       "        vertical-align: middle;\n",
       "    }\n",
       "\n",
       "    .dataframe tbody tr th {\n",
       "        vertical-align: top;\n",
       "    }\n",
       "\n",
       "    .dataframe thead th {\n",
       "        text-align: right;\n",
       "    }\n",
       "</style>\n",
       "<table border=\"1\" class=\"dataframe\">\n",
       "  <thead>\n",
       "    <tr style=\"text-align: right;\">\n",
       "      <th></th>\n",
       "      <th>id</th>\n",
       "      <th>created_at</th>\n",
       "      <th>campaign_var_1</th>\n",
       "      <th>campaign_var_2</th>\n",
       "      <th>products_purchased</th>\n",
       "      <th>signup_date</th>\n",
       "      <th>user_activity_var_1</th>\n",
       "      <th>user_activity_var_2</th>\n",
       "      <th>user_activity_var_3</th>\n",
       "      <th>user_activity_var_4</th>\n",
       "      <th>user_activity_var_5</th>\n",
       "      <th>user_activity_var_6</th>\n",
       "      <th>user_activity_var_7</th>\n",
       "      <th>user_activity_var_8</th>\n",
       "      <th>user_activity_var_9</th>\n",
       "      <th>user_activity_var_10</th>\n",
       "      <th>user_activity_var_11</th>\n",
       "      <th>user_activity_var_12</th>\n",
       "      <th>buy</th>\n",
       "    </tr>\n",
       "  </thead>\n",
       "  <tbody>\n",
       "    <tr>\n",
       "      <th>0</th>\n",
       "      <td>1</td>\n",
       "      <td>2021-01-01</td>\n",
       "      <td>1</td>\n",
       "      <td>2</td>\n",
       "      <td>2.0</td>\n",
       "      <td>2020-09-24</td>\n",
       "      <td>0</td>\n",
       "      <td>0</td>\n",
       "      <td>0</td>\n",
       "      <td>0</td>\n",
       "      <td>0</td>\n",
       "      <td>0</td>\n",
       "      <td>1</td>\n",
       "      <td>1</td>\n",
       "      <td>0</td>\n",
       "      <td>0</td>\n",
       "      <td>0</td>\n",
       "      <td>0</td>\n",
       "      <td>0</td>\n",
       "    </tr>\n",
       "    <tr>\n",
       "      <th>1</th>\n",
       "      <td>2</td>\n",
       "      <td>2021-01-01</td>\n",
       "      <td>2</td>\n",
       "      <td>1</td>\n",
       "      <td>2.0</td>\n",
       "      <td>2020-09-19</td>\n",
       "      <td>1</td>\n",
       "      <td>0</td>\n",
       "      <td>1</td>\n",
       "      <td>0</td>\n",
       "      <td>0</td>\n",
       "      <td>0</td>\n",
       "      <td>1</td>\n",
       "      <td>0</td>\n",
       "      <td>0</td>\n",
       "      <td>0</td>\n",
       "      <td>0</td>\n",
       "      <td>0</td>\n",
       "      <td>0</td>\n",
       "    </tr>\n",
       "    <tr>\n",
       "      <th>2</th>\n",
       "      <td>3</td>\n",
       "      <td>2021-01-01</td>\n",
       "      <td>9</td>\n",
       "      <td>3</td>\n",
       "      <td>3.0</td>\n",
       "      <td>2021-08-11</td>\n",
       "      <td>1</td>\n",
       "      <td>0</td>\n",
       "      <td>0</td>\n",
       "      <td>0</td>\n",
       "      <td>0</td>\n",
       "      <td>0</td>\n",
       "      <td>0</td>\n",
       "      <td>0</td>\n",
       "      <td>0</td>\n",
       "      <td>0</td>\n",
       "      <td>0</td>\n",
       "      <td>0</td>\n",
       "      <td>0</td>\n",
       "    </tr>\n",
       "    <tr>\n",
       "      <th>3</th>\n",
       "      <td>4</td>\n",
       "      <td>2021-01-01</td>\n",
       "      <td>6</td>\n",
       "      <td>7</td>\n",
       "      <td>2.0</td>\n",
       "      <td>2017-10-04</td>\n",
       "      <td>0</td>\n",
       "      <td>0</td>\n",
       "      <td>0</td>\n",
       "      <td>0</td>\n",
       "      <td>0</td>\n",
       "      <td>0</td>\n",
       "      <td>0</td>\n",
       "      <td>0</td>\n",
       "      <td>0</td>\n",
       "      <td>0</td>\n",
       "      <td>0</td>\n",
       "      <td>0</td>\n",
       "      <td>0</td>\n",
       "    </tr>\n",
       "    <tr>\n",
       "      <th>4</th>\n",
       "      <td>5</td>\n",
       "      <td>2021-01-01</td>\n",
       "      <td>4</td>\n",
       "      <td>6</td>\n",
       "      <td>NaN</td>\n",
       "      <td>2020-06-08</td>\n",
       "      <td>0</td>\n",
       "      <td>0</td>\n",
       "      <td>0</td>\n",
       "      <td>0</td>\n",
       "      <td>0</td>\n",
       "      <td>0</td>\n",
       "      <td>1</td>\n",
       "      <td>0</td>\n",
       "      <td>0</td>\n",
       "      <td>0</td>\n",
       "      <td>1</td>\n",
       "      <td>0</td>\n",
       "      <td>0</td>\n",
       "    </tr>\n",
       "  </tbody>\n",
       "</table>\n",
       "</div>"
      ],
      "text/plain": [
       "   id  created_at  campaign_var_1  campaign_var_2  products_purchased  \\\n",
       "0   1  2021-01-01               1               2                 2.0   \n",
       "1   2  2021-01-01               2               1                 2.0   \n",
       "2   3  2021-01-01               9               3                 3.0   \n",
       "3   4  2021-01-01               6               7                 2.0   \n",
       "4   5  2021-01-01               4               6                 NaN   \n",
       "\n",
       "  signup_date  user_activity_var_1  user_activity_var_2  user_activity_var_3  \\\n",
       "0  2020-09-24                    0                    0                    0   \n",
       "1  2020-09-19                    1                    0                    1   \n",
       "2  2021-08-11                    1                    0                    0   \n",
       "3  2017-10-04                    0                    0                    0   \n",
       "4  2020-06-08                    0                    0                    0   \n",
       "\n",
       "   user_activity_var_4  user_activity_var_5  user_activity_var_6  \\\n",
       "0                    0                    0                    0   \n",
       "1                    0                    0                    0   \n",
       "2                    0                    0                    0   \n",
       "3                    0                    0                    0   \n",
       "4                    0                    0                    0   \n",
       "\n",
       "   user_activity_var_7  user_activity_var_8  user_activity_var_9  \\\n",
       "0                    1                    1                    0   \n",
       "1                    1                    0                    0   \n",
       "2                    0                    0                    0   \n",
       "3                    0                    0                    0   \n",
       "4                    1                    0                    0   \n",
       "\n",
       "   user_activity_var_10  user_activity_var_11  user_activity_var_12  buy  \n",
       "0                     0                     0                     0    0  \n",
       "1                     0                     0                     0    0  \n",
       "2                     0                     0                     0    0  \n",
       "3                     0                     0                     0    0  \n",
       "4                     0                     1                     0    0  "
      ]
     },
     "execution_count": 4,
     "metadata": {},
     "output_type": "execute_result"
    }
   ],
   "source": [
    "df=pd.read_csv('train.csv')\n",
    "df.head()"
   ]
  },
  {
   "cell_type": "code",
   "execution_count": 5,
   "id": "dd79d58e",
   "metadata": {},
   "outputs": [
    {
     "data": {
      "text/plain": [
       "(39161, 19)"
      ]
     },
     "execution_count": 5,
     "metadata": {},
     "output_type": "execute_result"
    }
   ],
   "source": [
    "df.shape #shape of the dataset"
   ]
  },
  {
   "cell_type": "code",
   "execution_count": 6,
   "id": "1f9dd0d0",
   "metadata": {},
   "outputs": [
    {
     "name": "stdout",
     "output_type": "stream",
     "text": [
      "<class 'pandas.core.frame.DataFrame'>\n",
      "RangeIndex: 39161 entries, 0 to 39160\n",
      "Data columns (total 19 columns):\n",
      " #   Column                Non-Null Count  Dtype  \n",
      "---  ------                --------------  -----  \n",
      " 0   id                    39161 non-null  int64  \n",
      " 1   created_at            39161 non-null  object \n",
      " 2   campaign_var_1        39161 non-null  int64  \n",
      " 3   campaign_var_2        39161 non-null  int64  \n",
      " 4   products_purchased    18250 non-null  float64\n",
      " 5   signup_date           24048 non-null  object \n",
      " 6   user_activity_var_1   39161 non-null  int64  \n",
      " 7   user_activity_var_2   39161 non-null  int64  \n",
      " 8   user_activity_var_3   39161 non-null  int64  \n",
      " 9   user_activity_var_4   39161 non-null  int64  \n",
      " 10  user_activity_var_5   39161 non-null  int64  \n",
      " 11  user_activity_var_6   39161 non-null  int64  \n",
      " 12  user_activity_var_7   39161 non-null  int64  \n",
      " 13  user_activity_var_8   39161 non-null  int64  \n",
      " 14  user_activity_var_9   39161 non-null  int64  \n",
      " 15  user_activity_var_10  39161 non-null  int64  \n",
      " 16  user_activity_var_11  39161 non-null  int64  \n",
      " 17  user_activity_var_12  39161 non-null  int64  \n",
      " 18  buy                   39161 non-null  int64  \n",
      "dtypes: float64(1), int64(16), object(2)\n",
      "memory usage: 5.7+ MB\n"
     ]
    }
   ],
   "source": [
    "df.info() #info about the dataset"
   ]
  },
  {
   "cell_type": "code",
   "execution_count": 7,
   "id": "97013a49",
   "metadata": {},
   "outputs": [
    {
     "data": {
      "text/html": [
       "<div>\n",
       "<style scoped>\n",
       "    .dataframe tbody tr th:only-of-type {\n",
       "        vertical-align: middle;\n",
       "    }\n",
       "\n",
       "    .dataframe tbody tr th {\n",
       "        vertical-align: top;\n",
       "    }\n",
       "\n",
       "    .dataframe thead th {\n",
       "        text-align: right;\n",
       "    }\n",
       "</style>\n",
       "<table border=\"1\" class=\"dataframe\">\n",
       "  <thead>\n",
       "    <tr style=\"text-align: right;\">\n",
       "      <th></th>\n",
       "      <th>id</th>\n",
       "      <th>campaign_var_1</th>\n",
       "      <th>campaign_var_2</th>\n",
       "      <th>products_purchased</th>\n",
       "      <th>user_activity_var_1</th>\n",
       "      <th>user_activity_var_2</th>\n",
       "      <th>user_activity_var_3</th>\n",
       "      <th>user_activity_var_4</th>\n",
       "      <th>user_activity_var_5</th>\n",
       "      <th>user_activity_var_6</th>\n",
       "      <th>user_activity_var_7</th>\n",
       "      <th>user_activity_var_8</th>\n",
       "      <th>user_activity_var_9</th>\n",
       "      <th>user_activity_var_10</th>\n",
       "      <th>user_activity_var_11</th>\n",
       "      <th>user_activity_var_12</th>\n",
       "      <th>buy</th>\n",
       "    </tr>\n",
       "  </thead>\n",
       "  <tbody>\n",
       "    <tr>\n",
       "      <th>count</th>\n",
       "      <td>39161.000000</td>\n",
       "      <td>39161.000000</td>\n",
       "      <td>39161.000000</td>\n",
       "      <td>18250.000000</td>\n",
       "      <td>39161.000000</td>\n",
       "      <td>39161.000000</td>\n",
       "      <td>39161.000000</td>\n",
       "      <td>39161.000000</td>\n",
       "      <td>39161.000000</td>\n",
       "      <td>39161.000000</td>\n",
       "      <td>39161.000000</td>\n",
       "      <td>39161.000000</td>\n",
       "      <td>39161.000000</td>\n",
       "      <td>39161.000000</td>\n",
       "      <td>39161.000000</td>\n",
       "      <td>39161.000000</td>\n",
       "      <td>39161.000000</td>\n",
       "    </tr>\n",
       "    <tr>\n",
       "      <th>mean</th>\n",
       "      <td>19581.000000</td>\n",
       "      <td>6.523812</td>\n",
       "      <td>6.452746</td>\n",
       "      <td>2.154137</td>\n",
       "      <td>0.400092</td>\n",
       "      <td>0.006716</td>\n",
       "      <td>0.102832</td>\n",
       "      <td>0.011465</td>\n",
       "      <td>0.151503</td>\n",
       "      <td>0.499834</td>\n",
       "      <td>0.286612</td>\n",
       "      <td>0.174434</td>\n",
       "      <td>0.011440</td>\n",
       "      <td>0.000383</td>\n",
       "      <td>0.218942</td>\n",
       "      <td>0.000562</td>\n",
       "      <td>0.051020</td>\n",
       "    </tr>\n",
       "    <tr>\n",
       "      <th>std</th>\n",
       "      <td>11304.951283</td>\n",
       "      <td>3.472944</td>\n",
       "      <td>2.614296</td>\n",
       "      <td>0.779815</td>\n",
       "      <td>0.509194</td>\n",
       "      <td>0.081676</td>\n",
       "      <td>0.303743</td>\n",
       "      <td>0.106463</td>\n",
       "      <td>0.359681</td>\n",
       "      <td>0.558166</td>\n",
       "      <td>0.455784</td>\n",
       "      <td>0.379689</td>\n",
       "      <td>0.106346</td>\n",
       "      <td>0.019568</td>\n",
       "      <td>0.431544</td>\n",
       "      <td>0.023696</td>\n",
       "      <td>0.220042</td>\n",
       "    </tr>\n",
       "    <tr>\n",
       "      <th>min</th>\n",
       "      <td>1.000000</td>\n",
       "      <td>1.000000</td>\n",
       "      <td>1.000000</td>\n",
       "      <td>1.000000</td>\n",
       "      <td>0.000000</td>\n",
       "      <td>0.000000</td>\n",
       "      <td>0.000000</td>\n",
       "      <td>0.000000</td>\n",
       "      <td>0.000000</td>\n",
       "      <td>0.000000</td>\n",
       "      <td>0.000000</td>\n",
       "      <td>0.000000</td>\n",
       "      <td>0.000000</td>\n",
       "      <td>0.000000</td>\n",
       "      <td>0.000000</td>\n",
       "      <td>0.000000</td>\n",
       "      <td>0.000000</td>\n",
       "    </tr>\n",
       "    <tr>\n",
       "      <th>25%</th>\n",
       "      <td>9791.000000</td>\n",
       "      <td>4.000000</td>\n",
       "      <td>5.000000</td>\n",
       "      <td>2.000000</td>\n",
       "      <td>0.000000</td>\n",
       "      <td>0.000000</td>\n",
       "      <td>0.000000</td>\n",
       "      <td>0.000000</td>\n",
       "      <td>0.000000</td>\n",
       "      <td>0.000000</td>\n",
       "      <td>0.000000</td>\n",
       "      <td>0.000000</td>\n",
       "      <td>0.000000</td>\n",
       "      <td>0.000000</td>\n",
       "      <td>0.000000</td>\n",
       "      <td>0.000000</td>\n",
       "      <td>0.000000</td>\n",
       "    </tr>\n",
       "    <tr>\n",
       "      <th>50%</th>\n",
       "      <td>19581.000000</td>\n",
       "      <td>6.000000</td>\n",
       "      <td>6.000000</td>\n",
       "      <td>2.000000</td>\n",
       "      <td>0.000000</td>\n",
       "      <td>0.000000</td>\n",
       "      <td>0.000000</td>\n",
       "      <td>0.000000</td>\n",
       "      <td>0.000000</td>\n",
       "      <td>0.000000</td>\n",
       "      <td>0.000000</td>\n",
       "      <td>0.000000</td>\n",
       "      <td>0.000000</td>\n",
       "      <td>0.000000</td>\n",
       "      <td>0.000000</td>\n",
       "      <td>0.000000</td>\n",
       "      <td>0.000000</td>\n",
       "    </tr>\n",
       "    <tr>\n",
       "      <th>75%</th>\n",
       "      <td>29371.000000</td>\n",
       "      <td>9.000000</td>\n",
       "      <td>8.000000</td>\n",
       "      <td>3.000000</td>\n",
       "      <td>1.000000</td>\n",
       "      <td>0.000000</td>\n",
       "      <td>0.000000</td>\n",
       "      <td>0.000000</td>\n",
       "      <td>0.000000</td>\n",
       "      <td>1.000000</td>\n",
       "      <td>1.000000</td>\n",
       "      <td>0.000000</td>\n",
       "      <td>0.000000</td>\n",
       "      <td>0.000000</td>\n",
       "      <td>0.000000</td>\n",
       "      <td>0.000000</td>\n",
       "      <td>0.000000</td>\n",
       "    </tr>\n",
       "    <tr>\n",
       "      <th>max</th>\n",
       "      <td>39161.000000</td>\n",
       "      <td>16.000000</td>\n",
       "      <td>15.000000</td>\n",
       "      <td>4.000000</td>\n",
       "      <td>3.000000</td>\n",
       "      <td>1.000000</td>\n",
       "      <td>1.000000</td>\n",
       "      <td>1.000000</td>\n",
       "      <td>2.000000</td>\n",
       "      <td>3.000000</td>\n",
       "      <td>2.000000</td>\n",
       "      <td>2.000000</td>\n",
       "      <td>1.000000</td>\n",
       "      <td>1.000000</td>\n",
       "      <td>4.000000</td>\n",
       "      <td>1.000000</td>\n",
       "      <td>1.000000</td>\n",
       "    </tr>\n",
       "  </tbody>\n",
       "</table>\n",
       "</div>"
      ],
      "text/plain": [
       "                 id  campaign_var_1  campaign_var_2  products_purchased  \\\n",
       "count  39161.000000    39161.000000    39161.000000        18250.000000   \n",
       "mean   19581.000000        6.523812        6.452746            2.154137   \n",
       "std    11304.951283        3.472944        2.614296            0.779815   \n",
       "min        1.000000        1.000000        1.000000            1.000000   \n",
       "25%     9791.000000        4.000000        5.000000            2.000000   \n",
       "50%    19581.000000        6.000000        6.000000            2.000000   \n",
       "75%    29371.000000        9.000000        8.000000            3.000000   \n",
       "max    39161.000000       16.000000       15.000000            4.000000   \n",
       "\n",
       "       user_activity_var_1  user_activity_var_2  user_activity_var_3  \\\n",
       "count         39161.000000         39161.000000         39161.000000   \n",
       "mean              0.400092             0.006716             0.102832   \n",
       "std               0.509194             0.081676             0.303743   \n",
       "min               0.000000             0.000000             0.000000   \n",
       "25%               0.000000             0.000000             0.000000   \n",
       "50%               0.000000             0.000000             0.000000   \n",
       "75%               1.000000             0.000000             0.000000   \n",
       "max               3.000000             1.000000             1.000000   \n",
       "\n",
       "       user_activity_var_4  user_activity_var_5  user_activity_var_6  \\\n",
       "count         39161.000000         39161.000000         39161.000000   \n",
       "mean              0.011465             0.151503             0.499834   \n",
       "std               0.106463             0.359681             0.558166   \n",
       "min               0.000000             0.000000             0.000000   \n",
       "25%               0.000000             0.000000             0.000000   \n",
       "50%               0.000000             0.000000             0.000000   \n",
       "75%               0.000000             0.000000             1.000000   \n",
       "max               1.000000             2.000000             3.000000   \n",
       "\n",
       "       user_activity_var_7  user_activity_var_8  user_activity_var_9  \\\n",
       "count         39161.000000         39161.000000         39161.000000   \n",
       "mean              0.286612             0.174434             0.011440   \n",
       "std               0.455784             0.379689             0.106346   \n",
       "min               0.000000             0.000000             0.000000   \n",
       "25%               0.000000             0.000000             0.000000   \n",
       "50%               0.000000             0.000000             0.000000   \n",
       "75%               1.000000             0.000000             0.000000   \n",
       "max               2.000000             2.000000             1.000000   \n",
       "\n",
       "       user_activity_var_10  user_activity_var_11  user_activity_var_12  \\\n",
       "count          39161.000000          39161.000000          39161.000000   \n",
       "mean               0.000383              0.218942              0.000562   \n",
       "std                0.019568              0.431544              0.023696   \n",
       "min                0.000000              0.000000              0.000000   \n",
       "25%                0.000000              0.000000              0.000000   \n",
       "50%                0.000000              0.000000              0.000000   \n",
       "75%                0.000000              0.000000              0.000000   \n",
       "max                1.000000              4.000000              1.000000   \n",
       "\n",
       "                buy  \n",
       "count  39161.000000  \n",
       "mean       0.051020  \n",
       "std        0.220042  \n",
       "min        0.000000  \n",
       "25%        0.000000  \n",
       "50%        0.000000  \n",
       "75%        0.000000  \n",
       "max        1.000000  "
      ]
     },
     "execution_count": 7,
     "metadata": {},
     "output_type": "execute_result"
    }
   ],
   "source": [
    "df.describe() #dataset descriptionj"
   ]
  },
  {
   "cell_type": "code",
   "execution_count": 8,
   "id": "b8229d49",
   "metadata": {},
   "outputs": [
    {
     "data": {
      "text/plain": [
       "id                          0\n",
       "created_at                  0\n",
       "campaign_var_1              0\n",
       "campaign_var_2              0\n",
       "products_purchased      20911\n",
       "signup_date             15113\n",
       "user_activity_var_1         0\n",
       "user_activity_var_2         0\n",
       "user_activity_var_3         0\n",
       "user_activity_var_4         0\n",
       "user_activity_var_5         0\n",
       "user_activity_var_6         0\n",
       "user_activity_var_7         0\n",
       "user_activity_var_8         0\n",
       "user_activity_var_9         0\n",
       "user_activity_var_10        0\n",
       "user_activity_var_11        0\n",
       "user_activity_var_12        0\n",
       "buy                         0\n",
       "dtype: int64"
      ]
     },
     "execution_count": 8,
     "metadata": {},
     "output_type": "execute_result"
    }
   ],
   "source": [
    "df.isna().sum() #check for null values"
   ]
  },
  {
   "cell_type": "code",
   "execution_count": 9,
   "id": "157daae7",
   "metadata": {},
   "outputs": [
    {
     "data": {
      "text/plain": [
       "id                      39161\n",
       "created_at                365\n",
       "campaign_var_1             16\n",
       "campaign_var_2             15\n",
       "products_purchased          4\n",
       "signup_date              1800\n",
       "user_activity_var_1         4\n",
       "user_activity_var_2         2\n",
       "user_activity_var_3         2\n",
       "user_activity_var_4         2\n",
       "user_activity_var_5         3\n",
       "user_activity_var_6         4\n",
       "user_activity_var_7         3\n",
       "user_activity_var_8         3\n",
       "user_activity_var_9         2\n",
       "user_activity_var_10        2\n",
       "user_activity_var_11        5\n",
       "user_activity_var_12        2\n",
       "buy                         2\n",
       "dtype: int64"
      ]
     },
     "execution_count": 9,
     "metadata": {},
     "output_type": "execute_result"
    }
   ],
   "source": [
    "df.nunique() #check for unique values in each columns"
   ]
  },
  {
   "cell_type": "code",
   "execution_count": 10,
   "id": "aa7e5ba1",
   "metadata": {
    "scrolled": true
   },
   "outputs": [
    {
     "data": {
      "text/plain": [
       "<AxesSubplot:xlabel='products_purchased', ylabel='count'>"
      ]
     },
     "execution_count": 10,
     "metadata": {},
     "output_type": "execute_result"
    },
    {
     "data": {
      "image/png": "[encoded data removed]",
      "text/plain": [
       "<Figure size 432x288 with 1 Axes>"
      ]
     },
     "metadata": {
      "needs_background": "light"
     },
     "output_type": "display_data"
    }
   ],
   "source": [
    "sns.countplot(x=df['products_purchased'], data=df) #countplot for products purchased"
   ]
  },
  {
   "cell_type": "code",
   "execution_count": 11,
   "id": "9555553e",
   "metadata": {},
   "outputs": [],
   "source": [
    "df['products_purchased'].fillna(1,inplace=True) #filling missing values in product purchased with minimum number\n"
   ]
  },
  {
   "cell_type": "code",
   "execution_count": 12,
   "id": "b7ee2e77",
   "metadata": {
    "scrolled": true
   },
   "outputs": [
    {
     "data": {
      "text/plain": [
       "<AxesSubplot:xlabel='products_purchased', ylabel='count'>"
      ]
     },
     "execution_count": 12,
     "metadata": {},
     "output_type": "execute_result"
    },
    {
     "data": {
      "image/png": "[encoded data removed]",
      "text/plain": [
       "<Figure size 432x288 with 1 Axes>"
      ]
     },
     "metadata": {
      "needs_background": "light"
     },
     "output_type": "display_data"
    }
   ],
   "source": [
    "sns.countplot(x=df['products_purchased'], data=df) #count plot after filling missing values"
   ]
  },
  {
   "cell_type": "code",
   "execution_count": 13,
   "id": "d161e0bc",
   "metadata": {},
   "outputs": [
    {
     "data": {
      "text/plain": [
       "id                      0\n",
       "created_at              0\n",
       "campaign_var_1          0\n",
       "campaign_var_2          0\n",
       "products_purchased      0\n",
       "signup_date             0\n",
       "user_activity_var_1     0\n",
       "user_activity_var_2     0\n",
       "user_activity_var_3     0\n",
       "user_activity_var_4     0\n",
       "user_activity_var_5     0\n",
       "user_activity_var_6     0\n",
       "user_activity_var_7     0\n",
       "user_activity_var_8     0\n",
       "user_activity_var_9     0\n",
       "user_activity_var_10    0\n",
       "user_activity_var_11    0\n",
       "user_activity_var_12    0\n",
       "buy                     0\n",
       "dtype: int64"
      ]
     },
     "execution_count": 13,
     "metadata": {},
     "output_type": "execute_result"
    }
   ],
   "source": [
    "df['signup_date'].fillna(df['signup_date'].mode()[0],inplace=True) # filling the missing values in signup date with most number occured\n",
    "df.isna().sum()"
   ]
  },
  {
   "cell_type": "code",
   "execution_count": 14,
   "id": "efce1104",
   "metadata": {
    "scrolled": true
   },
   "outputs": [
    {
     "data": {
      "text/plain": [
       "<AxesSubplot:xlabel='campaign_var_1', ylabel='count'>"
      ]
     },
     "execution_count": 14,
     "metadata": {},
     "output_type": "execute_result"
    },
    {
     "data": {
      "image/png": "[encoded data removed]",
      "text/plain": [
       "<Figure size 432x288 with 1 Axes>"
      ]
     },
     "metadata": {
      "needs_background": "light"
     },
     "output_type": "display_data"
    }
   ],
   "source": [
    "sns.countplot(x=df['campaign_var_1'], data=df) #count plot for campaign_var_1"
   ]
  },
  {
   "cell_type": "code",
   "execution_count": 15,
   "id": "5caf6397",
   "metadata": {},
   "outputs": [
    {
     "data": {
      "text/plain": [
       "<AxesSubplot:xlabel='campaign_var_2', ylabel='count'>"
      ]
     },
     "execution_count": 15,
     "metadata": {},
     "output_type": "execute_result"
    },
    {
     "data": {
      "image/png": "[encoded data removed]",
      "text/plain": [
       "<Figure size 432x288 with 1 Axes>"
      ]
     },
     "metadata": {
      "needs_background": "light"
     },
     "output_type": "display_data"
    }
   ],
   "source": [
    "sns.countplot(x=df['campaign_var_2'], data=df) #count plot for campaign_var_2"
   ]
  },
  {
   "cell_type": "code",
   "execution_count": 16,
   "id": "a932988a",
   "metadata": {
    "scrolled": true
   },
   "outputs": [
    {
     "data": {
      "text/plain": [
       "<AxesSubplot:xlabel='user_activity_var_1', ylabel='count'>"
      ]
     },
     "execution_count": 16,
     "metadata": {},
     "output_type": "execute_result"
    },
    {
     "data": {
      "image/png": "[encoded data removed]",
      "text/plain": [
       "<Figure size 432x288 with 1 Axes>"
      ]
     },
     "metadata": {
      "needs_background": "light"
     },
     "output_type": "display_data"
    }
   ],
   "source": [
    "sns.countplot(x=df['user_activity_var_1'], data=df) #count plot for user_activity_var_1"
   ]
  },
  {
   "cell_type": "code",
   "execution_count": 17,
   "id": "c8caefc3",
   "metadata": {
    "scrolled": true
   },
   "outputs": [
    {
     "data": {
      "text/plain": [
       "<AxesSubplot:xlabel='user_activity_var_2', ylabel='count'>"
      ]
     },
     "execution_count": 17,
     "metadata": {},
     "output_type": "execute_result"
    },
    {
     "data": {
      "image/png": "[encoded data removed]",
      "text/plain": [
       "<Figure size 432x288 with 1 Axes>"
      ]
     },
     "metadata": {
      "needs_background": "light"
     },
     "output_type": "display_data"
    }
   ],
   "source": [
    "sns.countplot(x=df['user_activity_var_2'], data=df) #count plot for user_activity_var_2"
   ]
  },
  {
   "cell_type": "code",
   "execution_count": 18,
   "id": "3f89b764",
   "metadata": {
    "scrolled": false
   },
   "outputs": [
    {
     "data": {
      "text/plain": [
       "<AxesSubplot:xlabel='user_activity_var_3', ylabel='count'>"
      ]
     },
     "execution_count": 18,
     "metadata": {},
     "output_type": "execute_result"
    },
    {
     "data": {
      "image/png": "[encoded data removed]",
      "text/plain": [
       "<Figure size 432x288 with 1 Axes>"
      ]
     },
     "metadata": {
      "needs_background": "light"
     },
     "output_type": "display_data"
    }
   ],
   "source": [
    "sns.countplot(x=df['user_activity_var_3'], data=df) #count plot for user_activity_var_3"
   ]
  },
  {
   "cell_type": "code",
   "execution_count": 19,
   "id": "790e49c4",
   "metadata": {},
   "outputs": [
    {
     "data": {
      "text/plain": [
       "<AxesSubplot:xlabel='user_activity_var_4', ylabel='count'>"
      ]
     },
     "execution_count": 19,
     "metadata": {},
     "output_type": "execute_result"
    },
    {
     "data": {
      "image/png": "[encoded data removed]",
      "text/plain": [
       "<Figure size 432x288 with 1 Axes>"
      ]
     },
     "metadata": {
      "needs_background": "light"
     },
     "output_type": "display_data"
    }
   ],
   "source": [
    "sns.countplot(x=df['user_activity_var_4'], data=df) #count plot for user_activity_var_4"
   ]
  },
  {
   "cell_type": "code",
   "execution_count": 20,
   "id": "8c643599",
   "metadata": {
    "scrolled": true
   },
   "outputs": [
    {
     "name": "stdout",
     "output_type": "stream",
     "text": [
      "0    33244\n",
      "1     5901\n",
      "2       16\n",
      "Name: user_activity_var_5, dtype: int64\n"
     ]
    },
    {
     "data": {
      "image/png": "[encoded data removed]",
      "text/plain": [
       "<Figure size 432x288 with 1 Axes>"
      ]
     },
     "metadata": {
      "needs_background": "light"
     },
     "output_type": "display_data"
    }
   ],
   "source": [
    "sns.countplot(x=df['user_activity_var_5'], data=df) #count plot for user_activity_var_5\n",
    "print(df['user_activity_var_5'].value_counts()) "
   ]
  },
  {
   "cell_type": "code",
   "execution_count": 21,
   "id": "70bd3b34",
   "metadata": {
    "scrolled": false
   },
   "outputs": [
    {
     "name": "stdout",
     "output_type": "stream",
     "text": [
      "0    20777\n",
      "1    17209\n",
      "2     1160\n",
      "3       15\n",
      "Name: user_activity_var_6, dtype: int64\n"
     ]
    },
    {
     "data": {
      "image/png": "[encoded data removed]",
      "text/plain": [
       "<Figure size 432x288 with 1 Axes>"
      ]
     },
     "metadata": {
      "needs_background": "light"
     },
     "output_type": "display_data"
    }
   ],
   "source": [
    "sns.countplot(x=df['user_activity_var_6'], data=df) #count plot for user_activity_var_6\n",
    "print(df['user_activity_var_6'].value_counts())"
   ]
  },
  {
   "cell_type": "code",
   "execution_count": 22,
   "id": "8f92a9a2",
   "metadata": {
    "scrolled": true
   },
   "outputs": [
    {
     "name": "stdout",
     "output_type": "stream",
     "text": [
      "0    28001\n",
      "1    11096\n",
      "2       64\n",
      "Name: user_activity_var_7, dtype: int64\n"
     ]
    },
    {
     "data": {
      "image/png": "[encoded data removed]",
      "text/plain": [
       "<Figure size 432x288 with 1 Axes>"
      ]
     },
     "metadata": {
      "needs_background": "light"
     },
     "output_type": "display_data"
    }
   ],
   "source": [
    "sns.countplot(x=df['user_activity_var_7'], data=df) #count plot for user_activity_var_7\n",
    "print(df['user_activity_var_7'].value_counts())"
   ]
  },
  {
   "cell_type": "code",
   "execution_count": 23,
   "id": "a9c3018c",
   "metadata": {
    "scrolled": true
   },
   "outputs": [
    {
     "name": "stdout",
     "output_type": "stream",
     "text": [
      "0    32333\n",
      "1     6825\n",
      "2        3\n",
      "Name: user_activity_var_8, dtype: int64\n"
     ]
    },
    {
     "data": {
      "image/png": "[encoded data removed]",
      "text/plain": [
       "<Figure size 432x288 with 1 Axes>"
      ]
     },
     "metadata": {
      "needs_background": "light"
     },
     "output_type": "display_data"
    }
   ],
   "source": [
    "sns.countplot(x=df['user_activity_var_8'], data=df) #count plot for user_activity_var_8\n",
    "print(df['user_activity_var_8'].value_counts())"
   ]
  },
  {
   "cell_type": "code",
   "execution_count": 24,
   "id": "afeae64e",
   "metadata": {
    "scrolled": true
   },
   "outputs": [
    {
     "name": "stdout",
     "output_type": "stream",
     "text": [
      "0    38713\n",
      "1      448\n",
      "Name: user_activity_var_9, dtype: int64\n"
     ]
    },
    {
     "data": {
      "image/png": "[encoded data removed]",
      "text/plain": [
       "<Figure size 432x288 with 1 Axes>"
      ]
     },
     "metadata": {
      "needs_background": "light"
     },
     "output_type": "display_data"
    }
   ],
   "source": [
    "sns.countplot(x=df['user_activity_var_9'], data=df) #count plot for user_activity_var_9\n",
    "print(df['user_activity_var_9'].value_counts())"
   ]
  },
  {
   "cell_type": "code",
   "execution_count": 25,
   "id": "8a30a056",
   "metadata": {
    "scrolled": true
   },
   "outputs": [
    {
     "name": "stdout",
     "output_type": "stream",
     "text": [
      "0    39146\n",
      "1       15\n",
      "Name: user_activity_var_10, dtype: int64\n"
     ]
    },
    {
     "data": {
      "image/png": "[encoded data removed]",
      "text/plain": [
       "<Figure size 432x288 with 1 Axes>"
      ]
     },
     "metadata": {
      "needs_background": "light"
     },
     "output_type": "display_data"
    }
   ],
   "source": [
    "sns.countplot(x=df['user_activity_var_10'], data=df) #count plot for user_activity_var_10\n",
    "print(df['user_activity_var_10'].value_counts())"
   ]
  },
  {
   "cell_type": "code",
   "execution_count": 26,
   "id": "cf824072",
   "metadata": {
    "scrolled": false
   },
   "outputs": [
    {
     "name": "stdout",
     "output_type": "stream",
     "text": [
      "0    30859\n",
      "1     8055\n",
      "2      223\n",
      "3       23\n",
      "4        1\n",
      "Name: user_activity_var_11, dtype: int64\n"
     ]
    },
    {
     "data": {
      "image/png": "[encoded data removed]",
      "text/plain": [
       "<Figure size 432x288 with 1 Axes>"
      ]
     },
     "metadata": {
      "needs_background": "light"
     },
     "output_type": "display_data"
    }
   ],
   "source": [
    "sns.countplot(x=df['user_activity_var_11'], data=df) #count plot for user_activity_var_11\n",
    "print(df['user_activity_var_11'].value_counts())"
   ]
  },
  {
   "cell_type": "code",
   "execution_count": 27,
   "id": "be53963f",
   "metadata": {
    "scrolled": true
   },
   "outputs": [
    {
     "name": "stdout",
     "output_type": "stream",
     "text": [
      "0    39139\n",
      "1       22\n",
      "Name: user_activity_var_12, dtype: int64\n"
     ]
    },
    {
     "data": {
      "image/png": "[encoded data removed]",
      "text/plain": [
       "<Figure size 432x288 with 1 Axes>"
      ]
     },
     "metadata": {
      "needs_background": "light"
     },
     "output_type": "display_data"
    }
   ],
   "source": [
    "sns.countplot(x=df['user_activity_var_12'], data=df) #count plot for user_activity_var_12\n",
    "print(df['user_activity_var_12'].value_counts())"
   ]
  },
  {
   "cell_type": "code",
   "execution_count": 28,
   "id": "c4bb4098",
   "metadata": {},
   "outputs": [
    {
     "name": "stdout",
     "output_type": "stream",
     "text": [
      "0    37163\n",
      "1     1998\n",
      "Name: buy, dtype: int64\n"
     ]
    },
    {
     "data": {
      "image/png": "[encoded data removed]",
      "text/plain": [
       "<Figure size 432x288 with 1 Axes>"
      ]
     },
     "metadata": {
      "needs_background": "light"
     },
     "output_type": "display_data"
    }
   ],
   "source": [
    "sns.countplot(x=df['buy'], data=df)\n",
    "print(df['buy'].value_counts())"
   ]
  },
  {
   "cell_type": "code",
   "execution_count": 29,
   "id": "aec989c2",
   "metadata": {},
   "outputs": [],
   "source": [
    "#correlation graph"
   ]
  },
  {
   "cell_type": "code",
   "execution_count": 30,
   "id": "588404f0",
   "metadata": {},
   "outputs": [
    {
     "data": {
      "image/png": "[encoded data removed]",
      "text/plain": [
       "<Figure size 1080x576 with 2 Axes>"
      ]
     },
     "metadata": {
      "needs_background": "light"
     },
     "output_type": "display_data"
    }
   ],
   "source": [
    "corr=df.corr()\n",
    "plt.figure(figsize=(15,8))\n",
    "sns.heatmap(corr,cmap='coolwarm',annot=True)\n",
    "plt.show()"
   ]
  },
  {
   "cell_type": "code",
   "execution_count": 31,
   "id": "c4ac8070",
   "metadata": {},
   "outputs": [
    {
     "data": {
      "text/plain": [
       "Text(0.5, 1.0, 'campaign_var_1')"
      ]
     },
     "execution_count": 31,
     "metadata": {},
     "output_type": "execute_result"
    },
    {
     "data": {
      "image/png": "[encoded data removed]",
      "text/plain": [
       "<Figure size 720x288 with 1 Axes>"
      ]
     },
     "metadata": {
      "needs_background": "light"
     },
     "output_type": "display_data"
    }
   ],
   "source": [
    "plt.figure(figsize=(10,4)) \n",
    "sns.barplot(x='campaign_var_1',y='buy',data=df)\n",
    "plt.title(\"campaign_var_1\")"
   ]
  },
  {
   "cell_type": "code",
   "execution_count": 32,
   "id": "4d601758",
   "metadata": {},
   "outputs": [
    {
     "data": {
      "text/plain": [
       "Text(0.5, 1.0, 'campaign_var_1')"
      ]
     },
     "execution_count": 32,
     "metadata": {},
     "output_type": "execute_result"
    },
    {
     "data": {
      "image/png": "[encoded data removed]",
      "text/plain": [
       "<Figure size 720x288 with 1 Axes>"
      ]
     },
     "metadata": {
      "needs_background": "light"
     },
     "output_type": "display_data"
    }
   ],
   "source": [
    "plt.figure(figsize=(10,4)) \n",
    "sns.barplot(x='campaign_var_2',y='buy',data=df)\n",
    "plt.title(\"campaign_var_1\")"
   ]
  },
  {
   "cell_type": "code",
   "execution_count": 33,
   "id": "c4c441a9",
   "metadata": {},
   "outputs": [
    {
     "data": {
      "text/plain": [
       "Text(0.5, 1.0, 'user_activity_var_4')"
      ]
     },
     "execution_count": 33,
     "metadata": {},
     "output_type": "execute_result"
    },
    {
     "data": {
      "image/png": "[encoded data removed]",
      "text/plain": [
       "<Figure size 1296x360 with 4 Axes>"
      ]
     },
     "metadata": {
      "needs_background": "light"
     },
     "output_type": "display_data"
    }
   ],
   "source": [
    "#bar plots shows the user activity against buy\n",
    "plt.figure(figsize=(18,5)) \n",
    "plt.subplot(141)\n",
    "sns.barplot(x='user_activity_var_1',y='buy',data=df)\n",
    "plt.title(\"user_activity_var_1\")\n",
    "\n",
    "plt.subplot(142)\n",
    "sns.barplot(x='user_activity_var_2',y='buy',data=df)\n",
    "plt.title(\"user_activity_var_2\")\n",
    "\n",
    "plt.subplot(143)\n",
    "sns.barplot(x='user_activity_var_3',y='buy',data=df)\n",
    "plt.title(\"user_activity_var_3\")\n",
    "\n",
    "plt.subplot(144)\n",
    "sns.barplot(x='user_activity_var_3',y='buy',data=df)\n",
    "plt.title(\"user_activity_var_4\")\n"
   ]
  },
  {
   "cell_type": "code",
   "execution_count": 34,
   "id": "f46d56e3",
   "metadata": {},
   "outputs": [
    {
     "data": {
      "text/plain": [
       "Text(0.5, 1.0, 'user_activity_var_9')"
      ]
     },
     "execution_count": 34,
     "metadata": {},
     "output_type": "execute_result"
    },
    {
     "data": {
      "image/png": "[encoded data removed]",
      "text/plain": [
       "<Figure size 1296x360 with 4 Axes>"
      ]
     },
     "metadata": {
      "needs_background": "light"
     },
     "output_type": "display_data"
    }
   ],
   "source": [
    "plt.figure(figsize=(18,5)) \n",
    "plt.subplot(141)\n",
    "sns.barplot(x='user_activity_var_5',y='buy',data=df)\n",
    "plt.title(\"user_activity_var_5\")\n",
    "\n",
    "plt.subplot(142)\n",
    "sns.barplot(x='user_activity_var_6',y='buy',data=df)\n",
    "plt.title(\"user_activity_var_6\")\n",
    "\n",
    "plt.subplot(143)\n",
    "sns.barplot(x='user_activity_var_7',y='buy',data=df)\n",
    "plt.title(\"user_activity_var_7\")\n",
    "\n",
    "plt.subplot(144)\n",
    "sns.barplot(x='user_activity_var_8',y='buy',data=df)\n",
    "plt.title(\"user_activity_var_9\")"
   ]
  },
  {
   "cell_type": "code",
   "execution_count": 35,
   "id": "92267344",
   "metadata": {},
   "outputs": [
    {
     "data": {
      "text/plain": [
       "Text(0.5, 1.0, 'user_activity_var_12')"
      ]
     },
     "execution_count": 35,
     "metadata": {},
     "output_type": "execute_result"
    },
    {
     "data": {
      "image/png": "[encoded data removed]",
      "text/plain": [
       "<Figure size 1296x360 with 4 Axes>"
      ]
     },
     "metadata": {
      "needs_background": "light"
     },
     "output_type": "display_data"
    }
   ],
   "source": [
    "plt.figure(figsize=(18,5)) \n",
    "plt.subplot(141)\n",
    "sns.barplot(x='user_activity_var_9',y='buy',data=df)\n",
    "plt.title(\"user_activity_var_9\")\n",
    "\n",
    "plt.subplot(142)\n",
    "sns.barplot(x='user_activity_var_10',y='buy',data=df)\n",
    "plt.title(\"user_activity_var_10\")\n",
    "\n",
    "plt.subplot(143)\n",
    "sns.barplot(x='user_activity_var_11',y='buy',data=df)\n",
    "plt.title(\"user_activity_var_11\")\n",
    "\n",
    "plt.subplot(144)\n",
    "sns.barplot(x='user_activity_var_12',y='buy',data=df)\n",
    "plt.title(\"user_activity_var_12\")"
   ]
  },
  {
   "cell_type": "code",
   "execution_count": 36,
   "id": "8474ca63",
   "metadata": {},
   "outputs": [
    {
     "name": "stdout",
     "output_type": "stream",
     "text": [
      "object\n"
     ]
    }
   ],
   "source": [
    "# created_at , signup_date data type\n",
    "print(df['created_at'].dtype)\n"
   ]
  },
  {
   "cell_type": "code",
   "execution_count": 37,
   "id": "ade8aa16",
   "metadata": {},
   "outputs": [],
   "source": [
    "# convert object values to datetime values"
   ]
  },
  {
   "cell_type": "code",
   "execution_count": 38,
   "id": "6720fa02",
   "metadata": {},
   "outputs": [],
   "source": [
    "df['createdDate'] = pd.to_datetime(df['created_at'])\n",
    "df['signupDate'] = pd.to_datetime(df['signup_date'])"
   ]
  },
  {
   "cell_type": "code",
   "execution_count": 39,
   "id": "a751dea2",
   "metadata": {},
   "outputs": [
    {
     "name": "stdout",
     "output_type": "stream",
     "text": [
      "datetime64[ns]\n"
     ]
    }
   ],
   "source": [
    "# created_at , signup_date\n",
    "print(df['createdDate'].dtype)"
   ]
  },
  {
   "cell_type": "code",
   "execution_count": 40,
   "id": "5b5dc8cc",
   "metadata": {},
   "outputs": [],
   "source": [
    "# extract date, year, month from date tiem value and store in another column"
   ]
  },
  {
   "cell_type": "code",
   "execution_count": 41,
   "id": "5cdd0d99",
   "metadata": {},
   "outputs": [],
   "source": [
    "df['cDate'] = df['createdDate'].dt.day\n",
    "df['cyear'] = df['createdDate'].dt.year\n",
    "df['cmonth'] = df['createdDate'].dt.month"
   ]
  },
  {
   "cell_type": "code",
   "execution_count": 42,
   "id": "c9d608a6",
   "metadata": {},
   "outputs": [],
   "source": [
    "df['signDate'] = df['signupDate'].dt.day\n",
    "df['signyear'] = df['signupDate'].dt.year\n",
    "df['signmonth'] = df['signupDate'].dt.month"
   ]
  },
  {
   "cell_type": "code",
   "execution_count": 43,
   "id": "ecc05f28",
   "metadata": {},
   "outputs": [
    {
     "data": {
      "text/plain": [
       "Index(['id', 'created_at', 'campaign_var_1', 'campaign_var_2',\n",
       "       'products_purchased', 'signup_date', 'user_activity_var_1',\n",
       "       'user_activity_var_2', 'user_activity_var_3', 'user_activity_var_4',\n",
       "       'user_activity_var_5', 'user_activity_var_6', 'user_activity_var_7',\n",
       "       'user_activity_var_8', 'user_activity_var_9', 'user_activity_var_10',\n",
       "       'user_activity_var_11', 'user_activity_var_12', 'buy', 'createdDate',\n",
       "       'signupDate', 'cDate', 'cyear', 'cmonth', 'signDate', 'signyear',\n",
       "       'signmonth'],\n",
       "      dtype='object')"
      ]
     },
     "execution_count": 43,
     "metadata": {},
     "output_type": "execute_result"
    }
   ],
   "source": [
    "df.columns"
   ]
  },
  {
   "cell_type": "code",
   "execution_count": 44,
   "id": "26fd85f2",
   "metadata": {},
   "outputs": [],
   "source": [
    "df2=df.drop(['created_at','signup_date','createdDate','signupDate'],axis=1) #remove duplicate columns"
   ]
  },
  {
   "cell_type": "code",
   "execution_count": 45,
   "id": "8f820304",
   "metadata": {},
   "outputs": [
    {
     "data": {
      "text/plain": [
       "Index(['id', 'campaign_var_1', 'campaign_var_2', 'products_purchased',\n",
       "       'user_activity_var_1', 'user_activity_var_2', 'user_activity_var_3',\n",
       "       'user_activity_var_4', 'user_activity_var_5', 'user_activity_var_6',\n",
       "       'user_activity_var_7', 'user_activity_var_8', 'user_activity_var_9',\n",
       "       'user_activity_var_10', 'user_activity_var_11', 'user_activity_var_12',\n",
       "       'buy', 'cDate', 'cyear', 'cmonth', 'signDate', 'signyear', 'signmonth'],\n",
       "      dtype='object')"
      ]
     },
     "execution_count": 45,
     "metadata": {},
     "output_type": "execute_result"
    }
   ],
   "source": [
    "df2.columns"
   ]
  },
  {
   "cell_type": "code",
   "execution_count": 46,
   "id": "b4bacc02",
   "metadata": {},
   "outputs": [],
   "source": [
    "X = df2.drop(['id','buy'],axis=1) #splitting the data as X,y . remove id, buy from X to train it"
   ]
  },
  {
   "cell_type": "code",
   "execution_count": 47,
   "id": "cd2dd5db",
   "metadata": {},
   "outputs": [
    {
     "data": {
      "text/html": [
       "<div>\n",
       "<style scoped>\n",
       "    .dataframe tbody tr th:only-of-type {\n",
       "        vertical-align: middle;\n",
       "    }\n",
       "\n",
       "    .dataframe tbody tr th {\n",
       "        vertical-align: top;\n",
       "    }\n",
       "\n",
       "    .dataframe thead th {\n",
       "        text-align: right;\n",
       "    }\n",
       "</style>\n",
       "<table border=\"1\" class=\"dataframe\">\n",
       "  <thead>\n",
       "    <tr style=\"text-align: right;\">\n",
       "      <th></th>\n",
       "      <th>id</th>\n",
       "      <th>campaign_var_1</th>\n",
       "      <th>campaign_var_2</th>\n",
       "      <th>products_purchased</th>\n",
       "      <th>user_activity_var_1</th>\n",
       "      <th>user_activity_var_2</th>\n",
       "      <th>user_activity_var_3</th>\n",
       "      <th>user_activity_var_4</th>\n",
       "      <th>user_activity_var_5</th>\n",
       "      <th>user_activity_var_6</th>\n",
       "      <th>...</th>\n",
       "      <th>user_activity_var_10</th>\n",
       "      <th>user_activity_var_11</th>\n",
       "      <th>user_activity_var_12</th>\n",
       "      <th>buy</th>\n",
       "      <th>cDate</th>\n",
       "      <th>cyear</th>\n",
       "      <th>cmonth</th>\n",
       "      <th>signDate</th>\n",
       "      <th>signyear</th>\n",
       "      <th>signmonth</th>\n",
       "    </tr>\n",
       "  </thead>\n",
       "  <tbody>\n",
       "    <tr>\n",
       "      <th>0</th>\n",
       "      <td>1</td>\n",
       "      <td>1</td>\n",
       "      <td>2</td>\n",
       "      <td>2.0</td>\n",
       "      <td>0</td>\n",
       "      <td>0</td>\n",
       "      <td>0</td>\n",
       "      <td>0</td>\n",
       "      <td>0</td>\n",
       "      <td>0</td>\n",
       "      <td>...</td>\n",
       "      <td>0</td>\n",
       "      <td>0</td>\n",
       "      <td>0</td>\n",
       "      <td>0</td>\n",
       "      <td>1</td>\n",
       "      <td>2021</td>\n",
       "      <td>1</td>\n",
       "      <td>24</td>\n",
       "      <td>2020</td>\n",
       "      <td>9</td>\n",
       "    </tr>\n",
       "    <tr>\n",
       "      <th>1</th>\n",
       "      <td>2</td>\n",
       "      <td>2</td>\n",
       "      <td>1</td>\n",
       "      <td>2.0</td>\n",
       "      <td>1</td>\n",
       "      <td>0</td>\n",
       "      <td>1</td>\n",
       "      <td>0</td>\n",
       "      <td>0</td>\n",
       "      <td>0</td>\n",
       "      <td>...</td>\n",
       "      <td>0</td>\n",
       "      <td>0</td>\n",
       "      <td>0</td>\n",
       "      <td>0</td>\n",
       "      <td>1</td>\n",
       "      <td>2021</td>\n",
       "      <td>1</td>\n",
       "      <td>19</td>\n",
       "      <td>2020</td>\n",
       "      <td>9</td>\n",
       "    </tr>\n",
       "    <tr>\n",
       "      <th>2</th>\n",
       "      <td>3</td>\n",
       "      <td>9</td>\n",
       "      <td>3</td>\n",
       "      <td>3.0</td>\n",
       "      <td>1</td>\n",
       "      <td>0</td>\n",
       "      <td>0</td>\n",
       "      <td>0</td>\n",
       "      <td>0</td>\n",
       "      <td>0</td>\n",
       "      <td>...</td>\n",
       "      <td>0</td>\n",
       "      <td>0</td>\n",
       "      <td>0</td>\n",
       "      <td>0</td>\n",
       "      <td>1</td>\n",
       "      <td>2021</td>\n",
       "      <td>1</td>\n",
       "      <td>11</td>\n",
       "      <td>2021</td>\n",
       "      <td>8</td>\n",
       "    </tr>\n",
       "    <tr>\n",
       "      <th>3</th>\n",
       "      <td>4</td>\n",
       "      <td>6</td>\n",
       "      <td>7</td>\n",
       "      <td>2.0</td>\n",
       "      <td>0</td>\n",
       "      <td>0</td>\n",
       "      <td>0</td>\n",
       "      <td>0</td>\n",
       "      <td>0</td>\n",
       "      <td>0</td>\n",
       "      <td>...</td>\n",
       "      <td>0</td>\n",
       "      <td>0</td>\n",
       "      <td>0</td>\n",
       "      <td>0</td>\n",
       "      <td>1</td>\n",
       "      <td>2021</td>\n",
       "      <td>1</td>\n",
       "      <td>4</td>\n",
       "      <td>2017</td>\n",
       "      <td>10</td>\n",
       "    </tr>\n",
       "    <tr>\n",
       "      <th>4</th>\n",
       "      <td>5</td>\n",
       "      <td>4</td>\n",
       "      <td>6</td>\n",
       "      <td>1.0</td>\n",
       "      <td>0</td>\n",
       "      <td>0</td>\n",
       "      <td>0</td>\n",
       "      <td>0</td>\n",
       "      <td>0</td>\n",
       "      <td>0</td>\n",
       "      <td>...</td>\n",
       "      <td>0</td>\n",
       "      <td>1</td>\n",
       "      <td>0</td>\n",
       "      <td>0</td>\n",
       "      <td>1</td>\n",
       "      <td>2021</td>\n",
       "      <td>1</td>\n",
       "      <td>8</td>\n",
       "      <td>2020</td>\n",
       "      <td>6</td>\n",
       "    </tr>\n",
       "  </tbody>\n",
       "</table>\n",
       "<p>5 rows × 23 columns</p>\n",
       "</div>"
      ],
      "text/plain": [
       "   id  campaign_var_1  campaign_var_2  products_purchased  \\\n",
       "0   1               1               2                 2.0   \n",
       "1   2               2               1                 2.0   \n",
       "2   3               9               3                 3.0   \n",
       "3   4               6               7                 2.0   \n",
       "4   5               4               6                 1.0   \n",
       "\n",
       "   user_activity_var_1  user_activity_var_2  user_activity_var_3  \\\n",
       "0                    0                    0                    0   \n",
       "1                    1                    0                    1   \n",
       "2                    1                    0                    0   \n",
       "3                    0                    0                    0   \n",
       "4                    0                    0                    0   \n",
       "\n",
       "   user_activity_var_4  user_activity_var_5  user_activity_var_6  ...  \\\n",
       "0                    0                    0                    0  ...   \n",
       "1                    0                    0                    0  ...   \n",
       "2                    0                    0                    0  ...   \n",
       "3                    0                    0                    0  ...   \n",
       "4                    0                    0                    0  ...   \n",
       "\n",
       "   user_activity_var_10  user_activity_var_11  user_activity_var_12  buy  \\\n",
       "0                     0                     0                     0    0   \n",
       "1                     0                     0                     0    0   \n",
       "2                     0                     0                     0    0   \n",
       "3                     0                     0                     0    0   \n",
       "4                     0                     1                     0    0   \n",
       "\n",
       "   cDate  cyear  cmonth  signDate  signyear  signmonth  \n",
       "0      1   2021       1        24      2020          9  \n",
       "1      1   2021       1        19      2020          9  \n",
       "2      1   2021       1        11      2021          8  \n",
       "3      1   2021       1         4      2017         10  \n",
       "4      1   2021       1         8      2020          6  \n",
       "\n",
       "[5 rows x 23 columns]"
      ]
     },
     "execution_count": 47,
     "metadata": {},
     "output_type": "execute_result"
    }
   ],
   "source": [
    "df2.head()"
   ]
  },
  {
   "cell_type": "markdown",
   "id": "0b805a97",
   "metadata": {},
   "source": [
    "##### standardization"
   ]
  },
  {
   "cell_type": "code",
   "execution_count": 48,
   "id": "3a8923d4",
   "metadata": {
    "scrolled": true
   },
   "outputs": [
    {
     "data": {
      "text/html": [
       "<div>\n",
       "<style scoped>\n",
       "    .dataframe tbody tr th:only-of-type {\n",
       "        vertical-align: middle;\n",
       "    }\n",
       "\n",
       "    .dataframe tbody tr th {\n",
       "        vertical-align: top;\n",
       "    }\n",
       "\n",
       "    .dataframe thead th {\n",
       "        text-align: right;\n",
       "    }\n",
       "</style>\n",
       "<table border=\"1\" class=\"dataframe\">\n",
       "  <thead>\n",
       "    <tr style=\"text-align: right;\">\n",
       "      <th></th>\n",
       "      <th>campaign_var_1</th>\n",
       "      <th>campaign_var_2</th>\n",
       "      <th>products_purchased</th>\n",
       "      <th>user_activity_var_1</th>\n",
       "      <th>user_activity_var_2</th>\n",
       "      <th>user_activity_var_3</th>\n",
       "      <th>user_activity_var_4</th>\n",
       "      <th>user_activity_var_5</th>\n",
       "      <th>user_activity_var_6</th>\n",
       "      <th>user_activity_var_7</th>\n",
       "      <th>...</th>\n",
       "      <th>user_activity_var_9</th>\n",
       "      <th>user_activity_var_10</th>\n",
       "      <th>user_activity_var_11</th>\n",
       "      <th>user_activity_var_12</th>\n",
       "      <th>cDate</th>\n",
       "      <th>cyear</th>\n",
       "      <th>cmonth</th>\n",
       "      <th>signDate</th>\n",
       "      <th>signyear</th>\n",
       "      <th>signmonth</th>\n",
       "    </tr>\n",
       "  </thead>\n",
       "  <tbody>\n",
       "    <tr>\n",
       "      <th>0</th>\n",
       "      <td>-1.590548</td>\n",
       "      <td>-1.703251</td>\n",
       "      <td>0.589376</td>\n",
       "      <td>-0.785745</td>\n",
       "      <td>-0.082227</td>\n",
       "      <td>-0.338553</td>\n",
       "      <td>-0.107696</td>\n",
       "      <td>-0.42122</td>\n",
       "      <td>-0.895506</td>\n",
       "      <td>1.565209</td>\n",
       "      <td>...</td>\n",
       "      <td>-0.107575</td>\n",
       "      <td>-0.019575</td>\n",
       "      <td>-0.507352</td>\n",
       "      <td>-0.023709</td>\n",
       "      <td>-1.709313</td>\n",
       "      <td>0.0</td>\n",
       "      <td>-2.160435</td>\n",
       "      <td>1.060404</td>\n",
       "      <td>-0.582577</td>\n",
       "      <td>0.828875</td>\n",
       "    </tr>\n",
       "    <tr>\n",
       "      <th>1</th>\n",
       "      <td>-1.302604</td>\n",
       "      <td>-2.085768</td>\n",
       "      <td>0.589376</td>\n",
       "      <td>1.178167</td>\n",
       "      <td>-0.082227</td>\n",
       "      <td>2.953745</td>\n",
       "      <td>-0.107696</td>\n",
       "      <td>-0.42122</td>\n",
       "      <td>-0.895506</td>\n",
       "      <td>1.565209</td>\n",
       "      <td>...</td>\n",
       "      <td>-0.107575</td>\n",
       "      <td>-0.019575</td>\n",
       "      <td>-0.507352</td>\n",
       "      <td>-0.023709</td>\n",
       "      <td>-1.709313</td>\n",
       "      <td>0.0</td>\n",
       "      <td>-2.160435</td>\n",
       "      <td>0.340386</td>\n",
       "      <td>-0.582577</td>\n",
       "      <td>0.828875</td>\n",
       "    </tr>\n",
       "    <tr>\n",
       "      <th>2</th>\n",
       "      <td>0.713003</td>\n",
       "      <td>-1.320734</td>\n",
       "      <td>1.864685</td>\n",
       "      <td>1.178167</td>\n",
       "      <td>-0.082227</td>\n",
       "      <td>-0.338553</td>\n",
       "      <td>-0.107696</td>\n",
       "      <td>-0.42122</td>\n",
       "      <td>-0.895506</td>\n",
       "      <td>-0.628840</td>\n",
       "      <td>...</td>\n",
       "      <td>-0.107575</td>\n",
       "      <td>-0.019575</td>\n",
       "      <td>-0.507352</td>\n",
       "      <td>-0.023709</td>\n",
       "      <td>-1.709313</td>\n",
       "      <td>0.0</td>\n",
       "      <td>-2.160435</td>\n",
       "      <td>-0.811644</td>\n",
       "      <td>0.482019</td>\n",
       "      <td>0.472810</td>\n",
       "    </tr>\n",
       "    <tr>\n",
       "      <th>3</th>\n",
       "      <td>-0.150828</td>\n",
       "      <td>0.209334</td>\n",
       "      <td>0.589376</td>\n",
       "      <td>-0.785745</td>\n",
       "      <td>-0.082227</td>\n",
       "      <td>-0.338553</td>\n",
       "      <td>-0.107696</td>\n",
       "      <td>-0.42122</td>\n",
       "      <td>-0.895506</td>\n",
       "      <td>-0.628840</td>\n",
       "      <td>...</td>\n",
       "      <td>-0.107575</td>\n",
       "      <td>-0.019575</td>\n",
       "      <td>-0.507352</td>\n",
       "      <td>-0.023709</td>\n",
       "      <td>-1.709313</td>\n",
       "      <td>0.0</td>\n",
       "      <td>-2.160435</td>\n",
       "      <td>-1.819669</td>\n",
       "      <td>-3.776363</td>\n",
       "      <td>1.184940</td>\n",
       "    </tr>\n",
       "    <tr>\n",
       "      <th>4</th>\n",
       "      <td>-0.726716</td>\n",
       "      <td>-0.173183</td>\n",
       "      <td>-0.685933</td>\n",
       "      <td>-0.785745</td>\n",
       "      <td>-0.082227</td>\n",
       "      <td>-0.338553</td>\n",
       "      <td>-0.107696</td>\n",
       "      <td>-0.42122</td>\n",
       "      <td>-0.895506</td>\n",
       "      <td>1.565209</td>\n",
       "      <td>...</td>\n",
       "      <td>-0.107575</td>\n",
       "      <td>-0.019575</td>\n",
       "      <td>1.809936</td>\n",
       "      <td>-0.023709</td>\n",
       "      <td>-1.709313</td>\n",
       "      <td>0.0</td>\n",
       "      <td>-2.160435</td>\n",
       "      <td>-1.243655</td>\n",
       "      <td>-0.582577</td>\n",
       "      <td>-0.239319</td>\n",
       "    </tr>\n",
       "    <tr>\n",
       "      <th>...</th>\n",
       "      <td>...</td>\n",
       "      <td>...</td>\n",
       "      <td>...</td>\n",
       "      <td>...</td>\n",
       "      <td>...</td>\n",
       "      <td>...</td>\n",
       "      <td>...</td>\n",
       "      <td>...</td>\n",
       "      <td>...</td>\n",
       "      <td>...</td>\n",
       "      <td>...</td>\n",
       "      <td>...</td>\n",
       "      <td>...</td>\n",
       "      <td>...</td>\n",
       "      <td>...</td>\n",
       "      <td>...</td>\n",
       "      <td>...</td>\n",
       "      <td>...</td>\n",
       "      <td>...</td>\n",
       "      <td>...</td>\n",
       "      <td>...</td>\n",
       "    </tr>\n",
       "    <tr>\n",
       "      <th>39156</th>\n",
       "      <td>1.288891</td>\n",
       "      <td>1.739402</td>\n",
       "      <td>0.589376</td>\n",
       "      <td>1.178167</td>\n",
       "      <td>-0.082227</td>\n",
       "      <td>-0.338553</td>\n",
       "      <td>-0.107696</td>\n",
       "      <td>2.35906</td>\n",
       "      <td>0.896100</td>\n",
       "      <td>1.565209</td>\n",
       "      <td>...</td>\n",
       "      <td>-0.107575</td>\n",
       "      <td>-0.019575</td>\n",
       "      <td>-0.507352</td>\n",
       "      <td>-0.023709</td>\n",
       "      <td>1.705267</td>\n",
       "      <td>0.0</td>\n",
       "      <td>1.343528</td>\n",
       "      <td>0.340386</td>\n",
       "      <td>-3.776363</td>\n",
       "      <td>1.184940</td>\n",
       "    </tr>\n",
       "    <tr>\n",
       "      <th>39157</th>\n",
       "      <td>-1.014660</td>\n",
       "      <td>0.974368</td>\n",
       "      <td>1.864685</td>\n",
       "      <td>-0.785745</td>\n",
       "      <td>-0.082227</td>\n",
       "      <td>-0.338553</td>\n",
       "      <td>-0.107696</td>\n",
       "      <td>-0.42122</td>\n",
       "      <td>-0.895506</td>\n",
       "      <td>-0.628840</td>\n",
       "      <td>...</td>\n",
       "      <td>-0.107575</td>\n",
       "      <td>-0.019575</td>\n",
       "      <td>-0.507352</td>\n",
       "      <td>-0.023709</td>\n",
       "      <td>1.705267</td>\n",
       "      <td>0.0</td>\n",
       "      <td>1.343528</td>\n",
       "      <td>0.196382</td>\n",
       "      <td>0.482019</td>\n",
       "      <td>0.116746</td>\n",
       "    </tr>\n",
       "    <tr>\n",
       "      <th>39158</th>\n",
       "      <td>0.425059</td>\n",
       "      <td>0.209334</td>\n",
       "      <td>0.589376</td>\n",
       "      <td>1.178167</td>\n",
       "      <td>-0.082227</td>\n",
       "      <td>-0.338553</td>\n",
       "      <td>-0.107696</td>\n",
       "      <td>2.35906</td>\n",
       "      <td>-0.895506</td>\n",
       "      <td>1.565209</td>\n",
       "      <td>...</td>\n",
       "      <td>-0.107575</td>\n",
       "      <td>-0.019575</td>\n",
       "      <td>-0.507352</td>\n",
       "      <td>-0.023709</td>\n",
       "      <td>1.705267</td>\n",
       "      <td>0.0</td>\n",
       "      <td>1.343528</td>\n",
       "      <td>0.196382</td>\n",
       "      <td>0.482019</td>\n",
       "      <td>0.116746</td>\n",
       "    </tr>\n",
       "    <tr>\n",
       "      <th>39159</th>\n",
       "      <td>0.137115</td>\n",
       "      <td>2.121919</td>\n",
       "      <td>0.589376</td>\n",
       "      <td>-0.785745</td>\n",
       "      <td>-0.082227</td>\n",
       "      <td>-0.338553</td>\n",
       "      <td>-0.107696</td>\n",
       "      <td>-0.42122</td>\n",
       "      <td>0.896100</td>\n",
       "      <td>-0.628840</td>\n",
       "      <td>...</td>\n",
       "      <td>-0.107575</td>\n",
       "      <td>-0.019575</td>\n",
       "      <td>1.809936</td>\n",
       "      <td>-0.023709</td>\n",
       "      <td>1.705267</td>\n",
       "      <td>0.0</td>\n",
       "      <td>1.343528</td>\n",
       "      <td>0.196382</td>\n",
       "      <td>0.482019</td>\n",
       "      <td>0.116746</td>\n",
       "    </tr>\n",
       "    <tr>\n",
       "      <th>39160</th>\n",
       "      <td>-1.302604</td>\n",
       "      <td>-0.555700</td>\n",
       "      <td>-0.685933</td>\n",
       "      <td>1.178167</td>\n",
       "      <td>-0.082227</td>\n",
       "      <td>-0.338553</td>\n",
       "      <td>-0.107696</td>\n",
       "      <td>-0.42122</td>\n",
       "      <td>-0.895506</td>\n",
       "      <td>1.565209</td>\n",
       "      <td>...</td>\n",
       "      <td>-0.107575</td>\n",
       "      <td>-0.019575</td>\n",
       "      <td>-0.507352</td>\n",
       "      <td>-0.023709</td>\n",
       "      <td>1.705267</td>\n",
       "      <td>0.0</td>\n",
       "      <td>1.343528</td>\n",
       "      <td>-0.811644</td>\n",
       "      <td>-1.647172</td>\n",
       "      <td>0.472810</td>\n",
       "    </tr>\n",
       "  </tbody>\n",
       "</table>\n",
       "<p>39161 rows × 21 columns</p>\n",
       "</div>"
      ],
      "text/plain": [
       "       campaign_var_1  campaign_var_2  products_purchased  \\\n",
       "0           -1.590548       -1.703251            0.589376   \n",
       "1           -1.302604       -2.085768            0.589376   \n",
       "2            0.713003       -1.320734            1.864685   \n",
       "3           -0.150828        0.209334            0.589376   \n",
       "4           -0.726716       -0.173183           -0.685933   \n",
       "...               ...             ...                 ...   \n",
       "39156        1.288891        1.739402            0.589376   \n",
       "39157       -1.014660        0.974368            1.864685   \n",
       "39158        0.425059        0.209334            0.589376   \n",
       "39159        0.137115        2.121919            0.589376   \n",
       "39160       -1.302604       -0.555700           -0.685933   \n",
       "\n",
       "       user_activity_var_1  user_activity_var_2  user_activity_var_3  \\\n",
       "0                -0.785745            -0.082227            -0.338553   \n",
       "1                 1.178167            -0.082227             2.953745   \n",
       "2                 1.178167            -0.082227            -0.338553   \n",
       "3                -0.785745            -0.082227            -0.338553   \n",
       "4                -0.785745            -0.082227            -0.338553   \n",
       "...                    ...                  ...                  ...   \n",
       "39156             1.178167            -0.082227            -0.338553   \n",
       "39157            -0.785745            -0.082227            -0.338553   \n",
       "39158             1.178167            -0.082227            -0.338553   \n",
       "39159            -0.785745            -0.082227            -0.338553   \n",
       "39160             1.178167            -0.082227            -0.338553   \n",
       "\n",
       "       user_activity_var_4  user_activity_var_5  user_activity_var_6  \\\n",
       "0                -0.107696             -0.42122            -0.895506   \n",
       "1                -0.107696             -0.42122            -0.895506   \n",
       "2                -0.107696             -0.42122            -0.895506   \n",
       "3                -0.107696             -0.42122            -0.895506   \n",
       "4                -0.107696             -0.42122            -0.895506   \n",
       "...                    ...                  ...                  ...   \n",
       "39156            -0.107696              2.35906             0.896100   \n",
       "39157            -0.107696             -0.42122            -0.895506   \n",
       "39158            -0.107696              2.35906            -0.895506   \n",
       "39159            -0.107696             -0.42122             0.896100   \n",
       "39160            -0.107696             -0.42122            -0.895506   \n",
       "\n",
       "       user_activity_var_7  ...  user_activity_var_9  user_activity_var_10  \\\n",
       "0                 1.565209  ...            -0.107575             -0.019575   \n",
       "1                 1.565209  ...            -0.107575             -0.019575   \n",
       "2                -0.628840  ...            -0.107575             -0.019575   \n",
       "3                -0.628840  ...            -0.107575             -0.019575   \n",
       "4                 1.565209  ...            -0.107575             -0.019575   \n",
       "...                    ...  ...                  ...                   ...   \n",
       "39156             1.565209  ...            -0.107575             -0.019575   \n",
       "39157            -0.628840  ...            -0.107575             -0.019575   \n",
       "39158             1.565209  ...            -0.107575             -0.019575   \n",
       "39159            -0.628840  ...            -0.107575             -0.019575   \n",
       "39160             1.565209  ...            -0.107575             -0.019575   \n",
       "\n",
       "       user_activity_var_11  user_activity_var_12     cDate  cyear    cmonth  \\\n",
       "0                 -0.507352             -0.023709 -1.709313    0.0 -2.160435   \n",
       "1                 -0.507352             -0.023709 -1.709313    0.0 -2.160435   \n",
       "2                 -0.507352             -0.023709 -1.709313    0.0 -2.160435   \n",
       "3                 -0.507352             -0.023709 -1.709313    0.0 -2.160435   \n",
       "4                  1.809936             -0.023709 -1.709313    0.0 -2.160435   \n",
       "...                     ...                   ...       ...    ...       ...   \n",
       "39156             -0.507352             -0.023709  1.705267    0.0  1.343528   \n",
       "39157             -0.507352             -0.023709  1.705267    0.0  1.343528   \n",
       "39158             -0.507352             -0.023709  1.705267    0.0  1.343528   \n",
       "39159              1.809936             -0.023709  1.705267    0.0  1.343528   \n",
       "39160             -0.507352             -0.023709  1.705267    0.0  1.343528   \n",
       "\n",
       "       signDate  signyear  signmonth  \n",
       "0      1.060404 -0.582577   0.828875  \n",
       "1      0.340386 -0.582577   0.828875  \n",
       "2     -0.811644  0.482019   0.472810  \n",
       "3     -1.819669 -3.776363   1.184940  \n",
       "4     -1.243655 -0.582577  -0.239319  \n",
       "...         ...       ...        ...  \n",
       "39156  0.340386 -3.776363   1.184940  \n",
       "39157  0.196382  0.482019   0.116746  \n",
       "39158  0.196382  0.482019   0.116746  \n",
       "39159  0.196382  0.482019   0.116746  \n",
       "39160 -0.811644 -1.647172   0.472810  \n",
       "\n",
       "[39161 rows x 21 columns]"
      ]
     },
     "execution_count": 48,
     "metadata": {},
     "output_type": "execute_result"
    }
   ],
   "source": [
    " #standardizing the data\n",
    "scale=preprocessing.StandardScaler()\n",
    "\n",
    "for column in X.columns:\n",
    "    get_column = X[column]\n",
    "    reshaped_vals = get_column.values.reshape(-1, 1)\n",
    "    X[column] = scale.fit_transform(reshaped_vals)\n",
    "    \n",
    "X"
   ]
  },
  {
   "cell_type": "markdown",
   "id": "22591f74",
   "metadata": {},
   "source": [
    "#### Normalization"
   ]
  },
  {
   "cell_type": "code",
   "execution_count": 49,
   "id": "2a20e05c",
   "metadata": {},
   "outputs": [
    {
     "data": {
      "text/html": [
       "<div>\n",
       "<style scoped>\n",
       "    .dataframe tbody tr th:only-of-type {\n",
       "        vertical-align: middle;\n",
       "    }\n",
       "\n",
       "    .dataframe tbody tr th {\n",
       "        vertical-align: top;\n",
       "    }\n",
       "\n",
       "    .dataframe thead th {\n",
       "        text-align: right;\n",
       "    }\n",
       "</style>\n",
       "<table border=\"1\" class=\"dataframe\">\n",
       "  <thead>\n",
       "    <tr style=\"text-align: right;\">\n",
       "      <th></th>\n",
       "      <th>campaign_var_1</th>\n",
       "      <th>campaign_var_2</th>\n",
       "      <th>products_purchased</th>\n",
       "      <th>user_activity_var_1</th>\n",
       "      <th>user_activity_var_2</th>\n",
       "      <th>user_activity_var_3</th>\n",
       "      <th>user_activity_var_4</th>\n",
       "      <th>user_activity_var_5</th>\n",
       "      <th>user_activity_var_6</th>\n",
       "      <th>user_activity_var_7</th>\n",
       "      <th>...</th>\n",
       "      <th>user_activity_var_9</th>\n",
       "      <th>user_activity_var_10</th>\n",
       "      <th>user_activity_var_11</th>\n",
       "      <th>user_activity_var_12</th>\n",
       "      <th>cDate</th>\n",
       "      <th>cyear</th>\n",
       "      <th>cmonth</th>\n",
       "      <th>signDate</th>\n",
       "      <th>signyear</th>\n",
       "      <th>signmonth</th>\n",
       "    </tr>\n",
       "  </thead>\n",
       "  <tbody>\n",
       "    <tr>\n",
       "      <th>0</th>\n",
       "      <td>0.000000</td>\n",
       "      <td>0.071429</td>\n",
       "      <td>0.333333</td>\n",
       "      <td>0.000000</td>\n",
       "      <td>0.0</td>\n",
       "      <td>0.0</td>\n",
       "      <td>0.0</td>\n",
       "      <td>0.0</td>\n",
       "      <td>0.000000</td>\n",
       "      <td>0.5</td>\n",
       "      <td>...</td>\n",
       "      <td>0.0</td>\n",
       "      <td>0.0</td>\n",
       "      <td>0.00</td>\n",
       "      <td>0.0</td>\n",
       "      <td>0.0</td>\n",
       "      <td>0.0</td>\n",
       "      <td>0.0</td>\n",
       "      <td>0.766667</td>\n",
       "      <td>0.714286</td>\n",
       "      <td>0.727273</td>\n",
       "    </tr>\n",
       "    <tr>\n",
       "      <th>1</th>\n",
       "      <td>0.066667</td>\n",
       "      <td>0.000000</td>\n",
       "      <td>0.333333</td>\n",
       "      <td>0.333333</td>\n",
       "      <td>0.0</td>\n",
       "      <td>1.0</td>\n",
       "      <td>0.0</td>\n",
       "      <td>0.0</td>\n",
       "      <td>0.000000</td>\n",
       "      <td>0.5</td>\n",
       "      <td>...</td>\n",
       "      <td>0.0</td>\n",
       "      <td>0.0</td>\n",
       "      <td>0.00</td>\n",
       "      <td>0.0</td>\n",
       "      <td>0.0</td>\n",
       "      <td>0.0</td>\n",
       "      <td>0.0</td>\n",
       "      <td>0.600000</td>\n",
       "      <td>0.714286</td>\n",
       "      <td>0.727273</td>\n",
       "    </tr>\n",
       "    <tr>\n",
       "      <th>2</th>\n",
       "      <td>0.533333</td>\n",
       "      <td>0.142857</td>\n",
       "      <td>0.666667</td>\n",
       "      <td>0.333333</td>\n",
       "      <td>0.0</td>\n",
       "      <td>0.0</td>\n",
       "      <td>0.0</td>\n",
       "      <td>0.0</td>\n",
       "      <td>0.000000</td>\n",
       "      <td>0.0</td>\n",
       "      <td>...</td>\n",
       "      <td>0.0</td>\n",
       "      <td>0.0</td>\n",
       "      <td>0.00</td>\n",
       "      <td>0.0</td>\n",
       "      <td>0.0</td>\n",
       "      <td>0.0</td>\n",
       "      <td>0.0</td>\n",
       "      <td>0.333333</td>\n",
       "      <td>0.857143</td>\n",
       "      <td>0.636364</td>\n",
       "    </tr>\n",
       "    <tr>\n",
       "      <th>3</th>\n",
       "      <td>0.333333</td>\n",
       "      <td>0.428571</td>\n",
       "      <td>0.333333</td>\n",
       "      <td>0.000000</td>\n",
       "      <td>0.0</td>\n",
       "      <td>0.0</td>\n",
       "      <td>0.0</td>\n",
       "      <td>0.0</td>\n",
       "      <td>0.000000</td>\n",
       "      <td>0.0</td>\n",
       "      <td>...</td>\n",
       "      <td>0.0</td>\n",
       "      <td>0.0</td>\n",
       "      <td>0.00</td>\n",
       "      <td>0.0</td>\n",
       "      <td>0.0</td>\n",
       "      <td>0.0</td>\n",
       "      <td>0.0</td>\n",
       "      <td>0.100000</td>\n",
       "      <td>0.285714</td>\n",
       "      <td>0.818182</td>\n",
       "    </tr>\n",
       "    <tr>\n",
       "      <th>4</th>\n",
       "      <td>0.200000</td>\n",
       "      <td>0.357143</td>\n",
       "      <td>0.000000</td>\n",
       "      <td>0.000000</td>\n",
       "      <td>0.0</td>\n",
       "      <td>0.0</td>\n",
       "      <td>0.0</td>\n",
       "      <td>0.0</td>\n",
       "      <td>0.000000</td>\n",
       "      <td>0.5</td>\n",
       "      <td>...</td>\n",
       "      <td>0.0</td>\n",
       "      <td>0.0</td>\n",
       "      <td>0.25</td>\n",
       "      <td>0.0</td>\n",
       "      <td>0.0</td>\n",
       "      <td>0.0</td>\n",
       "      <td>0.0</td>\n",
       "      <td>0.233333</td>\n",
       "      <td>0.714286</td>\n",
       "      <td>0.454545</td>\n",
       "    </tr>\n",
       "    <tr>\n",
       "      <th>...</th>\n",
       "      <td>...</td>\n",
       "      <td>...</td>\n",
       "      <td>...</td>\n",
       "      <td>...</td>\n",
       "      <td>...</td>\n",
       "      <td>...</td>\n",
       "      <td>...</td>\n",
       "      <td>...</td>\n",
       "      <td>...</td>\n",
       "      <td>...</td>\n",
       "      <td>...</td>\n",
       "      <td>...</td>\n",
       "      <td>...</td>\n",
       "      <td>...</td>\n",
       "      <td>...</td>\n",
       "      <td>...</td>\n",
       "      <td>...</td>\n",
       "      <td>...</td>\n",
       "      <td>...</td>\n",
       "      <td>...</td>\n",
       "      <td>...</td>\n",
       "    </tr>\n",
       "    <tr>\n",
       "      <th>39156</th>\n",
       "      <td>0.666667</td>\n",
       "      <td>0.714286</td>\n",
       "      <td>0.333333</td>\n",
       "      <td>0.333333</td>\n",
       "      <td>0.0</td>\n",
       "      <td>0.0</td>\n",
       "      <td>0.0</td>\n",
       "      <td>0.5</td>\n",
       "      <td>0.333333</td>\n",
       "      <td>0.5</td>\n",
       "      <td>...</td>\n",
       "      <td>0.0</td>\n",
       "      <td>0.0</td>\n",
       "      <td>0.00</td>\n",
       "      <td>0.0</td>\n",
       "      <td>1.0</td>\n",
       "      <td>0.0</td>\n",
       "      <td>1.0</td>\n",
       "      <td>0.600000</td>\n",
       "      <td>0.285714</td>\n",
       "      <td>0.818182</td>\n",
       "    </tr>\n",
       "    <tr>\n",
       "      <th>39157</th>\n",
       "      <td>0.133333</td>\n",
       "      <td>0.571429</td>\n",
       "      <td>0.666667</td>\n",
       "      <td>0.000000</td>\n",
       "      <td>0.0</td>\n",
       "      <td>0.0</td>\n",
       "      <td>0.0</td>\n",
       "      <td>0.0</td>\n",
       "      <td>0.000000</td>\n",
       "      <td>0.0</td>\n",
       "      <td>...</td>\n",
       "      <td>0.0</td>\n",
       "      <td>0.0</td>\n",
       "      <td>0.00</td>\n",
       "      <td>0.0</td>\n",
       "      <td>1.0</td>\n",
       "      <td>0.0</td>\n",
       "      <td>1.0</td>\n",
       "      <td>0.566667</td>\n",
       "      <td>0.857143</td>\n",
       "      <td>0.545455</td>\n",
       "    </tr>\n",
       "    <tr>\n",
       "      <th>39158</th>\n",
       "      <td>0.466667</td>\n",
       "      <td>0.428571</td>\n",
       "      <td>0.333333</td>\n",
       "      <td>0.333333</td>\n",
       "      <td>0.0</td>\n",
       "      <td>0.0</td>\n",
       "      <td>0.0</td>\n",
       "      <td>0.5</td>\n",
       "      <td>0.000000</td>\n",
       "      <td>0.5</td>\n",
       "      <td>...</td>\n",
       "      <td>0.0</td>\n",
       "      <td>0.0</td>\n",
       "      <td>0.00</td>\n",
       "      <td>0.0</td>\n",
       "      <td>1.0</td>\n",
       "      <td>0.0</td>\n",
       "      <td>1.0</td>\n",
       "      <td>0.566667</td>\n",
       "      <td>0.857143</td>\n",
       "      <td>0.545455</td>\n",
       "    </tr>\n",
       "    <tr>\n",
       "      <th>39159</th>\n",
       "      <td>0.400000</td>\n",
       "      <td>0.785714</td>\n",
       "      <td>0.333333</td>\n",
       "      <td>0.000000</td>\n",
       "      <td>0.0</td>\n",
       "      <td>0.0</td>\n",
       "      <td>0.0</td>\n",
       "      <td>0.0</td>\n",
       "      <td>0.333333</td>\n",
       "      <td>0.0</td>\n",
       "      <td>...</td>\n",
       "      <td>0.0</td>\n",
       "      <td>0.0</td>\n",
       "      <td>0.25</td>\n",
       "      <td>0.0</td>\n",
       "      <td>1.0</td>\n",
       "      <td>0.0</td>\n",
       "      <td>1.0</td>\n",
       "      <td>0.566667</td>\n",
       "      <td>0.857143</td>\n",
       "      <td>0.545455</td>\n",
       "    </tr>\n",
       "    <tr>\n",
       "      <th>39160</th>\n",
       "      <td>0.066667</td>\n",
       "      <td>0.285714</td>\n",
       "      <td>0.000000</td>\n",
       "      <td>0.333333</td>\n",
       "      <td>0.0</td>\n",
       "      <td>0.0</td>\n",
       "      <td>0.0</td>\n",
       "      <td>0.0</td>\n",
       "      <td>0.000000</td>\n",
       "      <td>0.5</td>\n",
       "      <td>...</td>\n",
       "      <td>0.0</td>\n",
       "      <td>0.0</td>\n",
       "      <td>0.00</td>\n",
       "      <td>0.0</td>\n",
       "      <td>1.0</td>\n",
       "      <td>0.0</td>\n",
       "      <td>1.0</td>\n",
       "      <td>0.333333</td>\n",
       "      <td>0.571429</td>\n",
       "      <td>0.636364</td>\n",
       "    </tr>\n",
       "  </tbody>\n",
       "</table>\n",
       "<p>39161 rows × 21 columns</p>\n",
       "</div>"
      ],
      "text/plain": [
       "       campaign_var_1  campaign_var_2  products_purchased  \\\n",
       "0            0.000000        0.071429            0.333333   \n",
       "1            0.066667        0.000000            0.333333   \n",
       "2            0.533333        0.142857            0.666667   \n",
       "3            0.333333        0.428571            0.333333   \n",
       "4            0.200000        0.357143            0.000000   \n",
       "...               ...             ...                 ...   \n",
       "39156        0.666667        0.714286            0.333333   \n",
       "39157        0.133333        0.571429            0.666667   \n",
       "39158        0.466667        0.428571            0.333333   \n",
       "39159        0.400000        0.785714            0.333333   \n",
       "39160        0.066667        0.285714            0.000000   \n",
       "\n",
       "       user_activity_var_1  user_activity_var_2  user_activity_var_3  \\\n",
       "0                 0.000000                  0.0                  0.0   \n",
       "1                 0.333333                  0.0                  1.0   \n",
       "2                 0.333333                  0.0                  0.0   \n",
       "3                 0.000000                  0.0                  0.0   \n",
       "4                 0.000000                  0.0                  0.0   \n",
       "...                    ...                  ...                  ...   \n",
       "39156             0.333333                  0.0                  0.0   \n",
       "39157             0.000000                  0.0                  0.0   \n",
       "39158             0.333333                  0.0                  0.0   \n",
       "39159             0.000000                  0.0                  0.0   \n",
       "39160             0.333333                  0.0                  0.0   \n",
       "\n",
       "       user_activity_var_4  user_activity_var_5  user_activity_var_6  \\\n",
       "0                      0.0                  0.0             0.000000   \n",
       "1                      0.0                  0.0             0.000000   \n",
       "2                      0.0                  0.0             0.000000   \n",
       "3                      0.0                  0.0             0.000000   \n",
       "4                      0.0                  0.0             0.000000   \n",
       "...                    ...                  ...                  ...   \n",
       "39156                  0.0                  0.5             0.333333   \n",
       "39157                  0.0                  0.0             0.000000   \n",
       "39158                  0.0                  0.5             0.000000   \n",
       "39159                  0.0                  0.0             0.333333   \n",
       "39160                  0.0                  0.0             0.000000   \n",
       "\n",
       "       user_activity_var_7  ...  user_activity_var_9  user_activity_var_10  \\\n",
       "0                      0.5  ...                  0.0                   0.0   \n",
       "1                      0.5  ...                  0.0                   0.0   \n",
       "2                      0.0  ...                  0.0                   0.0   \n",
       "3                      0.0  ...                  0.0                   0.0   \n",
       "4                      0.5  ...                  0.0                   0.0   \n",
       "...                    ...  ...                  ...                   ...   \n",
       "39156                  0.5  ...                  0.0                   0.0   \n",
       "39157                  0.0  ...                  0.0                   0.0   \n",
       "39158                  0.5  ...                  0.0                   0.0   \n",
       "39159                  0.0  ...                  0.0                   0.0   \n",
       "39160                  0.5  ...                  0.0                   0.0   \n",
       "\n",
       "       user_activity_var_11  user_activity_var_12  cDate  cyear  cmonth  \\\n",
       "0                      0.00                   0.0    0.0    0.0     0.0   \n",
       "1                      0.00                   0.0    0.0    0.0     0.0   \n",
       "2                      0.00                   0.0    0.0    0.0     0.0   \n",
       "3                      0.00                   0.0    0.0    0.0     0.0   \n",
       "4                      0.25                   0.0    0.0    0.0     0.0   \n",
       "...                     ...                   ...    ...    ...     ...   \n",
       "39156                  0.00                   0.0    1.0    0.0     1.0   \n",
       "39157                  0.00                   0.0    1.0    0.0     1.0   \n",
       "39158                  0.00                   0.0    1.0    0.0     1.0   \n",
       "39159                  0.25                   0.0    1.0    0.0     1.0   \n",
       "39160                  0.00                   0.0    1.0    0.0     1.0   \n",
       "\n",
       "       signDate  signyear  signmonth  \n",
       "0      0.766667  0.714286   0.727273  \n",
       "1      0.600000  0.714286   0.727273  \n",
       "2      0.333333  0.857143   0.636364  \n",
       "3      0.100000  0.285714   0.818182  \n",
       "4      0.233333  0.714286   0.454545  \n",
       "...         ...       ...        ...  \n",
       "39156  0.600000  0.285714   0.818182  \n",
       "39157  0.566667  0.857143   0.545455  \n",
       "39158  0.566667  0.857143   0.545455  \n",
       "39159  0.566667  0.857143   0.545455  \n",
       "39160  0.333333  0.571429   0.636364  \n",
       "\n",
       "[39161 rows x 21 columns]"
      ]
     },
     "execution_count": 49,
     "metadata": {},
     "output_type": "execute_result"
    }
   ],
   "source": [
    "minmaxscale=preprocessing.MinMaxScaler() #normalizing the data\n",
    "for column in X.columns:\n",
    "    get_column = X[column]\n",
    "    reshaped_vals = get_column.values.reshape(-1, 1)\n",
    "    X[column] = minmaxscale.fit_transform(reshaped_vals)\n",
    "    \n",
    "X"
   ]
  },
  {
   "cell_type": "code",
   "execution_count": 50,
   "id": "47740c76",
   "metadata": {},
   "outputs": [],
   "source": [
    "y=df2['buy'] #split data\n",
    "X=X"
   ]
  },
  {
   "cell_type": "code",
   "execution_count": 51,
   "id": "0327c6b2",
   "metadata": {},
   "outputs": [
    {
     "name": "stdout",
     "output_type": "stream",
     "text": [
      "(31328, 21) (7833, 21) (31328,) (7833,)\n"
     ]
    }
   ],
   "source": [
    "#Split the Data into Training and Testing sets with test size as 30%\n",
    "X_train, X_test, y_train, y_test = train_test_split(X,y,test_size=0.20, random_state=42)\n",
    "print(X_train.shape,X_test.shape,y_train.shape,y_test.shape)"
   ]
  },
  {
   "cell_type": "code",
   "execution_count": 52,
   "id": "16f588e1",
   "metadata": {},
   "outputs": [
    {
     "name": "stdout",
     "output_type": "stream",
     "text": [
      "Train cases shape\n",
      "X_train shape:  (31328, 21)\n",
      "y_train shape:  (31328,)\n",
      "\n",
      "Test cases shape\n",
      "X_test shape:  (7833, 21)\n",
      "y_test shape:  (7833,)\n"
     ]
    }
   ],
   "source": [
    "print('Train cases shape')\n",
    "print('X_train shape: ',X_train.shape)\n",
    "print('y_train shape: ',y_train.shape)\n",
    "print('\\nTest cases shape')\n",
    "print('X_test shape: ',X_test.shape)\n",
    "print('y_test shape: ',y_test.shape)\n",
    "Scores={}"
   ]
  },
  {
   "cell_type": "markdown",
   "id": "e9cedcdb",
   "metadata": {},
   "source": [
    "#### decision tree classifier"
   ]
  },
  {
   "cell_type": "code",
   "execution_count": 53,
   "id": "43c7fea8",
   "metadata": {},
   "outputs": [
    {
     "name": "stdout",
     "output_type": "stream",
     "text": [
      "ACCURACY of the model:  0.9521256223669092\n",
      "Classification Report for Decision Tree\n",
      "\n",
      "               precision    recall  f1-score   support\n",
      "\n",
      "           0       0.98      0.97      0.97      7430\n",
      "           1       0.53      0.63      0.57       403\n",
      "\n",
      "    accuracy                           0.95      7833\n",
      "   macro avg       0.75      0.80      0.77      7833\n",
      "weighted avg       0.96      0.95      0.95      7833\n",
      "\n",
      "F1 Score is : 77.40093629885673\n"
     ]
    }
   ],
   "source": [
    "dt_model=DecisionTreeClassifier(random_state=0)\n",
    "dt_model.fit(X_train,y_train)\n",
    "y_pred_dt=dt_model.predict(X_test)\n",
    "\n",
    "print(\"ACCURACY of the model: \", accuracy_score(y_test, y_pred_dt))\n",
    "print('Classification Report for Decision Tree\\n\\n', classification_report(y_test, y_pred_dt))\n",
    "dt_model_f1 = f1_score(y_test, y_pred_dt,average='macro')*100 # F1 score\n",
    "print('F1 Score is :', dt_model_f1)\n",
    "Scores['decision_tree'] =dt_model_f1"
   ]
  },
  {
   "cell_type": "markdown",
   "id": "8e0f3439",
   "metadata": {},
   "source": [
    "#### Random Forest classifier"
   ]
  },
  {
   "cell_type": "code",
   "execution_count": 54,
   "id": "612bba77",
   "metadata": {},
   "outputs": [
    {
     "name": "stdout",
     "output_type": "stream",
     "text": [
      "ACCURACY of the model:  0.9765096387080301\n",
      "Classification Report RandomForest Classifier\n",
      "\n",
      "               precision    recall  f1-score   support\n",
      "\n",
      "           0       0.98      1.00      0.99      7430\n",
      "           1       0.93      0.59      0.72       403\n",
      "\n",
      "    accuracy                           0.98      7833\n",
      "   macro avg       0.96      0.79      0.85      7833\n",
      "weighted avg       0.98      0.98      0.97      7833\n",
      "\n",
      "F1 Score is : 85.36268503924214\n"
     ]
    }
   ],
   "source": [
    "rf_clf = RandomForestClassifier(n_estimators = 100,random_state=0,criterion='entropy') \n",
    "rf_clf.fit(X_train, y_train)\n",
    " \n",
    "# performing predictions on the dataset\n",
    "y_pred_rf = rf_clf.predict(X_test)\n",
    "print(\"ACCURACY of the model: \", accuracy_score(y_test, y_pred_rf))\n",
    "print('Classification Report RandomForest Classifier\\n\\n', classification_report(y_test, y_pred_rf))\n",
    "clf_model_f1 = f1_score(y_test, y_pred_rf,average='macro')*100 # F1 score\n",
    "print('F1 Score is :', clf_model_f1)\n",
    "Scores['random_forest'] =clf_model_f1"
   ]
  },
  {
   "cell_type": "markdown",
   "id": "633192f6",
   "metadata": {},
   "source": [
    "#### Logistic regression"
   ]
  },
  {
   "cell_type": "code",
   "execution_count": 55,
   "id": "b2932b77",
   "metadata": {
    "scrolled": true
   },
   "outputs": [
    {
     "name": "stdout",
     "output_type": "stream",
     "text": [
      "ACCURACY of the model:  0.9754883186518575\n",
      "Classification Report LogisticRegression Classifier\n",
      "\n",
      "               precision    recall  f1-score   support\n",
      "\n",
      "           0       0.98      1.00      0.99      7430\n",
      "           1       0.95      0.55      0.70       403\n",
      "\n",
      "    accuracy                           0.98      7833\n",
      "   macro avg       0.96      0.78      0.84      7833\n",
      "weighted avg       0.97      0.98      0.97      7833\n",
      "\n",
      "F1 Score is : 84.31417049720353\n"
     ]
    }
   ],
   "source": [
    "logic_model=LogisticRegression()\n",
    "logic_model.fit(X_train,y_train)\n",
    "y_pred_lo=logic_model.predict(X_test)\n",
    "\n",
    "print(\"ACCURACY of the model: \", accuracy_score(y_test, y_pred_lo))\n",
    "print('Classification Report LogisticRegression Classifier\\n\\n', classification_report(y_test, y_pred_lo))\n",
    "logic_model_f1 = f1_score(y_test, y_pred_lo,average='macro')*100 # F1 score\n",
    "print('F1 Score is :', logic_model_f1)\n",
    "Scores['logistic'] =logic_model_f1"
   ]
  },
  {
   "cell_type": "markdown",
   "id": "9910542a",
   "metadata": {},
   "source": [
    "#### KNN CLassifier"
   ]
  },
  {
   "cell_type": "code",
   "execution_count": 56,
   "id": "e06cb467",
   "metadata": {
    "scrolled": false
   },
   "outputs": [
    {
     "name": "stdout",
     "output_type": "stream",
     "text": [
      "Classification Report for KNN\n",
      "\n",
      "               precision    recall  f1-score   support\n",
      "\n",
      "           0       0.97      1.00      0.98      7430\n",
      "           1       0.91      0.42      0.58       403\n",
      "\n",
      "    accuracy                           0.97      7833\n",
      "   macro avg       0.94      0.71      0.78      7833\n",
      "weighted avg       0.97      0.97      0.96      7833\n",
      "\n",
      "F1 Score is : 78.16055151076355\n"
     ]
    }
   ],
   "source": [
    "# create object of KNN Clasifier\n",
    "from sklearn.neighbors import KNeighborsClassifier\n",
    "knn_clf = KNeighborsClassifier(n_neighbors=5, algorithm='auto', leaf_size=30, metric='manhattan', n_jobs=-1)\n",
    "knn_clf.fit(X_train, y_train)\n",
    "\n",
    "y_pred_knn = knn_clf.predict(X_test)\n",
    "\n",
    "# Classification Report\n",
    "print('Classification Report for KNN\\n\\n', classification_report(y_test, y_pred_knn))\n",
    "# F1 Score\n",
    "knn_clf_f1 = f1_score(y_test, y_pred_knn,average='macro')*100\n",
    "print('F1 Score is :', knn_clf_f1)\n",
    "Scores['KNN'] =knn_clf_f1"
   ]
  },
  {
   "cell_type": "markdown",
   "id": "45804720",
   "metadata": {},
   "source": [
    "#### Gradient Booster Classifier"
   ]
  },
  {
   "cell_type": "code",
   "execution_count": 57,
   "id": "2d2e7e32",
   "metadata": {
    "scrolled": true
   },
   "outputs": [
    {
     "name": "stdout",
     "output_type": "stream",
     "text": [
      "Classification Report for Gradient Boosting\n",
      "\n",
      "               precision    recall  f1-score   support\n",
      "\n",
      "           0       0.98      1.00      0.99      7430\n",
      "           1       0.89      0.60      0.72       403\n",
      "\n",
      "    accuracy                           0.98      7833\n",
      "   macro avg       0.94      0.80      0.85      7833\n",
      "weighted avg       0.97      0.98      0.97      7833\n",
      "\n",
      "F1 Score is : 85.27137321903037\n"
     ]
    }
   ],
   "source": [
    "# create object of Gradient Boosting Clasifier\n",
    "gb_clf = GradientBoostingClassifier(n_estimators=200, criterion='friedman_mse', max_depth=8, learning_rate=0.1, random_state=42)\n",
    "gb_clf.fit(X_train, y_train)\n",
    "y_pred_gb = gb_clf.predict(X_test)\n",
    "\n",
    "# Classification Report\n",
    "print('Classification Report for Gradient Boosting\\n\\n', classification_report(y_test, y_pred_gb))\n",
    "\n",
    "gb_clf_f1 = f1_score(y_test, y_pred_gb,average='macro')*100 #F1 SCORE\n",
    "print('F1 Score is :', gb_clf_f1)\n",
    "Scores['gradient_boost'] =gb_clf_f1"
   ]
  },
  {
   "cell_type": "markdown",
   "id": "8d08a755",
   "metadata": {},
   "source": [
    "#### ADA BOOST CLASSIFIER"
   ]
  },
  {
   "cell_type": "code",
   "execution_count": 58,
   "id": "6ac04f55",
   "metadata": {},
   "outputs": [
    {
     "name": "stdout",
     "output_type": "stream",
     "text": [
      "Classification Report for AdaBoost\n",
      "\n",
      "               precision    recall  f1-score   support\n",
      "\n",
      "           0       0.96      1.00      0.98      7430\n",
      "           1       1.00      0.17      0.29       403\n",
      "\n",
      "    accuracy                           0.96      7833\n",
      "   macro avg       0.98      0.58      0.63      7833\n",
      "weighted avg       0.96      0.96      0.94      7833\n",
      "\n",
      "F1 Score is : 63.33503100877551\n"
     ]
    }
   ],
   "source": [
    "# create object of AdaBoost Clasifier\n",
    "\n",
    "adb_clf = AdaBoostClassifier(n_estimators=300, learning_rate=0.1, algorithm='SAMME', random_state=42)\n",
    "adb_clf.fit(X_train, y_train)\n",
    "y_pred_ada = adb_clf.predict(X_test)\n",
    "# Classification Report\n",
    "print('Classification Report for AdaBoost\\n\\n', classification_report(y_test, y_pred_ada))\n",
    "\n",
    "adb_clf_f1 = f1_score(y_test, y_pred_ada,average='macro')*100\n",
    "# F1 Score \n",
    "print('F1 Score is :', adb_clf_f1)\n",
    "Scores['ada_boost'] =adb_clf_f1"
   ]
  },
  {
   "cell_type": "markdown",
   "id": "2d4921d4",
   "metadata": {},
   "source": [
    "#### Naive Bayes Classifier"
   ]
  },
  {
   "cell_type": "code",
   "execution_count": 61,
   "id": "27ba9b43",
   "metadata": {
    "scrolled": true
   },
   "outputs": [
    {
     "name": "stdout",
     "output_type": "stream",
     "text": [
      "Classification Report for Naive Bayes\n",
      "\n",
      "               precision    recall  f1-score   support\n",
      "\n",
      "           0       0.97      1.00      0.99      7430\n",
      "           1       0.94      0.50      0.66       403\n",
      "\n",
      "    accuracy                           0.97      7833\n",
      "   macro avg       0.96      0.75      0.82      7833\n",
      "weighted avg       0.97      0.97      0.97      7833\n",
      "\n",
      "F1 Score is : 82.08704808938455\n"
     ]
    }
   ],
   "source": [
    "nb_clf = GaussianNB()\n",
    "nb_clf.fit(X_train, y_train)\n",
    "y_pred_nb = nb_clf.predict(X_test)\n",
    "\n",
    "# Classification Report\n",
    "print('Classification Report for Naive Bayes\\n\\n', classification_report(y_test, y_pred_nb))\n",
    "nb_clf_f1 = f1_score(y_test, y_pred_nb,average='macro')*100\n",
    "print('F1 Score is :', nb_clf_f1)\n",
    "Scores['naive_bayes'] =nb_clf_f1"
   ]
  },
  {
   "cell_type": "markdown",
   "id": "9f9fdc27",
   "metadata": {},
   "source": [
    "#### SVM Classifier"
   ]
  },
  {
   "cell_type": "code",
   "execution_count": 62,
   "id": "891a3010",
   "metadata": {
    "scrolled": true
   },
   "outputs": [
    {
     "name": "stdout",
     "output_type": "stream",
     "text": [
      "Classification Report for SVM\n",
      "\n",
      "               precision    recall  f1-score   support\n",
      "\n",
      "           0       0.97      1.00      0.99      7430\n",
      "           1       0.95      0.51      0.67       403\n",
      "\n",
      "    accuracy                           0.97      7833\n",
      "   macro avg       0.96      0.76      0.83      7833\n",
      "weighted avg       0.97      0.97      0.97      7833\n",
      "\n",
      "F1 Score is : 82.58843726141795\n"
     ]
    }
   ],
   "source": [
    "svm_clf = SVC(decision_function_shape='ovr', degree=3, gamma='scale', kernel='rbf', random_state=42)\n",
    "svm_clf.fit(X_train, y_train)\n",
    "\n",
    "y_pred_svm = svm_clf.predict(X_test)\n",
    "print('Classification Report for SVM\\n\\n', classification_report(y_test, y_pred_svm))\n",
    "\n",
    "# F1 Score\n",
    "svm_clf_f1 = f1_score(y_test, y_pred_svm,average='macro')*100\n",
    "print('F1 Score is :', svm_clf_f1)\n",
    "Scores['svm'] =svm_clf_f1"
   ]
  },
  {
   "cell_type": "code",
   "execution_count": 63,
   "id": "ea2f9c6f",
   "metadata": {},
   "outputs": [
    {
     "name": "stdout",
     "output_type": "stream",
     "text": [
      "F1 score of decision_tree classifier is  77.40093629885673\n",
      "F1 score of random_forest classifier is  85.36268503924214\n",
      "F1 score of logistic classifier is  84.31417049720353\n",
      "F1 score of KNN classifier is  78.16055151076355\n",
      "F1 score of gradient_boost classifier is  85.27137321903037\n",
      "F1 score of ada_boost classifier is  63.33503100877551\n",
      "F1 score of naive_bayes classifier is  82.08704808938455\n",
      "F1 score of svm classifier is  82.58843726141795\n"
     ]
    }
   ],
   "source": [
    "for i in Scores:\n",
    "    print(\"F1 score of \"+i + \" classifier is \",Scores[i])"
   ]
  },
  {
   "cell_type": "code",
   "execution_count": 64,
   "id": "bfa6ce4d",
   "metadata": {},
   "outputs": [],
   "source": [
    "# finding the cross validation score for all the models\n",
    "cross_val_scores={}\n",
    "cross_val_scores['logistic']=cross_val_score(logic_model, X, y, cv=10, scoring='f1_micro')\n",
    "cross_val_scores['decision_tree ']=cross_val_score(dt_model, X, y, cv=10, scoring='f1_micro')\n",
    "cross_val_scores['random_forest ']=cross_val_score(rf_clf, X, y, cv=10, scoring='f1_micro')\n",
    "cross_val_scores['gradient_boost ']=cross_val_score(gb_clf, X, y, cv=10, scoring='f1_micro')\n",
    "cross_val_scores['naive_bayes ']=cross_val_score(nb_clf, X, y, cv=10, scoring='f1_micro')\n",
    "cross_val_scores['svm ']=cross_val_score(svm_clf, X, y, cv=10, scoring='f1_micro')\n",
    "cross_val_scores['ADA_boost ']=cross_val_score(adb_clf, X, y, cv=10, scoring='f1_micro')\n"
   ]
  },
  {
   "cell_type": "code",
   "execution_count": 65,
   "id": "58ec6279",
   "metadata": {
    "scrolled": true
   },
   "outputs": [
    {
     "name": "stdout",
     "output_type": "stream",
     "text": [
      "F1 score of logistic classifier using Cross validation  97.32897484916198\n",
      "F1 score of decision_tree  classifier using Cross validation  93.3275978338053\n",
      "F1 score of random_forest  classifier using Cross validation  97.4438886778071\n",
      "F1 score of gradient_boost  classifier using Cross validation  93.94290047599017\n",
      "F1 score of naive_bayes  classifier using Cross validation  97.08383195431871\n",
      "F1 score of svm  classifier using Cross validation  97.13234954728387\n",
      "F1 score of ADA_boost  classifier using Cross validation  95.63596243607459\n"
     ]
    }
   ],
   "source": [
    "for i in cross_val_scores:\n",
    "    print(\"F1 score of \"+i + \" classifier using Cross validation \",cross_val_scores[i].mean()*100)"
   ]
  },
  {
   "cell_type": "markdown",
   "id": "66f64b0a",
   "metadata": {},
   "source": [
    "## TEST DATA"
   ]
  },
  {
   "cell_type": "code",
   "execution_count": 66,
   "id": "a6bb2c37",
   "metadata": {},
   "outputs": [
    {
     "data": {
      "text/html": [
       "<div>\n",
       "<style scoped>\n",
       "    .dataframe tbody tr th:only-of-type {\n",
       "        vertical-align: middle;\n",
       "    }\n",
       "\n",
       "    .dataframe tbody tr th {\n",
       "        vertical-align: top;\n",
       "    }\n",
       "\n",
       "    .dataframe thead th {\n",
       "        text-align: right;\n",
       "    }\n",
       "</style>\n",
       "<table border=\"1\" class=\"dataframe\">\n",
       "  <thead>\n",
       "    <tr style=\"text-align: right;\">\n",
       "      <th></th>\n",
       "      <th>id</th>\n",
       "      <th>created_at</th>\n",
       "      <th>campaign_var_1</th>\n",
       "      <th>campaign_var_2</th>\n",
       "      <th>products_purchased</th>\n",
       "      <th>signup_date</th>\n",
       "      <th>user_activity_var_1</th>\n",
       "      <th>user_activity_var_2</th>\n",
       "      <th>user_activity_var_3</th>\n",
       "      <th>user_activity_var_4</th>\n",
       "      <th>user_activity_var_5</th>\n",
       "      <th>user_activity_var_6</th>\n",
       "      <th>user_activity_var_7</th>\n",
       "      <th>user_activity_var_8</th>\n",
       "      <th>user_activity_var_9</th>\n",
       "      <th>user_activity_var_10</th>\n",
       "      <th>user_activity_var_11</th>\n",
       "      <th>user_activity_var_12</th>\n",
       "    </tr>\n",
       "  </thead>\n",
       "  <tbody>\n",
       "    <tr>\n",
       "      <th>0</th>\n",
       "      <td>39162</td>\n",
       "      <td>2022-01-01</td>\n",
       "      <td>2</td>\n",
       "      <td>2</td>\n",
       "      <td>NaN</td>\n",
       "      <td>2021-08-17</td>\n",
       "      <td>1</td>\n",
       "      <td>1</td>\n",
       "      <td>0</td>\n",
       "      <td>0</td>\n",
       "      <td>0</td>\n",
       "      <td>1</td>\n",
       "      <td>0</td>\n",
       "      <td>0</td>\n",
       "      <td>0</td>\n",
       "      <td>0</td>\n",
       "      <td>1</td>\n",
       "      <td>0</td>\n",
       "    </tr>\n",
       "    <tr>\n",
       "      <th>1</th>\n",
       "      <td>39163</td>\n",
       "      <td>2022-01-01</td>\n",
       "      <td>4</td>\n",
       "      <td>7</td>\n",
       "      <td>3.0</td>\n",
       "      <td>2020-05-21</td>\n",
       "      <td>1</td>\n",
       "      <td>0</td>\n",
       "      <td>0</td>\n",
       "      <td>0</td>\n",
       "      <td>0</td>\n",
       "      <td>0</td>\n",
       "      <td>0</td>\n",
       "      <td>1</td>\n",
       "      <td>0</td>\n",
       "      <td>0</td>\n",
       "      <td>0</td>\n",
       "      <td>0</td>\n",
       "    </tr>\n",
       "    <tr>\n",
       "      <th>2</th>\n",
       "      <td>39164</td>\n",
       "      <td>2022-01-01</td>\n",
       "      <td>8</td>\n",
       "      <td>7</td>\n",
       "      <td>NaN</td>\n",
       "      <td>NaN</td>\n",
       "      <td>0</td>\n",
       "      <td>0</td>\n",
       "      <td>0</td>\n",
       "      <td>0</td>\n",
       "      <td>1</td>\n",
       "      <td>1</td>\n",
       "      <td>0</td>\n",
       "      <td>0</td>\n",
       "      <td>0</td>\n",
       "      <td>0</td>\n",
       "      <td>0</td>\n",
       "      <td>0</td>\n",
       "    </tr>\n",
       "    <tr>\n",
       "      <th>3</th>\n",
       "      <td>39165</td>\n",
       "      <td>2022-01-01</td>\n",
       "      <td>9</td>\n",
       "      <td>8</td>\n",
       "      <td>2.0</td>\n",
       "      <td>2020-06-22</td>\n",
       "      <td>0</td>\n",
       "      <td>0</td>\n",
       "      <td>0</td>\n",
       "      <td>0</td>\n",
       "      <td>1</td>\n",
       "      <td>1</td>\n",
       "      <td>1</td>\n",
       "      <td>0</td>\n",
       "      <td>0</td>\n",
       "      <td>0</td>\n",
       "      <td>2</td>\n",
       "      <td>0</td>\n",
       "    </tr>\n",
       "    <tr>\n",
       "      <th>4</th>\n",
       "      <td>39166</td>\n",
       "      <td>2022-01-01</td>\n",
       "      <td>4</td>\n",
       "      <td>5</td>\n",
       "      <td>2.0</td>\n",
       "      <td>2021-03-10</td>\n",
       "      <td>1</td>\n",
       "      <td>0</td>\n",
       "      <td>0</td>\n",
       "      <td>0</td>\n",
       "      <td>0</td>\n",
       "      <td>0</td>\n",
       "      <td>0</td>\n",
       "      <td>0</td>\n",
       "      <td>0</td>\n",
       "      <td>0</td>\n",
       "      <td>0</td>\n",
       "      <td>0</td>\n",
       "    </tr>\n",
       "  </tbody>\n",
       "</table>\n",
       "</div>"
      ],
      "text/plain": [
       "      id  created_at  campaign_var_1  campaign_var_2  products_purchased  \\\n",
       "0  39162  2022-01-01               2               2                 NaN   \n",
       "1  39163  2022-01-01               4               7                 3.0   \n",
       "2  39164  2022-01-01               8               7                 NaN   \n",
       "3  39165  2022-01-01               9               8                 2.0   \n",
       "4  39166  2022-01-01               4               5                 2.0   \n",
       "\n",
       "  signup_date  user_activity_var_1  user_activity_var_2  user_activity_var_3  \\\n",
       "0  2021-08-17                    1                    1                    0   \n",
       "1  2020-05-21                    1                    0                    0   \n",
       "2         NaN                    0                    0                    0   \n",
       "3  2020-06-22                    0                    0                    0   \n",
       "4  2021-03-10                    1                    0                    0   \n",
       "\n",
       "   user_activity_var_4  user_activity_var_5  user_activity_var_6  \\\n",
       "0                    0                    0                    1   \n",
       "1                    0                    0                    0   \n",
       "2                    0                    1                    1   \n",
       "3                    0                    1                    1   \n",
       "4                    0                    0                    0   \n",
       "\n",
       "   user_activity_var_7  user_activity_var_8  user_activity_var_9  \\\n",
       "0                    0                    0                    0   \n",
       "1                    0                    1                    0   \n",
       "2                    0                    0                    0   \n",
       "3                    1                    0                    0   \n",
       "4                    0                    0                    0   \n",
       "\n",
       "   user_activity_var_10  user_activity_var_11  user_activity_var_12  \n",
       "0                     0                     1                     0  \n",
       "1                     0                     0                     0  \n",
       "2                     0                     0                     0  \n",
       "3                     0                     2                     0  \n",
       "4                     0                     0                     0  "
      ]
     },
     "execution_count": 66,
     "metadata": {},
     "output_type": "execute_result"
    }
   ],
   "source": [
    "test_df=pd.read_csv('test.csv')\n",
    "test_df.head()"
   ]
  },
  {
   "cell_type": "code",
   "execution_count": 67,
   "id": "0757c60d",
   "metadata": {},
   "outputs": [
    {
     "name": "stdout",
     "output_type": "stream",
     "text": [
      "<class 'pandas.core.frame.DataFrame'>\n",
      "RangeIndex: 13184 entries, 0 to 13183\n",
      "Data columns (total 18 columns):\n",
      " #   Column                Non-Null Count  Dtype  \n",
      "---  ------                --------------  -----  \n",
      " 0   id                    13184 non-null  int64  \n",
      " 1   created_at            13184 non-null  object \n",
      " 2   campaign_var_1        13184 non-null  int64  \n",
      " 3   campaign_var_2        13184 non-null  int64  \n",
      " 4   products_purchased    5048 non-null   float64\n",
      " 5   signup_date           6535 non-null   object \n",
      " 6   user_activity_var_1   13184 non-null  int64  \n",
      " 7   user_activity_var_2   13184 non-null  int64  \n",
      " 8   user_activity_var_3   13184 non-null  int64  \n",
      " 9   user_activity_var_4   13184 non-null  int64  \n",
      " 10  user_activity_var_5   13184 non-null  int64  \n",
      " 11  user_activity_var_6   13184 non-null  int64  \n",
      " 12  user_activity_var_7   13184 non-null  int64  \n",
      " 13  user_activity_var_8   13184 non-null  int64  \n",
      " 14  user_activity_var_9   13184 non-null  int64  \n",
      " 15  user_activity_var_10  13184 non-null  int64  \n",
      " 16  user_activity_var_11  13184 non-null  int64  \n",
      " 17  user_activity_var_12  13184 non-null  int64  \n",
      "dtypes: float64(1), int64(15), object(2)\n",
      "memory usage: 1.8+ MB\n"
     ]
    }
   ],
   "source": [
    "test_df.info()"
   ]
  },
  {
   "cell_type": "code",
   "execution_count": 68,
   "id": "ea16ecfc",
   "metadata": {},
   "outputs": [
    {
     "data": {
      "text/plain": [
       "(13184, 18)"
      ]
     },
     "execution_count": 68,
     "metadata": {},
     "output_type": "execute_result"
    }
   ],
   "source": [
    "test_df.shape"
   ]
  },
  {
   "cell_type": "code",
   "execution_count": 69,
   "id": "be17c5a0",
   "metadata": {},
   "outputs": [
    {
     "data": {
      "text/html": [
       "<div>\n",
       "<style scoped>\n",
       "    .dataframe tbody tr th:only-of-type {\n",
       "        vertical-align: middle;\n",
       "    }\n",
       "\n",
       "    .dataframe tbody tr th {\n",
       "        vertical-align: top;\n",
       "    }\n",
       "\n",
       "    .dataframe thead th {\n",
       "        text-align: right;\n",
       "    }\n",
       "</style>\n",
       "<table border=\"1\" class=\"dataframe\">\n",
       "  <thead>\n",
       "    <tr style=\"text-align: right;\">\n",
       "      <th></th>\n",
       "      <th>id</th>\n",
       "      <th>campaign_var_1</th>\n",
       "      <th>campaign_var_2</th>\n",
       "      <th>products_purchased</th>\n",
       "      <th>user_activity_var_1</th>\n",
       "      <th>user_activity_var_2</th>\n",
       "      <th>user_activity_var_3</th>\n",
       "      <th>user_activity_var_4</th>\n",
       "      <th>user_activity_var_5</th>\n",
       "      <th>user_activity_var_6</th>\n",
       "      <th>user_activity_var_7</th>\n",
       "      <th>user_activity_var_8</th>\n",
       "      <th>user_activity_var_9</th>\n",
       "      <th>user_activity_var_10</th>\n",
       "      <th>user_activity_var_11</th>\n",
       "      <th>user_activity_var_12</th>\n",
       "    </tr>\n",
       "  </thead>\n",
       "  <tbody>\n",
       "    <tr>\n",
       "      <th>count</th>\n",
       "      <td>13184.000000</td>\n",
       "      <td>13184.000000</td>\n",
       "      <td>13184.000000</td>\n",
       "      <td>5048.000000</td>\n",
       "      <td>13184.000000</td>\n",
       "      <td>13184.000000</td>\n",
       "      <td>13184.000000</td>\n",
       "      <td>13184.00000</td>\n",
       "      <td>13184.000000</td>\n",
       "      <td>13184.000000</td>\n",
       "      <td>13184.000000</td>\n",
       "      <td>13184.000000</td>\n",
       "      <td>13184.000000</td>\n",
       "      <td>13184.000000</td>\n",
       "      <td>13184.000000</td>\n",
       "      <td>13184.000000</td>\n",
       "    </tr>\n",
       "    <tr>\n",
       "      <th>mean</th>\n",
       "      <td>45753.500000</td>\n",
       "      <td>7.724439</td>\n",
       "      <td>7.943416</td>\n",
       "      <td>2.108954</td>\n",
       "      <td>0.386681</td>\n",
       "      <td>0.004248</td>\n",
       "      <td>0.103307</td>\n",
       "      <td>0.00713</td>\n",
       "      <td>0.153064</td>\n",
       "      <td>0.525485</td>\n",
       "      <td>0.304460</td>\n",
       "      <td>0.142673</td>\n",
       "      <td>0.008419</td>\n",
       "      <td>0.000228</td>\n",
       "      <td>0.253413</td>\n",
       "      <td>0.000228</td>\n",
       "    </tr>\n",
       "    <tr>\n",
       "      <th>std</th>\n",
       "      <td>3806.037309</td>\n",
       "      <td>3.599981</td>\n",
       "      <td>2.687832</td>\n",
       "      <td>0.783483</td>\n",
       "      <td>0.505653</td>\n",
       "      <td>0.065037</td>\n",
       "      <td>0.304371</td>\n",
       "      <td>0.08414</td>\n",
       "      <td>0.360695</td>\n",
       "      <td>0.565208</td>\n",
       "      <td>0.462989</td>\n",
       "      <td>0.349969</td>\n",
       "      <td>0.092200</td>\n",
       "      <td>0.015084</td>\n",
       "      <td>0.462698</td>\n",
       "      <td>0.015084</td>\n",
       "    </tr>\n",
       "    <tr>\n",
       "      <th>min</th>\n",
       "      <td>39162.000000</td>\n",
       "      <td>1.000000</td>\n",
       "      <td>1.000000</td>\n",
       "      <td>1.000000</td>\n",
       "      <td>0.000000</td>\n",
       "      <td>0.000000</td>\n",
       "      <td>0.000000</td>\n",
       "      <td>0.00000</td>\n",
       "      <td>0.000000</td>\n",
       "      <td>0.000000</td>\n",
       "      <td>0.000000</td>\n",
       "      <td>0.000000</td>\n",
       "      <td>0.000000</td>\n",
       "      <td>0.000000</td>\n",
       "      <td>0.000000</td>\n",
       "      <td>0.000000</td>\n",
       "    </tr>\n",
       "    <tr>\n",
       "      <th>25%</th>\n",
       "      <td>42457.750000</td>\n",
       "      <td>5.000000</td>\n",
       "      <td>6.000000</td>\n",
       "      <td>2.000000</td>\n",
       "      <td>0.000000</td>\n",
       "      <td>0.000000</td>\n",
       "      <td>0.000000</td>\n",
       "      <td>0.00000</td>\n",
       "      <td>0.000000</td>\n",
       "      <td>0.000000</td>\n",
       "      <td>0.000000</td>\n",
       "      <td>0.000000</td>\n",
       "      <td>0.000000</td>\n",
       "      <td>0.000000</td>\n",
       "      <td>0.000000</td>\n",
       "      <td>0.000000</td>\n",
       "    </tr>\n",
       "    <tr>\n",
       "      <th>50%</th>\n",
       "      <td>45753.500000</td>\n",
       "      <td>8.000000</td>\n",
       "      <td>8.000000</td>\n",
       "      <td>2.000000</td>\n",
       "      <td>0.000000</td>\n",
       "      <td>0.000000</td>\n",
       "      <td>0.000000</td>\n",
       "      <td>0.00000</td>\n",
       "      <td>0.000000</td>\n",
       "      <td>0.000000</td>\n",
       "      <td>0.000000</td>\n",
       "      <td>0.000000</td>\n",
       "      <td>0.000000</td>\n",
       "      <td>0.000000</td>\n",
       "      <td>0.000000</td>\n",
       "      <td>0.000000</td>\n",
       "    </tr>\n",
       "    <tr>\n",
       "      <th>75%</th>\n",
       "      <td>49049.250000</td>\n",
       "      <td>10.000000</td>\n",
       "      <td>10.000000</td>\n",
       "      <td>3.000000</td>\n",
       "      <td>1.000000</td>\n",
       "      <td>0.000000</td>\n",
       "      <td>0.000000</td>\n",
       "      <td>0.00000</td>\n",
       "      <td>0.000000</td>\n",
       "      <td>1.000000</td>\n",
       "      <td>1.000000</td>\n",
       "      <td>0.000000</td>\n",
       "      <td>0.000000</td>\n",
       "      <td>0.000000</td>\n",
       "      <td>0.000000</td>\n",
       "      <td>0.000000</td>\n",
       "    </tr>\n",
       "    <tr>\n",
       "      <th>max</th>\n",
       "      <td>52345.000000</td>\n",
       "      <td>16.000000</td>\n",
       "      <td>15.000000</td>\n",
       "      <td>4.000000</td>\n",
       "      <td>3.000000</td>\n",
       "      <td>1.000000</td>\n",
       "      <td>1.000000</td>\n",
       "      <td>1.00000</td>\n",
       "      <td>2.000000</td>\n",
       "      <td>3.000000</td>\n",
       "      <td>2.000000</td>\n",
       "      <td>2.000000</td>\n",
       "      <td>2.000000</td>\n",
       "      <td>1.000000</td>\n",
       "      <td>3.000000</td>\n",
       "      <td>1.000000</td>\n",
       "    </tr>\n",
       "  </tbody>\n",
       "</table>\n",
       "</div>"
      ],
      "text/plain": [
       "                 id  campaign_var_1  campaign_var_2  products_purchased  \\\n",
       "count  13184.000000    13184.000000    13184.000000         5048.000000   \n",
       "mean   45753.500000        7.724439        7.943416            2.108954   \n",
       "std     3806.037309        3.599981        2.687832            0.783483   \n",
       "min    39162.000000        1.000000        1.000000            1.000000   \n",
       "25%    42457.750000        5.000000        6.000000            2.000000   \n",
       "50%    45753.500000        8.000000        8.000000            2.000000   \n",
       "75%    49049.250000       10.000000       10.000000            3.000000   \n",
       "max    52345.000000       16.000000       15.000000            4.000000   \n",
       "\n",
       "       user_activity_var_1  user_activity_var_2  user_activity_var_3  \\\n",
       "count         13184.000000         13184.000000         13184.000000   \n",
       "mean              0.386681             0.004248             0.103307   \n",
       "std               0.505653             0.065037             0.304371   \n",
       "min               0.000000             0.000000             0.000000   \n",
       "25%               0.000000             0.000000             0.000000   \n",
       "50%               0.000000             0.000000             0.000000   \n",
       "75%               1.000000             0.000000             0.000000   \n",
       "max               3.000000             1.000000             1.000000   \n",
       "\n",
       "       user_activity_var_4  user_activity_var_5  user_activity_var_6  \\\n",
       "count          13184.00000         13184.000000         13184.000000   \n",
       "mean               0.00713             0.153064             0.525485   \n",
       "std                0.08414             0.360695             0.565208   \n",
       "min                0.00000             0.000000             0.000000   \n",
       "25%                0.00000             0.000000             0.000000   \n",
       "50%                0.00000             0.000000             0.000000   \n",
       "75%                0.00000             0.000000             1.000000   \n",
       "max                1.00000             2.000000             3.000000   \n",
       "\n",
       "       user_activity_var_7  user_activity_var_8  user_activity_var_9  \\\n",
       "count         13184.000000         13184.000000         13184.000000   \n",
       "mean              0.304460             0.142673             0.008419   \n",
       "std               0.462989             0.349969             0.092200   \n",
       "min               0.000000             0.000000             0.000000   \n",
       "25%               0.000000             0.000000             0.000000   \n",
       "50%               0.000000             0.000000             0.000000   \n",
       "75%               1.000000             0.000000             0.000000   \n",
       "max               2.000000             2.000000             2.000000   \n",
       "\n",
       "       user_activity_var_10  user_activity_var_11  user_activity_var_12  \n",
       "count          13184.000000          13184.000000          13184.000000  \n",
       "mean               0.000228              0.253413              0.000228  \n",
       "std                0.015084              0.462698              0.015084  \n",
       "min                0.000000              0.000000              0.000000  \n",
       "25%                0.000000              0.000000              0.000000  \n",
       "50%                0.000000              0.000000              0.000000  \n",
       "75%                0.000000              0.000000              0.000000  \n",
       "max                1.000000              3.000000              1.000000  "
      ]
     },
     "execution_count": 69,
     "metadata": {},
     "output_type": "execute_result"
    }
   ],
   "source": [
    "test_df.describe()"
   ]
  },
  {
   "cell_type": "code",
   "execution_count": 70,
   "id": "ae324e16",
   "metadata": {},
   "outputs": [
    {
     "data": {
      "text/plain": [
       "id                         0\n",
       "created_at                 0\n",
       "campaign_var_1             0\n",
       "campaign_var_2             0\n",
       "products_purchased      8136\n",
       "signup_date             6649\n",
       "user_activity_var_1        0\n",
       "user_activity_var_2        0\n",
       "user_activity_var_3        0\n",
       "user_activity_var_4        0\n",
       "user_activity_var_5        0\n",
       "user_activity_var_6        0\n",
       "user_activity_var_7        0\n",
       "user_activity_var_8        0\n",
       "user_activity_var_9        0\n",
       "user_activity_var_10       0\n",
       "user_activity_var_11       0\n",
       "user_activity_var_12       0\n",
       "dtype: int64"
      ]
     },
     "execution_count": 70,
     "metadata": {},
     "output_type": "execute_result"
    }
   ],
   "source": [
    "test_df.isnull().sum()"
   ]
  },
  {
   "cell_type": "code",
   "execution_count": 71,
   "id": "1851721b",
   "metadata": {},
   "outputs": [],
   "source": [
    "test_df['products_purchased'].fillna(1,inplace=True)\n",
    "test_df['signup_date'].fillna(test_df['signup_date'].mode()[0],inplace=True)"
   ]
  },
  {
   "cell_type": "code",
   "execution_count": 72,
   "id": "82b88838",
   "metadata": {},
   "outputs": [
    {
     "data": {
      "text/plain": [
       "id                      0\n",
       "created_at              0\n",
       "campaign_var_1          0\n",
       "campaign_var_2          0\n",
       "products_purchased      0\n",
       "signup_date             0\n",
       "user_activity_var_1     0\n",
       "user_activity_var_2     0\n",
       "user_activity_var_3     0\n",
       "user_activity_var_4     0\n",
       "user_activity_var_5     0\n",
       "user_activity_var_6     0\n",
       "user_activity_var_7     0\n",
       "user_activity_var_8     0\n",
       "user_activity_var_9     0\n",
       "user_activity_var_10    0\n",
       "user_activity_var_11    0\n",
       "user_activity_var_12    0\n",
       "dtype: int64"
      ]
     },
     "execution_count": 72,
     "metadata": {},
     "output_type": "execute_result"
    }
   ],
   "source": [
    "test_df.isnull().sum()"
   ]
  },
  {
   "cell_type": "code",
   "execution_count": 73,
   "id": "a2de3328",
   "metadata": {},
   "outputs": [],
   "source": [
    "#date values recreateda s multiple columns and the original values removed\n",
    "test_df['createdDate'] = pd.to_datetime(test_df['created_at'])\n",
    "test_df['signupDate'] = pd.to_datetime(test_df['signup_date'])\n",
    "test_df['cDate'] = test_df['createdDate'].dt.day\n",
    "test_df['cyear'] = test_df['createdDate'].dt.year\n",
    "test_df['cmonth'] = test_df['createdDate'].dt.month\n",
    "test_df['signDate'] = test_df['signupDate'].dt.day\n",
    "test_df['signyear'] = test_df['signupDate'].dt.year\n",
    "test_df['signmonth'] = test_df['signupDate'].dt.month\n",
    "test_df2=test_df.drop(['created_at','signup_date','createdDate','signupDate'],axis=1)"
   ]
  },
  {
   "cell_type": "code",
   "execution_count": 74,
   "id": "11bca835",
   "metadata": {},
   "outputs": [
    {
     "data": {
      "text/html": [
       "<div>\n",
       "<style scoped>\n",
       "    .dataframe tbody tr th:only-of-type {\n",
       "        vertical-align: middle;\n",
       "    }\n",
       "\n",
       "    .dataframe tbody tr th {\n",
       "        vertical-align: top;\n",
       "    }\n",
       "\n",
       "    .dataframe thead th {\n",
       "        text-align: right;\n",
       "    }\n",
       "</style>\n",
       "<table border=\"1\" class=\"dataframe\">\n",
       "  <thead>\n",
       "    <tr style=\"text-align: right;\">\n",
       "      <th></th>\n",
       "      <th>campaign_var_1</th>\n",
       "      <th>campaign_var_2</th>\n",
       "      <th>products_purchased</th>\n",
       "      <th>user_activity_var_1</th>\n",
       "      <th>user_activity_var_2</th>\n",
       "      <th>user_activity_var_3</th>\n",
       "      <th>user_activity_var_4</th>\n",
       "      <th>user_activity_var_5</th>\n",
       "      <th>user_activity_var_6</th>\n",
       "      <th>user_activity_var_7</th>\n",
       "      <th>...</th>\n",
       "      <th>user_activity_var_9</th>\n",
       "      <th>user_activity_var_10</th>\n",
       "      <th>user_activity_var_11</th>\n",
       "      <th>user_activity_var_12</th>\n",
       "      <th>cDate</th>\n",
       "      <th>cyear</th>\n",
       "      <th>cmonth</th>\n",
       "      <th>signDate</th>\n",
       "      <th>signyear</th>\n",
       "      <th>signmonth</th>\n",
       "    </tr>\n",
       "  </thead>\n",
       "  <tbody>\n",
       "    <tr>\n",
       "      <th>0</th>\n",
       "      <td>-1.590191</td>\n",
       "      <td>-2.211315</td>\n",
       "      <td>-0.585696</td>\n",
       "      <td>1.212970</td>\n",
       "      <td>15.311060</td>\n",
       "      <td>-0.339424</td>\n",
       "      <td>-0.084741</td>\n",
       "      <td>-0.424376</td>\n",
       "      <td>0.839572</td>\n",
       "      <td>-0.657621</td>\n",
       "      <td>...</td>\n",
       "      <td>-0.091319</td>\n",
       "      <td>-0.015086</td>\n",
       "      <td>1.613611</td>\n",
       "      <td>-0.015086</td>\n",
       "      <td>-1.671424</td>\n",
       "      <td>0.0</td>\n",
       "      <td>-1.177149</td>\n",
       "      <td>0.777688</td>\n",
       "      <td>-0.330312</td>\n",
       "      <td>1.078438</td>\n",
       "    </tr>\n",
       "    <tr>\n",
       "      <th>1</th>\n",
       "      <td>-1.034611</td>\n",
       "      <td>-0.351009</td>\n",
       "      <td>2.173080</td>\n",
       "      <td>1.212970</td>\n",
       "      <td>-0.065312</td>\n",
       "      <td>-0.339424</td>\n",
       "      <td>-0.084741</td>\n",
       "      <td>-0.424376</td>\n",
       "      <td>-0.929756</td>\n",
       "      <td>-0.657621</td>\n",
       "      <td>...</td>\n",
       "      <td>-0.091319</td>\n",
       "      <td>-0.015086</td>\n",
       "      <td>-0.547706</td>\n",
       "      <td>-0.015086</td>\n",
       "      <td>-1.671424</td>\n",
       "      <td>0.0</td>\n",
       "      <td>-1.177149</td>\n",
       "      <td>1.284856</td>\n",
       "      <td>-1.354498</td>\n",
       "      <td>0.106569</td>\n",
       "    </tr>\n",
       "    <tr>\n",
       "      <th>2</th>\n",
       "      <td>0.076548</td>\n",
       "      <td>-0.351009</td>\n",
       "      <td>-0.585696</td>\n",
       "      <td>-0.764744</td>\n",
       "      <td>-0.065312</td>\n",
       "      <td>-0.339424</td>\n",
       "      <td>-0.084741</td>\n",
       "      <td>2.348158</td>\n",
       "      <td>0.839572</td>\n",
       "      <td>-0.657621</td>\n",
       "      <td>...</td>\n",
       "      <td>-0.091319</td>\n",
       "      <td>-0.015086</td>\n",
       "      <td>-0.547706</td>\n",
       "      <td>-0.015086</td>\n",
       "      <td>-1.671424</td>\n",
       "      <td>0.0</td>\n",
       "      <td>-1.177149</td>\n",
       "      <td>-0.617024</td>\n",
       "      <td>0.693874</td>\n",
       "      <td>-0.541345</td>\n",
       "    </tr>\n",
       "    <tr>\n",
       "      <th>3</th>\n",
       "      <td>0.354338</td>\n",
       "      <td>0.021053</td>\n",
       "      <td>0.793692</td>\n",
       "      <td>-0.764744</td>\n",
       "      <td>-0.065312</td>\n",
       "      <td>-0.339424</td>\n",
       "      <td>-0.084741</td>\n",
       "      <td>2.348158</td>\n",
       "      <td>0.839572</td>\n",
       "      <td>1.502338</td>\n",
       "      <td>...</td>\n",
       "      <td>-0.091319</td>\n",
       "      <td>-0.015086</td>\n",
       "      <td>3.774927</td>\n",
       "      <td>-0.015086</td>\n",
       "      <td>-1.671424</td>\n",
       "      <td>0.0</td>\n",
       "      <td>-1.177149</td>\n",
       "      <td>1.411648</td>\n",
       "      <td>-1.354498</td>\n",
       "      <td>0.430525</td>\n",
       "    </tr>\n",
       "    <tr>\n",
       "      <th>4</th>\n",
       "      <td>-1.034611</td>\n",
       "      <td>-1.095131</td>\n",
       "      <td>0.793692</td>\n",
       "      <td>1.212970</td>\n",
       "      <td>-0.065312</td>\n",
       "      <td>-0.339424</td>\n",
       "      <td>-0.084741</td>\n",
       "      <td>-0.424376</td>\n",
       "      <td>-0.929756</td>\n",
       "      <td>-0.657621</td>\n",
       "      <td>...</td>\n",
       "      <td>-0.091319</td>\n",
       "      <td>-0.015086</td>\n",
       "      <td>-0.547706</td>\n",
       "      <td>-0.015086</td>\n",
       "      <td>-1.671424</td>\n",
       "      <td>0.0</td>\n",
       "      <td>-1.177149</td>\n",
       "      <td>-0.109856</td>\n",
       "      <td>-0.330312</td>\n",
       "      <td>-0.541345</td>\n",
       "    </tr>\n",
       "    <tr>\n",
       "      <th>...</th>\n",
       "      <td>...</td>\n",
       "      <td>...</td>\n",
       "      <td>...</td>\n",
       "      <td>...</td>\n",
       "      <td>...</td>\n",
       "      <td>...</td>\n",
       "      <td>...</td>\n",
       "      <td>...</td>\n",
       "      <td>...</td>\n",
       "      <td>...</td>\n",
       "      <td>...</td>\n",
       "      <td>...</td>\n",
       "      <td>...</td>\n",
       "      <td>...</td>\n",
       "      <td>...</td>\n",
       "      <td>...</td>\n",
       "      <td>...</td>\n",
       "      <td>...</td>\n",
       "      <td>...</td>\n",
       "      <td>...</td>\n",
       "      <td>...</td>\n",
       "    </tr>\n",
       "    <tr>\n",
       "      <th>13179</th>\n",
       "      <td>2.298866</td>\n",
       "      <td>1.509297</td>\n",
       "      <td>-0.585696</td>\n",
       "      <td>-0.764744</td>\n",
       "      <td>-0.065312</td>\n",
       "      <td>-0.339424</td>\n",
       "      <td>-0.084741</td>\n",
       "      <td>-0.424376</td>\n",
       "      <td>0.839572</td>\n",
       "      <td>1.502338</td>\n",
       "      <td>...</td>\n",
       "      <td>-0.091319</td>\n",
       "      <td>-0.015086</td>\n",
       "      <td>-0.547706</td>\n",
       "      <td>-0.015086</td>\n",
       "      <td>1.733587</td>\n",
       "      <td>0.0</td>\n",
       "      <td>1.251953</td>\n",
       "      <td>-0.617024</td>\n",
       "      <td>0.693874</td>\n",
       "      <td>-0.541345</td>\n",
       "    </tr>\n",
       "    <tr>\n",
       "      <th>13180</th>\n",
       "      <td>1.187707</td>\n",
       "      <td>0.021053</td>\n",
       "      <td>-0.585696</td>\n",
       "      <td>1.212970</td>\n",
       "      <td>-0.065312</td>\n",
       "      <td>-0.339424</td>\n",
       "      <td>-0.084741</td>\n",
       "      <td>-0.424376</td>\n",
       "      <td>0.839572</td>\n",
       "      <td>-0.657621</td>\n",
       "      <td>...</td>\n",
       "      <td>-0.091319</td>\n",
       "      <td>-0.015086</td>\n",
       "      <td>-0.547706</td>\n",
       "      <td>-0.015086</td>\n",
       "      <td>1.733587</td>\n",
       "      <td>0.0</td>\n",
       "      <td>1.251953</td>\n",
       "      <td>1.031272</td>\n",
       "      <td>0.693874</td>\n",
       "      <td>-0.541345</td>\n",
       "    </tr>\n",
       "    <tr>\n",
       "      <th>13181</th>\n",
       "      <td>1.743287</td>\n",
       "      <td>2.253420</td>\n",
       "      <td>2.173080</td>\n",
       "      <td>-0.764744</td>\n",
       "      <td>-0.065312</td>\n",
       "      <td>2.946164</td>\n",
       "      <td>-0.084741</td>\n",
       "      <td>-0.424376</td>\n",
       "      <td>-0.929756</td>\n",
       "      <td>1.502338</td>\n",
       "      <td>...</td>\n",
       "      <td>-0.091319</td>\n",
       "      <td>-0.015086</td>\n",
       "      <td>-0.547706</td>\n",
       "      <td>-0.015086</td>\n",
       "      <td>1.733587</td>\n",
       "      <td>0.0</td>\n",
       "      <td>1.251953</td>\n",
       "      <td>0.524104</td>\n",
       "      <td>-0.330312</td>\n",
       "      <td>1.078438</td>\n",
       "    </tr>\n",
       "    <tr>\n",
       "      <th>13182</th>\n",
       "      <td>1.743287</td>\n",
       "      <td>0.765175</td>\n",
       "      <td>-0.585696</td>\n",
       "      <td>-0.764744</td>\n",
       "      <td>-0.065312</td>\n",
       "      <td>-0.339424</td>\n",
       "      <td>-0.084741</td>\n",
       "      <td>-0.424376</td>\n",
       "      <td>-0.929756</td>\n",
       "      <td>1.502338</td>\n",
       "      <td>...</td>\n",
       "      <td>-0.091319</td>\n",
       "      <td>-0.015086</td>\n",
       "      <td>1.613611</td>\n",
       "      <td>-0.015086</td>\n",
       "      <td>1.733587</td>\n",
       "      <td>0.0</td>\n",
       "      <td>1.251953</td>\n",
       "      <td>-0.617024</td>\n",
       "      <td>0.693874</td>\n",
       "      <td>-0.541345</td>\n",
       "    </tr>\n",
       "    <tr>\n",
       "      <th>13183</th>\n",
       "      <td>1.465497</td>\n",
       "      <td>1.881359</td>\n",
       "      <td>-0.585696</td>\n",
       "      <td>-0.764744</td>\n",
       "      <td>-0.065312</td>\n",
       "      <td>-0.339424</td>\n",
       "      <td>-0.084741</td>\n",
       "      <td>-0.424376</td>\n",
       "      <td>0.839572</td>\n",
       "      <td>1.502338</td>\n",
       "      <td>...</td>\n",
       "      <td>-0.091319</td>\n",
       "      <td>-0.015086</td>\n",
       "      <td>1.613611</td>\n",
       "      <td>-0.015086</td>\n",
       "      <td>1.733587</td>\n",
       "      <td>0.0</td>\n",
       "      <td>1.251953</td>\n",
       "      <td>-0.617024</td>\n",
       "      <td>0.693874</td>\n",
       "      <td>-0.541345</td>\n",
       "    </tr>\n",
       "  </tbody>\n",
       "</table>\n",
       "<p>13184 rows × 21 columns</p>\n",
       "</div>"
      ],
      "text/plain": [
       "       campaign_var_1  campaign_var_2  products_purchased  \\\n",
       "0           -1.590191       -2.211315           -0.585696   \n",
       "1           -1.034611       -0.351009            2.173080   \n",
       "2            0.076548       -0.351009           -0.585696   \n",
       "3            0.354338        0.021053            0.793692   \n",
       "4           -1.034611       -1.095131            0.793692   \n",
       "...               ...             ...                 ...   \n",
       "13179        2.298866        1.509297           -0.585696   \n",
       "13180        1.187707        0.021053           -0.585696   \n",
       "13181        1.743287        2.253420            2.173080   \n",
       "13182        1.743287        0.765175           -0.585696   \n",
       "13183        1.465497        1.881359           -0.585696   \n",
       "\n",
       "       user_activity_var_1  user_activity_var_2  user_activity_var_3  \\\n",
       "0                 1.212970            15.311060            -0.339424   \n",
       "1                 1.212970            -0.065312            -0.339424   \n",
       "2                -0.764744            -0.065312            -0.339424   \n",
       "3                -0.764744            -0.065312            -0.339424   \n",
       "4                 1.212970            -0.065312            -0.339424   \n",
       "...                    ...                  ...                  ...   \n",
       "13179            -0.764744            -0.065312            -0.339424   \n",
       "13180             1.212970            -0.065312            -0.339424   \n",
       "13181            -0.764744            -0.065312             2.946164   \n",
       "13182            -0.764744            -0.065312            -0.339424   \n",
       "13183            -0.764744            -0.065312            -0.339424   \n",
       "\n",
       "       user_activity_var_4  user_activity_var_5  user_activity_var_6  \\\n",
       "0                -0.084741            -0.424376             0.839572   \n",
       "1                -0.084741            -0.424376            -0.929756   \n",
       "2                -0.084741             2.348158             0.839572   \n",
       "3                -0.084741             2.348158             0.839572   \n",
       "4                -0.084741            -0.424376            -0.929756   \n",
       "...                    ...                  ...                  ...   \n",
       "13179            -0.084741            -0.424376             0.839572   \n",
       "13180            -0.084741            -0.424376             0.839572   \n",
       "13181            -0.084741            -0.424376            -0.929756   \n",
       "13182            -0.084741            -0.424376            -0.929756   \n",
       "13183            -0.084741            -0.424376             0.839572   \n",
       "\n",
       "       user_activity_var_7  ...  user_activity_var_9  user_activity_var_10  \\\n",
       "0                -0.657621  ...            -0.091319             -0.015086   \n",
       "1                -0.657621  ...            -0.091319             -0.015086   \n",
       "2                -0.657621  ...            -0.091319             -0.015086   \n",
       "3                 1.502338  ...            -0.091319             -0.015086   \n",
       "4                -0.657621  ...            -0.091319             -0.015086   \n",
       "...                    ...  ...                  ...                   ...   \n",
       "13179             1.502338  ...            -0.091319             -0.015086   \n",
       "13180            -0.657621  ...            -0.091319             -0.015086   \n",
       "13181             1.502338  ...            -0.091319             -0.015086   \n",
       "13182             1.502338  ...            -0.091319             -0.015086   \n",
       "13183             1.502338  ...            -0.091319             -0.015086   \n",
       "\n",
       "       user_activity_var_11  user_activity_var_12     cDate  cyear    cmonth  \\\n",
       "0                  1.613611             -0.015086 -1.671424    0.0 -1.177149   \n",
       "1                 -0.547706             -0.015086 -1.671424    0.0 -1.177149   \n",
       "2                 -0.547706             -0.015086 -1.671424    0.0 -1.177149   \n",
       "3                  3.774927             -0.015086 -1.671424    0.0 -1.177149   \n",
       "4                 -0.547706             -0.015086 -1.671424    0.0 -1.177149   \n",
       "...                     ...                   ...       ...    ...       ...   \n",
       "13179             -0.547706             -0.015086  1.733587    0.0  1.251953   \n",
       "13180             -0.547706             -0.015086  1.733587    0.0  1.251953   \n",
       "13181             -0.547706             -0.015086  1.733587    0.0  1.251953   \n",
       "13182              1.613611             -0.015086  1.733587    0.0  1.251953   \n",
       "13183              1.613611             -0.015086  1.733587    0.0  1.251953   \n",
       "\n",
       "       signDate  signyear  signmonth  \n",
       "0      0.777688 -0.330312   1.078438  \n",
       "1      1.284856 -1.354498   0.106569  \n",
       "2     -0.617024  0.693874  -0.541345  \n",
       "3      1.411648 -1.354498   0.430525  \n",
       "4     -0.109856 -0.330312  -0.541345  \n",
       "...         ...       ...        ...  \n",
       "13179 -0.617024  0.693874  -0.541345  \n",
       "13180  1.031272  0.693874  -0.541345  \n",
       "13181  0.524104 -0.330312   1.078438  \n",
       "13182 -0.617024  0.693874  -0.541345  \n",
       "13183 -0.617024  0.693874  -0.541345  \n",
       "\n",
       "[13184 rows x 21 columns]"
      ]
     },
     "execution_count": 74,
     "metadata": {},
     "output_type": "execute_result"
    }
   ],
   "source": [
    "#standardization of test data\n",
    "test_X=test_df2.drop(['id'],axis=1)\n",
    "scale=preprocessing.StandardScaler()\n",
    "for column in test_X.columns:\n",
    "    get_column = test_X[column]\n",
    "    reshaped_vals = get_column.values.reshape(-1, 1)\n",
    "    test_X[column] = scale.fit_transform(reshaped_vals)\n",
    "test_X"
   ]
  },
  {
   "cell_type": "code",
   "execution_count": 75,
   "id": "54566c6a",
   "metadata": {},
   "outputs": [
    {
     "data": {
      "text/html": [
       "<div>\n",
       "<style scoped>\n",
       "    .dataframe tbody tr th:only-of-type {\n",
       "        vertical-align: middle;\n",
       "    }\n",
       "\n",
       "    .dataframe tbody tr th {\n",
       "        vertical-align: top;\n",
       "    }\n",
       "\n",
       "    .dataframe thead th {\n",
       "        text-align: right;\n",
       "    }\n",
       "</style>\n",
       "<table border=\"1\" class=\"dataframe\">\n",
       "  <thead>\n",
       "    <tr style=\"text-align: right;\">\n",
       "      <th></th>\n",
       "      <th>campaign_var_1</th>\n",
       "      <th>campaign_var_2</th>\n",
       "      <th>products_purchased</th>\n",
       "      <th>user_activity_var_1</th>\n",
       "      <th>user_activity_var_2</th>\n",
       "      <th>user_activity_var_3</th>\n",
       "      <th>user_activity_var_4</th>\n",
       "      <th>user_activity_var_5</th>\n",
       "      <th>user_activity_var_6</th>\n",
       "      <th>user_activity_var_7</th>\n",
       "      <th>...</th>\n",
       "      <th>user_activity_var_9</th>\n",
       "      <th>user_activity_var_10</th>\n",
       "      <th>user_activity_var_11</th>\n",
       "      <th>user_activity_var_12</th>\n",
       "      <th>cDate</th>\n",
       "      <th>cyear</th>\n",
       "      <th>cmonth</th>\n",
       "      <th>signDate</th>\n",
       "      <th>signyear</th>\n",
       "      <th>signmonth</th>\n",
       "    </tr>\n",
       "  </thead>\n",
       "  <tbody>\n",
       "    <tr>\n",
       "      <th>0</th>\n",
       "      <td>0.066667</td>\n",
       "      <td>0.071429</td>\n",
       "      <td>0.000000</td>\n",
       "      <td>0.333333</td>\n",
       "      <td>1.0</td>\n",
       "      <td>0.0</td>\n",
       "      <td>0.0</td>\n",
       "      <td>0.0</td>\n",
       "      <td>0.333333</td>\n",
       "      <td>0.0</td>\n",
       "      <td>...</td>\n",
       "      <td>0.0</td>\n",
       "      <td>0.0</td>\n",
       "      <td>0.333333</td>\n",
       "      <td>0.0</td>\n",
       "      <td>0.000000</td>\n",
       "      <td>0.0</td>\n",
       "      <td>0.0</td>\n",
       "      <td>0.533333</td>\n",
       "      <td>0.857143</td>\n",
       "      <td>0.636364</td>\n",
       "    </tr>\n",
       "    <tr>\n",
       "      <th>1</th>\n",
       "      <td>0.200000</td>\n",
       "      <td>0.428571</td>\n",
       "      <td>0.666667</td>\n",
       "      <td>0.333333</td>\n",
       "      <td>0.0</td>\n",
       "      <td>0.0</td>\n",
       "      <td>0.0</td>\n",
       "      <td>0.0</td>\n",
       "      <td>0.000000</td>\n",
       "      <td>0.0</td>\n",
       "      <td>...</td>\n",
       "      <td>0.0</td>\n",
       "      <td>0.0</td>\n",
       "      <td>0.000000</td>\n",
       "      <td>0.0</td>\n",
       "      <td>0.000000</td>\n",
       "      <td>0.0</td>\n",
       "      <td>0.0</td>\n",
       "      <td>0.666667</td>\n",
       "      <td>0.714286</td>\n",
       "      <td>0.363636</td>\n",
       "    </tr>\n",
       "    <tr>\n",
       "      <th>2</th>\n",
       "      <td>0.466667</td>\n",
       "      <td>0.428571</td>\n",
       "      <td>0.000000</td>\n",
       "      <td>0.000000</td>\n",
       "      <td>0.0</td>\n",
       "      <td>0.0</td>\n",
       "      <td>0.0</td>\n",
       "      <td>0.5</td>\n",
       "      <td>0.333333</td>\n",
       "      <td>0.0</td>\n",
       "      <td>...</td>\n",
       "      <td>0.0</td>\n",
       "      <td>0.0</td>\n",
       "      <td>0.000000</td>\n",
       "      <td>0.0</td>\n",
       "      <td>0.000000</td>\n",
       "      <td>0.0</td>\n",
       "      <td>0.0</td>\n",
       "      <td>0.166667</td>\n",
       "      <td>1.000000</td>\n",
       "      <td>0.181818</td>\n",
       "    </tr>\n",
       "    <tr>\n",
       "      <th>3</th>\n",
       "      <td>0.533333</td>\n",
       "      <td>0.500000</td>\n",
       "      <td>0.333333</td>\n",
       "      <td>0.000000</td>\n",
       "      <td>0.0</td>\n",
       "      <td>0.0</td>\n",
       "      <td>0.0</td>\n",
       "      <td>0.5</td>\n",
       "      <td>0.333333</td>\n",
       "      <td>0.5</td>\n",
       "      <td>...</td>\n",
       "      <td>0.0</td>\n",
       "      <td>0.0</td>\n",
       "      <td>0.666667</td>\n",
       "      <td>0.0</td>\n",
       "      <td>0.000000</td>\n",
       "      <td>0.0</td>\n",
       "      <td>0.0</td>\n",
       "      <td>0.700000</td>\n",
       "      <td>0.714286</td>\n",
       "      <td>0.454545</td>\n",
       "    </tr>\n",
       "    <tr>\n",
       "      <th>4</th>\n",
       "      <td>0.200000</td>\n",
       "      <td>0.285714</td>\n",
       "      <td>0.333333</td>\n",
       "      <td>0.333333</td>\n",
       "      <td>0.0</td>\n",
       "      <td>0.0</td>\n",
       "      <td>0.0</td>\n",
       "      <td>0.0</td>\n",
       "      <td>0.000000</td>\n",
       "      <td>0.0</td>\n",
       "      <td>...</td>\n",
       "      <td>0.0</td>\n",
       "      <td>0.0</td>\n",
       "      <td>0.000000</td>\n",
       "      <td>0.0</td>\n",
       "      <td>0.000000</td>\n",
       "      <td>0.0</td>\n",
       "      <td>0.0</td>\n",
       "      <td>0.300000</td>\n",
       "      <td>0.857143</td>\n",
       "      <td>0.181818</td>\n",
       "    </tr>\n",
       "    <tr>\n",
       "      <th>...</th>\n",
       "      <td>...</td>\n",
       "      <td>...</td>\n",
       "      <td>...</td>\n",
       "      <td>...</td>\n",
       "      <td>...</td>\n",
       "      <td>...</td>\n",
       "      <td>...</td>\n",
       "      <td>...</td>\n",
       "      <td>...</td>\n",
       "      <td>...</td>\n",
       "      <td>...</td>\n",
       "      <td>...</td>\n",
       "      <td>...</td>\n",
       "      <td>...</td>\n",
       "      <td>...</td>\n",
       "      <td>...</td>\n",
       "      <td>...</td>\n",
       "      <td>...</td>\n",
       "      <td>...</td>\n",
       "      <td>...</td>\n",
       "      <td>...</td>\n",
       "    </tr>\n",
       "    <tr>\n",
       "      <th>13179</th>\n",
       "      <td>1.000000</td>\n",
       "      <td>0.785714</td>\n",
       "      <td>0.000000</td>\n",
       "      <td>0.000000</td>\n",
       "      <td>0.0</td>\n",
       "      <td>0.0</td>\n",
       "      <td>0.0</td>\n",
       "      <td>0.0</td>\n",
       "      <td>0.333333</td>\n",
       "      <td>0.5</td>\n",
       "      <td>...</td>\n",
       "      <td>0.0</td>\n",
       "      <td>0.0</td>\n",
       "      <td>0.000000</td>\n",
       "      <td>0.0</td>\n",
       "      <td>0.966667</td>\n",
       "      <td>0.0</td>\n",
       "      <td>1.0</td>\n",
       "      <td>0.166667</td>\n",
       "      <td>1.000000</td>\n",
       "      <td>0.181818</td>\n",
       "    </tr>\n",
       "    <tr>\n",
       "      <th>13180</th>\n",
       "      <td>0.733333</td>\n",
       "      <td>0.500000</td>\n",
       "      <td>0.000000</td>\n",
       "      <td>0.333333</td>\n",
       "      <td>0.0</td>\n",
       "      <td>0.0</td>\n",
       "      <td>0.0</td>\n",
       "      <td>0.0</td>\n",
       "      <td>0.333333</td>\n",
       "      <td>0.0</td>\n",
       "      <td>...</td>\n",
       "      <td>0.0</td>\n",
       "      <td>0.0</td>\n",
       "      <td>0.000000</td>\n",
       "      <td>0.0</td>\n",
       "      <td>0.966667</td>\n",
       "      <td>0.0</td>\n",
       "      <td>1.0</td>\n",
       "      <td>0.600000</td>\n",
       "      <td>1.000000</td>\n",
       "      <td>0.181818</td>\n",
       "    </tr>\n",
       "    <tr>\n",
       "      <th>13181</th>\n",
       "      <td>0.866667</td>\n",
       "      <td>0.928571</td>\n",
       "      <td>0.666667</td>\n",
       "      <td>0.000000</td>\n",
       "      <td>0.0</td>\n",
       "      <td>1.0</td>\n",
       "      <td>0.0</td>\n",
       "      <td>0.0</td>\n",
       "      <td>0.000000</td>\n",
       "      <td>0.5</td>\n",
       "      <td>...</td>\n",
       "      <td>0.0</td>\n",
       "      <td>0.0</td>\n",
       "      <td>0.000000</td>\n",
       "      <td>0.0</td>\n",
       "      <td>0.966667</td>\n",
       "      <td>0.0</td>\n",
       "      <td>1.0</td>\n",
       "      <td>0.466667</td>\n",
       "      <td>0.857143</td>\n",
       "      <td>0.636364</td>\n",
       "    </tr>\n",
       "    <tr>\n",
       "      <th>13182</th>\n",
       "      <td>0.866667</td>\n",
       "      <td>0.642857</td>\n",
       "      <td>0.000000</td>\n",
       "      <td>0.000000</td>\n",
       "      <td>0.0</td>\n",
       "      <td>0.0</td>\n",
       "      <td>0.0</td>\n",
       "      <td>0.0</td>\n",
       "      <td>0.000000</td>\n",
       "      <td>0.5</td>\n",
       "      <td>...</td>\n",
       "      <td>0.0</td>\n",
       "      <td>0.0</td>\n",
       "      <td>0.333333</td>\n",
       "      <td>0.0</td>\n",
       "      <td>0.966667</td>\n",
       "      <td>0.0</td>\n",
       "      <td>1.0</td>\n",
       "      <td>0.166667</td>\n",
       "      <td>1.000000</td>\n",
       "      <td>0.181818</td>\n",
       "    </tr>\n",
       "    <tr>\n",
       "      <th>13183</th>\n",
       "      <td>0.800000</td>\n",
       "      <td>0.857143</td>\n",
       "      <td>0.000000</td>\n",
       "      <td>0.000000</td>\n",
       "      <td>0.0</td>\n",
       "      <td>0.0</td>\n",
       "      <td>0.0</td>\n",
       "      <td>0.0</td>\n",
       "      <td>0.333333</td>\n",
       "      <td>0.5</td>\n",
       "      <td>...</td>\n",
       "      <td>0.0</td>\n",
       "      <td>0.0</td>\n",
       "      <td>0.333333</td>\n",
       "      <td>0.0</td>\n",
       "      <td>0.966667</td>\n",
       "      <td>0.0</td>\n",
       "      <td>1.0</td>\n",
       "      <td>0.166667</td>\n",
       "      <td>1.000000</td>\n",
       "      <td>0.181818</td>\n",
       "    </tr>\n",
       "  </tbody>\n",
       "</table>\n",
       "<p>13184 rows × 21 columns</p>\n",
       "</div>"
      ],
      "text/plain": [
       "       campaign_var_1  campaign_var_2  products_purchased  \\\n",
       "0            0.066667        0.071429            0.000000   \n",
       "1            0.200000        0.428571            0.666667   \n",
       "2            0.466667        0.428571            0.000000   \n",
       "3            0.533333        0.500000            0.333333   \n",
       "4            0.200000        0.285714            0.333333   \n",
       "...               ...             ...                 ...   \n",
       "13179        1.000000        0.785714            0.000000   \n",
       "13180        0.733333        0.500000            0.000000   \n",
       "13181        0.866667        0.928571            0.666667   \n",
       "13182        0.866667        0.642857            0.000000   \n",
       "13183        0.800000        0.857143            0.000000   \n",
       "\n",
       "       user_activity_var_1  user_activity_var_2  user_activity_var_3  \\\n",
       "0                 0.333333                  1.0                  0.0   \n",
       "1                 0.333333                  0.0                  0.0   \n",
       "2                 0.000000                  0.0                  0.0   \n",
       "3                 0.000000                  0.0                  0.0   \n",
       "4                 0.333333                  0.0                  0.0   \n",
       "...                    ...                  ...                  ...   \n",
       "13179             0.000000                  0.0                  0.0   \n",
       "13180             0.333333                  0.0                  0.0   \n",
       "13181             0.000000                  0.0                  1.0   \n",
       "13182             0.000000                  0.0                  0.0   \n",
       "13183             0.000000                  0.0                  0.0   \n",
       "\n",
       "       user_activity_var_4  user_activity_var_5  user_activity_var_6  \\\n",
       "0                      0.0                  0.0             0.333333   \n",
       "1                      0.0                  0.0             0.000000   \n",
       "2                      0.0                  0.5             0.333333   \n",
       "3                      0.0                  0.5             0.333333   \n",
       "4                      0.0                  0.0             0.000000   \n",
       "...                    ...                  ...                  ...   \n",
       "13179                  0.0                  0.0             0.333333   \n",
       "13180                  0.0                  0.0             0.333333   \n",
       "13181                  0.0                  0.0             0.000000   \n",
       "13182                  0.0                  0.0             0.000000   \n",
       "13183                  0.0                  0.0             0.333333   \n",
       "\n",
       "       user_activity_var_7  ...  user_activity_var_9  user_activity_var_10  \\\n",
       "0                      0.0  ...                  0.0                   0.0   \n",
       "1                      0.0  ...                  0.0                   0.0   \n",
       "2                      0.0  ...                  0.0                   0.0   \n",
       "3                      0.5  ...                  0.0                   0.0   \n",
       "4                      0.0  ...                  0.0                   0.0   \n",
       "...                    ...  ...                  ...                   ...   \n",
       "13179                  0.5  ...                  0.0                   0.0   \n",
       "13180                  0.0  ...                  0.0                   0.0   \n",
       "13181                  0.5  ...                  0.0                   0.0   \n",
       "13182                  0.5  ...                  0.0                   0.0   \n",
       "13183                  0.5  ...                  0.0                   0.0   \n",
       "\n",
       "       user_activity_var_11  user_activity_var_12     cDate  cyear  cmonth  \\\n",
       "0                  0.333333                   0.0  0.000000    0.0     0.0   \n",
       "1                  0.000000                   0.0  0.000000    0.0     0.0   \n",
       "2                  0.000000                   0.0  0.000000    0.0     0.0   \n",
       "3                  0.666667                   0.0  0.000000    0.0     0.0   \n",
       "4                  0.000000                   0.0  0.000000    0.0     0.0   \n",
       "...                     ...                   ...       ...    ...     ...   \n",
       "13179              0.000000                   0.0  0.966667    0.0     1.0   \n",
       "13180              0.000000                   0.0  0.966667    0.0     1.0   \n",
       "13181              0.000000                   0.0  0.966667    0.0     1.0   \n",
       "13182              0.333333                   0.0  0.966667    0.0     1.0   \n",
       "13183              0.333333                   0.0  0.966667    0.0     1.0   \n",
       "\n",
       "       signDate  signyear  signmonth  \n",
       "0      0.533333  0.857143   0.636364  \n",
       "1      0.666667  0.714286   0.363636  \n",
       "2      0.166667  1.000000   0.181818  \n",
       "3      0.700000  0.714286   0.454545  \n",
       "4      0.300000  0.857143   0.181818  \n",
       "...         ...       ...        ...  \n",
       "13179  0.166667  1.000000   0.181818  \n",
       "13180  0.600000  1.000000   0.181818  \n",
       "13181  0.466667  0.857143   0.636364  \n",
       "13182  0.166667  1.000000   0.181818  \n",
       "13183  0.166667  1.000000   0.181818  \n",
       "\n",
       "[13184 rows x 21 columns]"
      ]
     },
     "execution_count": 75,
     "metadata": {},
     "output_type": "execute_result"
    }
   ],
   "source": [
    "#Normalization of test data\n",
    "minmaxscale=preprocessing.MinMaxScaler()\n",
    "for column in test_X.columns:\n",
    "    get_column = test_X[column]\n",
    "    reshaped_vals = get_column.values.reshape(-1, 1)\n",
    "    test_X[column] = minmaxscale.fit_transform(reshaped_vals)\n",
    "    \n",
    "test_X"
   ]
  },
  {
   "cell_type": "code",
   "execution_count": 76,
   "id": "4c10fc28",
   "metadata": {},
   "outputs": [],
   "source": [
    " #splitting the test data\n",
    "x_train,x_test,y_train,y_test=train_test_split(X,y,random_state=42,test_size=.25)"
   ]
  },
  {
   "cell_type": "code",
   "execution_count": 78,
   "id": "f32e5651",
   "metadata": {},
   "outputs": [
    {
     "name": "stdout",
     "output_type": "stream",
     "text": [
      "ACCURACY of the model:  0.9754876927790829\n",
      "F - score of the model:  0.8428584956080306\n"
     ]
    },
    {
     "data": {
      "text/plain": [
       "array([[9273,   18],\n",
       "       [ 222,  278]], dtype=int64)"
      ]
     },
     "execution_count": 78,
     "metadata": {},
     "output_type": "execute_result"
    }
   ],
   "source": [
    "#RandomForestClassifier\n",
    "from sklearn.ensemble import RandomForestClassifier\n",
    "rf_clf_test = RandomForestClassifier(n_estimators = 100,random_state=0,criterion='entropy') \n",
    "rf_clf_test.fit(x_train, y_train)\n",
    " \n",
    "# performing predictions on the dataset\n",
    "y_pred = rf_clf_test.predict(x_test)\n",
    "print(\"ACCURACY of the model: \", accuracy_score(y_test, y_pred))\n",
    "print(\"F - score of the model: \", f1_score(y_test, y_pred,average='macro'))\n",
    "confusion_matrix(y_test,y_pred)"
   ]
  },
  {
   "cell_type": "code",
   "execution_count": 79,
   "id": "030c1d2a",
   "metadata": {},
   "outputs": [
    {
     "name": "stdout",
     "output_type": "stream",
     "text": [
      "{'max_depth': 10, 'n_estimators': 340, 'random_state': 0}\n"
     ]
    }
   ],
   "source": [
    "#  fine tuning of random forest classifier parameters using gridsearchCV\n",
    "from sklearn.model_selection import GridSearchCV\n",
    "\n",
    "parameters = {\n",
    "    'n_estimators'      : [320,330,340],\n",
    "    'max_depth'         : [8, 9, 10, 11, 12],\n",
    "    'random_state'      : [0],\n",
    "    #'max_features': ['auto'],\n",
    "    #'criterion' :['gini']\n",
    "}\n",
    "clf = GridSearchCV(RandomForestClassifier(), parameters, cv=10, n_jobs=-1)\n",
    "clf.fit(x_train, y_train)\n",
    "print(clf.best_params_)"
   ]
  },
  {
   "cell_type": "code",
   "execution_count": 83,
   "id": "ee18e798",
   "metadata": {
    "scrolled": true
   },
   "outputs": [
    {
     "name": "stdout",
     "output_type": "stream",
     "text": [
      "Accuracy is: 0.9757940966193442\n",
      "F1 score is: 97.57940966193442\n",
      "[[9278   13]\n",
      " [ 224  276]]\n"
     ]
    }
   ],
   "source": [
    "#  increasing the accuracy using the best parameters available for random forest classifier.\n",
    "rf1=RandomForestClassifier(n_estimators = 340,max_features= 'auto', oob_score = True, n_jobs = 1,random_state =0,max_depth= 10)  \n",
    "rf1.fit(x_train,y_train)\n",
    "y_pred=rf1.predict(x_test)\n",
    "\n",
    "\n",
    "print(\"Accuracy is:\",accuracy_score(y_test,y_pred))\n",
    "print(\"F1 score is:\",f1_score(y_test,y_pred,average='micro')*100)\n",
    "print(confusion_matrix(y_test,y_pred))"
   ]
  },
  {
   "cell_type": "code",
   "execution_count": 86,
   "id": "2ab1a2cb",
   "metadata": {
    "scrolled": true
   },
   "outputs": [
    {
     "name": "stdout",
     "output_type": "stream",
     "text": [
      "ACCURACY of the model:  0.9745684812582984\n",
      "Classification Report LogisticRegression Classifier\n",
      "\n",
      "               precision    recall  f1-score   support\n",
      "\n",
      "           0       0.98      1.00      0.99      9291\n",
      "           1       0.96      0.53      0.68       500\n",
      "\n",
      "    accuracy                           0.97      9791\n",
      "   macro avg       0.97      0.76      0.83      9791\n",
      "weighted avg       0.97      0.97      0.97      9791\n",
      "\n",
      "F1 Score is : 83.27349631314354\n",
      "[[9279   12]\n",
      " [ 237  263]]\n"
     ]
    }
   ],
   "source": [
    "#logistic regression classifier \n",
    "logic_model=LogisticRegression()\n",
    "logic_model.fit(x_train,y_train)\n",
    "y_pred_lo=logic_model.predict(x_test)\n",
    "\n",
    "print(\"ACCURACY of the model: \", accuracy_score(y_test, y_pred_lo))\n",
    "print('Classification Report LogisticRegression Classifier\\n\\n', classification_report(y_test, y_pred_lo))\n",
    "logic_model_f1 = f1_score(y_test, y_pred_lo,average='macro')*100 # F1 score\n",
    "print('F1 Score is :', logic_model_f1)\n",
    "print(confusion_matrix(y_test,y_pred_lo))"
   ]
  },
  {
   "cell_type": "code",
   "execution_count": 88,
   "id": "a2a4522c",
   "metadata": {},
   "outputs": [],
   "source": [
    "#prediction=rf1.predict(test_X) #predict the values using the test data with logistic regression model\n",
    "prediction=logic_model.predict(test_X)"
   ]
  },
  {
   "cell_type": "code",
   "execution_count": 89,
   "id": "366c388d",
   "metadata": {},
   "outputs": [],
   "source": [
    "test_df[\"buy\"] = prediction\n",
    "result = test_df[[\"id\", \"buy\"]]\n",
    "result.to_csv('leadScoreEngine_logic.csv',index=False) #store the predicted values in csv file\n"
   ]
  },
  {
   "cell_type": "code",
   "execution_count": null,
   "id": "c14eccf7",
   "metadata": {},
   "outputs": [],
   "source": []
  }
 ],
 "metadata": {
  "kernelspec": {
   "display_name": "Python 3 (ipykernel)",
   "language": "python",
   "name": "python3"
  },
  "language_info": {
   "codemirror_mode": {
    "name": "ipython",
    "version": 3
   },
   "file_extension": ".py",
   "mimetype": "text/x-python",
   "name": "python",
   "nbconvert_exporter": "python",
   "pygments_lexer": "ipython3",
   "version": "3.9.7"
  }
 },
 "nbformat": 4,
 "nbformat_minor": 5
}
