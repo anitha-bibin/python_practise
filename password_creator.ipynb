{
 "cells": [
  {
   "cell_type": "code",
   "execution_count": 20,
   "id": "1532f2a4",
   "metadata": {},
   "outputs": [
    {
     "name": "stdout",
     "output_type": "stream",
     "text": [
      "cantMarketing75:\n"
     ]
    }
   ],
   "source": [
    "import random\n",
    "adj_list=[\"curved\",\"cynical\", \"dangerous\" ,\"dashing\" ,\"decayed\", \"deceitful\", \"deep\", \"defeated\" ,\"defiant\", \"delicious\" ,\n",
    "          \"deligh\" ,\"icy\" ,\"ideal\", \"immense\", \"impressionable\" ,\"intrigued\", \"irate\" ,\"irritable\", \"itchy\" ,\"jealous\" ,\n",
    "          'vivacious', 'vivid', 'wacky' ,'weary' ,'whimsical' ,'whopping' ,'wicked' ,'narrow' ,'nasty' ,'naughty',\n",
    "          'nervous', 'nonchalant', 'nonsensical', 'nutritious','nutty' ,'obedient' ,'oblivious', 'rotund' ,'rough', 'round', \n",
    "          'salty', 'sarcastics', 'cant' ,'scary', 'scattered' 'scrawny' 'selfish']\n",
    "noun_list=['Addition','Address','Administration','Adult','Advance','Advantage','Advertising','Advice','Battle','Beach',\n",
    "           'Bear','Beat','Beautiful','Bed','Bedroom','Beer','Care','Career','Carpet','Carry','Case','Cash','Cat','Catch',\n",
    "           'Category','Cause','Celebration','Doubt','Draft','Drag','Drama','Draw','Drawer','Drawing','Dream','Dress',\n",
    "            'Drink','Drive','Driver','Drop','Hope','Horror','Horse','Hospital','Host','hotel','Hour','House',\n",
    "           'Housing','Manager','Manner','Manufacturer','Many','Map','March','Mark','Market','Marketing','Marriage']\n",
    "sym_list=\"!@#$%^&*_?:;\"\n",
    "pass_create=random.choice(adj_list)+random.choice(noun_list)+str(random.randint(0, 100))+random.choice(sym_list)\n",
    "print(pass_create)\n"
   ]
  },
  {
   "cell_type": "code",
   "execution_count": null,
   "id": "43331e39",
   "metadata": {},
   "outputs": [],
   "source": []
  },
  {
   "cell_type": "code",
   "execution_count": null,
   "id": "267b90ec",
   "metadata": {},
   "outputs": [],
   "source": []
  }
 ],
 "metadata": {
  "kernelspec": {
   "display_name": "Python 3 (ipykernel)",
   "language": "python",
   "name": "python3"
  },
  "language_info": {
   "codemirror_mode": {
    "name": "ipython",
    "version": 3
   },
   "file_extension": ".py",
   "mimetype": "text/x-python",
   "name": "python",
   "nbconvert_exporter": "python",
   "pygments_lexer": "ipython3",
   "version": "3.8.8"
  }
 },
 "nbformat": 4,
 "nbformat_minor": 5
}
