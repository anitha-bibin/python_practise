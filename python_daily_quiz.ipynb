{
 "cells": [
  {
   "cell_type": "code",
   "execution_count": null,
   "id": "b95da4eb",
   "metadata": {},
   "outputs": [],
   "source": []
  },
  {
   "cell_type": "code",
   "execution_count": 1,
   "id": "b5f85d6c",
   "metadata": {},
   "outputs": [
    {
     "name": "stdout",
     "output_type": "stream",
     "text": [
      "enter first stringasdas\n",
      "enter second stringasdf\n",
      "not anagram\n"
     ]
    }
   ],
   "source": [
    "def is_anagram(a,b):\n",
    "    if(len(a)==len(b)):\n",
    "        if(sorted(a)==sorted(b)):\n",
    "            print(\"it is anagram\")\n",
    "        else:\n",
    "            print(\"it is not anagram\")\n",
    "    else:\n",
    "        print(\"not anagram\")\n",
    "        \n",
    "str1=input(\"enter first string\")\n",
    "str2=input(\"enter second string\")\n",
    "is_anagram(str1.lower(),str2.lower())"
   ]
  },
  {
   "cell_type": "code",
   "execution_count": 2,
   "id": "6dd34a91",
   "metadata": {},
   "outputs": [
    {
     "name": "stdout",
     "output_type": "stream",
     "text": [
      "enter first stringASDASSAD\n",
      "enter second stringFGFGFGSDFS\n",
      "not anagram\n"
     ]
    }
   ],
   "source": [
    "def is_anagram(a,b):\n",
    "    if(len(a)==len(b)):\n",
    "        if(sorted(a)==sorted(b)):\n",
    "            print(\"it is anagram\")\n",
    "        else:\n",
    "            print(\"it is not anagram\")\n",
    "    else:\n",
    "        print(\"not anagram\")\n",
    "        \n",
    "str1=input(\"enter first string\")\n",
    "str2=input(\"enter second string\")\n",
    "is_anagram(str1.lower(),str2.lower())\n",
    "# easy solutions for anagram checking\n",
    "def is_anagram(string1, string2):\n",
    "    return sorted(string1) == sorted(string2)\n",
    "\n",
    "# harder solution:\n",
    "# count how many times each letter appears in each string,\n",
    "# and make sure all the counts are the same.\n",
    "def count_letters(string):\n",
    "    return {l: string.count(l) for l in string}\n",
    "def is_anagram(string1, string2):\n",
    "    return count_letters(string1) == count_letters(string2)"
   ]
  },
  {
   "cell_type": "markdown",
   "id": "8a777aaf",
   "metadata": {},
   "source": [
    "# Given 2 strings, a and b, return a string of the form short+long+short, with the shorter string on the outside and the longer string on the inside. The strings will not be the same length, but they may be empty"
   ]
  },
  {
   "cell_type": "code",
   "execution_count": 3,
   "id": "ae74d20a",
   "metadata": {},
   "outputs": [
    {
     "data": {
      "text/plain": [
       "'hellohyyoiihello'"
      ]
     },
     "execution_count": 3,
     "metadata": {},
     "output_type": "execute_result"
    }
   ],
   "source": [
    "def combo_string(a, b):\n",
    "    if(len(a) < len(b)):\n",
    "        ne_str=a+b+a\n",
    "    else:\n",
    "        ne_str=b+a+b\n",
    "    return ne_str\n",
    "\n",
    "combo_string('hello', 'hyyoii')"
   ]
  },
  {
   "cell_type": "markdown",
   "id": "1db040e0",
   "metadata": {},
   "source": [
    "# You are given three integers  and  representing the dimensions of a cuboid along with an integer . Print a list of all possible coordinates given by  on a 3D grid where the sum of  is not equal to N\n"
   ]
  },
  {
   "cell_type": "code",
   "execution_count": 4,
   "id": "87654c6f",
   "metadata": {
    "scrolled": true
   },
   "outputs": [
    {
     "name": "stdout",
     "output_type": "stream",
     "text": [
      "[[0, 0, 0], [0, 0, 1], [0, 0, 2], [0, 1, 0], [0, 1, 1], [0, 1, 2], [1, 0, 0], [1, 0, 1], [1, 0, 2], [1, 1, 0], [1, 1, 1], [1, 1, 2]]\n",
      "[[0, 0, 0], [0, 0, 1], [0, 0, 2], [0, 1, 0], [0, 1, 1], [1, 0, 0], [1, 0, 1], [1, 1, 0], [1, 1, 2]]\n"
     ]
    }
   ],
   "source": [
    "if __name__ == '__main__':\n",
    "    x=1\n",
    "    y=1\n",
    "    z=2\n",
    "    n=3\n",
    "\n",
    "final_list=[]\n",
    "keyval=[]\n",
    "list1=[]\n",
    "for m in range(0,x+1):\n",
    "    for p in range(0,y+1):\n",
    "        for s in range(0,z+1):\n",
    "            final_list.append(list1+[m,p,s])\n",
    "print(final_list)\n",
    "for i in final_list:\n",
    "    if(sum(i)==n):\n",
    "        keyval.append(final_list.index(i)) #create a list of inndices for the lists which has the sum as n \n",
    "for i in sorted(keyval,reverse=True):\n",
    "    final_list.pop(i)  #remove the index from the list\n",
    "\n",
    "print(final_list)\n"
   ]
  },
  {
   "cell_type": "markdown",
   "id": "ccbb571e",
   "metadata": {},
   "source": [
    "# create fibonacci series and its cube list using map function and lambda function"
   ]
  },
  {
   "cell_type": "code",
   "execution_count": 20,
   "id": "d69bb707",
   "metadata": {},
   "outputs": [
    {
     "name": "stdout",
     "output_type": "stream",
     "text": [
      "5\n",
      "[0, 1, 1, 8, 27]\n"
     ]
    }
   ],
   "source": [
    "cube = lambda x: x*x*x# complete the lambda function \n",
    "\n",
    "series=[0,1]\n",
    "\n",
    "def fibonacci(n):\n",
    "    # return a list of fibonacci numbers\n",
    "    for i in range(2,n):\n",
    "        z=series[i-2]+series[i-1]\n",
    "        series.insert(i,z)\n",
    "    return series\n",
    "    \n",
    "    \n",
    "if __name__ == '__main__':\n",
    "    n = int(input())\n",
    "    cubes=map(cube, fibonacci(n))\n",
    "    print(list(cubes))\n",
    "\n"
   ]
  }
 ],
 "metadata": {
  "kernelspec": {
   "display_name": "Python 3 (ipykernel)",
   "language": "python",
   "name": "python3"
  },
  "language_info": {
   "codemirror_mode": {
    "name": "ipython",
    "version": 3
   },
   "file_extension": ".py",
   "mimetype": "text/x-python",
   "name": "python",
   "nbconvert_exporter": "python",
   "pygments_lexer": "ipython3",
   "version": "3.9.7"
  }
 },
 "nbformat": 4,
 "nbformat_minor": 5
}
