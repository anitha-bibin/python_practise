{
 "cells": [
  {
   "cell_type": "markdown",
   "id": "a5368392",
   "metadata": {},
   "source": [
    "# checking is anagram"
   ]
  },
  {
   "cell_type": "code",
   "execution_count": null,
   "id": "c39dbb28",
   "metadata": {},
   "outputs": [],
   "source": [
    "def is_anagram(a,b):\n",
    "    if(len(a)==len(b)):\n",
    "        if(sorted(a)==sorted(b)):\n",
    "            print(\"it is anagram\")\n",
    "        else:\n",
    "            print(\"it is not anagram\")\n",
    "    else:\n",
    "        print(\"not anagram\")\n",
    "        \n",
    "str1=input(\"enter first string\")\n",
    "str2=input(\"enter second string\")\n",
    "is_anagram(str1.lower(),str2.lower())"
   ]
  },
  {
   "cell_type": "code",
   "execution_count": null,
   "id": "64a3fb36",
   "metadata": {},
   "outputs": [],
   "source": [
    "# easy solutions for anagram checking\n",
    "def is_anagram(string1, string2):\n",
    "    return sorted(string1) == sorted(string2)\n",
    "\n",
    "# harder solution:\n",
    "# count how many times each letter appears in each string,\n",
    "# and make sure all the counts are the same.\n",
    "def count_letters(string):\n",
    "    return {l: string.count(l) for l in string}\n",
    "def is_anagram(string1, string2):\n",
    "    return count_letters(string1) == count_letters(string2)"
   ]
  },
  {
   "cell_type": "markdown",
   "id": "9d38b176",
   "metadata": {},
   "source": [
    "# Given 2 strings, a and b, return a string of the form short+long+short, with the shorter string on the outside and the longer string on the inside. The strings will not be the same length, but they may be empty"
   ]
  },
  {
   "cell_type": "code",
   "execution_count": 13,
   "id": "f34134df",
   "metadata": {},
   "outputs": [
    {
     "data": {
      "text/plain": [
       "'hihellohi'"
      ]
     },
     "execution_count": 13,
     "metadata": {},
     "output_type": "execute_result"
    }
   ],
   "source": [
    "def combo_string(a, b):\n",
    "    if(len(a) < len(b)):\n",
    "        ne_str=a+b+a\n",
    "    else:\n",
    "        ne_str=b+a+b\n",
    "    return ne_str\n",
    "\n",
    "combo_string('hello', 'hi')"
   ]
  },
  {
   "cell_type": "code",
   "execution_count": null,
   "id": "cdaa8833",
   "metadata": {},
   "outputs": [],
   "source": []
  },
  {
   "cell_type": "code",
   "execution_count": null,
   "id": "e4878da1",
   "metadata": {},
   "outputs": [],
   "source": []
  },
  {
   "cell_type": "code",
   "execution_count": null,
   "id": "7c529b93",
   "metadata": {},
   "outputs": [],
   "source": []
  }
 ],
 "metadata": {
  "kernelspec": {
   "display_name": "Python 3 (ipykernel)",
   "language": "python",
   "name": "python3"
  },
  "language_info": {
   "codemirror_mode": {
    "name": "ipython",
    "version": 3
   },
   "file_extension": ".py",
   "mimetype": "text/x-python",
   "name": "python",
   "nbconvert_exporter": "python",
   "pygments_lexer": "ipython3",
   "version": "3.8.8"
  }
 },
 "nbformat": 4,
 "nbformat_minor": 5
}
