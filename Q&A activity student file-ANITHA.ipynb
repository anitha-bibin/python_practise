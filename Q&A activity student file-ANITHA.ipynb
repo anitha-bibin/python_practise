{
 "cells": [
  {
   "cell_type": "markdown",
   "metadata": {
    "id": "4z_Z-K1tlrS7"
   },
   "source": [
    "## 1. Complete the following code to find the area of an equilateral triangle. Output should be as displayed"
   ]
  },
  {
   "cell_type": "code",
   "execution_count": null,
   "metadata": {
    "id": "rP2qFD_SlrS_",
    "scrolled": true
   },
   "outputs": [],
   "source": [
    "import math\n",
    "side = float(input(\"Enter the side of the equilateral triangle: \"))\n",
    "area = ((math.sqrt(3))/4)*pow(side,2)\n",
    "print(\"the area of an equilateral triangle is\",area)"
   ]
  },
  {
   "cell_type": "markdown",
   "metadata": {
    "id": "TjVKjIfclrTB"
   },
   "source": [
    "## 2. Write a program to count the number of each characters in a string"
   ]
  },
  {
   "cell_type": "code",
   "execution_count": 3,
   "metadata": {
    "id": "JY5seVUQlrTC",
    "scrolled": true
   },
   "outputs": [
    {
     "name": "stdout",
     "output_type": "stream",
     "text": [
      "enter a stringhall\n",
      "h occured  1 times\n",
      "a occured  1 times\n",
      "l occured  2 times\n"
     ]
    }
   ],
   "source": [
    "newstr=str(input('enter a string')).strip()\n",
    "new_word=[]\n",
    "for i in newstr:\n",
    "    if i not in new_word:\n",
    "        new_word.append(i)\n",
    "        print(i,\"occured \",newstr.count(i),\"times\")"
   ]
  },
  {
   "cell_type": "code",
   "execution_count": null,
   "metadata": {
    "scrolled": true
   },
   "outputs": [],
   "source": []
  },
  {
   "cell_type": "markdown",
   "metadata": {
    "id": "l3LCULfklrTD"
   },
   "source": [
    "# 3 Write a program to find the area and perimeter of a rectangle using functions"
   ]
  },
  {
   "cell_type": "code",
   "execution_count": 3,
   "metadata": {
    "id": "8haQD8edlrTD",
    "scrolled": true
   },
   "outputs": [
    {
     "name": "stdout",
     "output_type": "stream",
     "text": [
      "enter length of rectangle12\n",
      "enter width of rectangle32\n",
      "area is 384 and perimeter is  88\n"
     ]
    }
   ],
   "source": [
    "area=lambda a,b:a*b\n",
    "perimeter=lambda a,b:2*(a+b)\n",
    "\n",
    "length=float(input(\"enter length of rectangle\"))\n",
    "width=float(input(\"enter width of rectangle\"))\n",
    "print(\"area is\",area(length,width), \"and perimeter is \",perimeter(length,width))"
   ]
  },
  {
   "cell_type": "markdown",
   "metadata": {
    "id": "JHK4ZdsflrTE"
   },
   "source": [
    "## 4. Write a program to print the fibonacci series till a specified number"
   ]
  },
  {
   "cell_type": "code",
   "execution_count": 28,
   "metadata": {
    "id": "LyBEj-4SlrTE",
    "scrolled": true
   },
   "outputs": [
    {
     "name": "stdout",
     "output_type": "stream",
     "text": [
      "enter a number for fibonacci series10\n",
      "[0, 1, 1, 2, 3, 5, 8, 13, 21, 34]\n"
     ]
    }
   ],
   "source": [
    "end_num=int(input(\"enter a number for fibonacci series\"))\n",
    "series=[]\n",
    "\n",
    "for i in range(0,end_num):\n",
    "    if i==0:\n",
    "        series.insert(i,0)\n",
    "    elif i==1:\n",
    "        series.insert(i,1)\n",
    "    else:\n",
    "        new_val=series[i-2]+series[i-1]\n",
    "        series.insert(i,new_val)\n",
    "    \n",
    "print(series)    \n",
    "    "
   ]
  },
  {
   "cell_type": "code",
   "execution_count": null,
   "metadata": {
    "scrolled": true
   },
   "outputs": [],
   "source": []
  },
  {
   "cell_type": "markdown",
   "metadata": {
    "id": "u4uBUcQKlrTE"
   },
   "source": [
    "## 5. Complete the following code to find the minimum of 3 number using cinditional statements. Output should be as displayed"
   ]
  },
  {
   "cell_type": "code",
   "execution_count": null,
   "metadata": {
    "id": "XdZwrZjIlrTF",
    "scrolled": true
   },
   "outputs": [],
   "source": [
    "a,b,c = input(\"Enter three numbers followed by  , \").split(\",\")\n",
    "\n",
    "print(\"First number :\",a)\n",
    "print(\"Second number :\",b)\n",
    "print(\"Third number :\",c)\n",
    "\n",
    "if a==b==c:\n",
    "    print(\"Entered numbers are equal!!!\")\n",
    "elif a<b:\n",
    "    if a<c:\n",
    "        print(a,\"is the smallest\")\n",
    "elif b<a:\n",
    "    if b<c:\n",
    "        print(b,\"is the smallest\")    \n",
    "else:\n",
    "    print(c,\" is the smallest\")     \n",
    "        "
   ]
  },
  {
   "cell_type": "markdown",
   "metadata": {
    "id": "aR_CnToWlrTG"
   },
   "source": [
    "## 6. Write a program to print star pyramind. The number of rows should be taken as input from the user"
   ]
  },
  {
   "cell_type": "code",
   "execution_count": 2,
   "metadata": {
    "id": "M37A-buplrTG",
    "scrolled": true
   },
   "outputs": [
    {
     "name": "stdout",
     "output_type": "stream",
     "text": [
      "enter a number * pyramid10\n",
      "*\n",
      "**\n",
      "***\n",
      "****\n",
      "*****\n",
      "******\n",
      "*******\n",
      "********\n",
      "*********\n",
      "**********\n"
     ]
    }
   ],
   "source": [
    "num=int(input(\"enter a number * pyramid\"))\n",
    "for i in range(1,num+1):\n",
    "    print(i*\"*\")"
   ]
  },
  {
   "cell_type": "code",
   "execution_count": null,
   "metadata": {},
   "outputs": [],
   "source": []
  },
  {
   "cell_type": "markdown",
   "metadata": {
    "id": "tlY6aFWBlrTH"
   },
   "source": [
    "# 7. Complete the following code to convert hour into seconds. Output should be as displayed"
   ]
  },
  {
   "cell_type": "code",
   "execution_count": 5,
   "metadata": {
    "id": "YOZQFk7FlrTH",
    "scrolled": true
   },
   "outputs": [
    {
     "name": "stdout",
     "output_type": "stream",
     "text": [
      "enter the hour to be converted into second1.10\n",
      "1\n",
      "10\n",
      "1  Hour is equal to 4200  Seconds\n"
     ]
    }
   ],
   "source": [
    "def to_seconds(h,m):\n",
    "    h=int(h)*60*60\n",
    "    m=int(m)*60\n",
    "    t=h+m\n",
    "    return t\n",
    "\n",
    "time_in_hours,time_in_min = str(input(\"enter the hour to be converted into second\")).split(\".\")\n",
    "print(time_in_hours ,\" Hour is equal to\" ,to_seconds(time_in_hours,time_in_min) ,\" Seconds\")"
   ]
  },
  {
   "cell_type": "markdown",
   "metadata": {
    "id": "CnYorNiLlrTI"
   },
   "source": [
    "## 8. Write a program to print multiplication table as below"
   ]
  },
  {
   "cell_type": "code",
   "execution_count": 6,
   "metadata": {
    "id": "dPQqDPuDlrTI",
    "scrolled": true
   },
   "outputs": [
    {
     "name": "stdout",
     "output_type": "stream",
     "text": [
      "enter a number for multiplication table6\n",
      "1 * 6 = 6\n",
      "2 * 6 = 12\n",
      "3 * 6 = 18\n",
      "4 * 6 = 24\n",
      "5 * 6 = 30\n",
      "6 * 6 = 36\n",
      "7 * 6 = 42\n",
      "8 * 6 = 48\n",
      "9 * 6 = 54\n",
      "10 * 6 = 60\n"
     ]
    }
   ],
   "source": [
    "num=int(input(\"enter a number for multiplication table\"))\n",
    "for i in range(1,11):\n",
    "    print(i,\"*\",num,\"=\",i*num)"
   ]
  },
  {
   "cell_type": "markdown",
   "metadata": {
    "id": "Fiaez8iblrTI"
   },
   "source": [
    "## 9. Write a program to take your 5 favorite food as list and print each as 'I like Biriyani'"
   ]
  },
  {
   "cell_type": "code",
   "execution_count": 11,
   "metadata": {
    "id": "39W1zFX7lrTJ",
    "scrolled": true
   },
   "outputs": [
    {
     "name": "stdout",
     "output_type": "stream",
     "text": [
      "enter your favorite fooda\n",
      "enter your favorite foods\n",
      "enter your favorite foodd\n",
      "enter your favorite foodc\n",
      "enter your favorite foodv\n",
      "I like  a\n",
      "I like  s\n",
      "I like  d\n",
      "I like  c\n",
      "I like  v\n"
     ]
    }
   ],
   "source": [
    "fav_list=[]\n",
    "for i in range(0,5):\n",
    "    fav_list.insert(i,str(input(\"enter your favorite food\")))\n",
    "                    \n",
    "for i in fav_list:\n",
    "    print(\"I like \",i)\n"
   ]
  },
  {
   "cell_type": "code",
   "execution_count": null,
   "metadata": {
    "scrolled": true
   },
   "outputs": [],
   "source": []
  },
  {
   "cell_type": "markdown",
   "metadata": {
    "id": "3vlcDNNEP7d_"
   },
   "source": [
    "## 10. Find error(s) in the following code(if any) and rewrite code.\n",
    "\n"
   ]
  },
  {
   "cell_type": "code",
   "execution_count": 10,
   "metadata": {
    "id": "coREkcY3P9sG",
    "scrolled": true
   },
   "outputs": [
    {
     "name": "stdout",
     "output_type": "stream",
     "text": [
      "Enter value of x:5\n",
      "They are unequal 1\n",
      "They are unequal 2\n",
      "They are unequal 3\n",
      "They are unequal 4\n",
      "They are equal 5\n",
      "They are unequal 6\n",
      "They are unequal 7\n",
      "They are unequal 8\n",
      "They are unequal 9\n",
      "They are unequal 10\n"
     ]
    }
   ],
   "source": [
    "x= int(input(\"Enter value of x:\"))\n",
    "for y in range (1,11):\n",
    "     if x==y:\n",
    "          print(\"They are equal\",y)\n",
    "     else:\n",
    "         print( \"They are unequal\",y)"
   ]
  },
  {
   "cell_type": "code",
   "execution_count": null,
   "metadata": {
    "scrolled": true
   },
   "outputs": [],
   "source": []
  },
  {
   "cell_type": "code",
   "execution_count": null,
   "metadata": {},
   "outputs": [],
   "source": []
  },
  {
   "cell_type": "code",
   "execution_count": null,
   "metadata": {},
   "outputs": [],
   "source": []
  }
 ],
 "metadata": {
  "celltoolbar": "Raw Cell Format",
  "colab": {
   "collapsed_sections": [],
   "name": "Q&A activity student file.ipynb",
   "provenance": []
  },
  "kernelspec": {
   "display_name": "Python 3 (ipykernel)",
   "language": "python",
   "name": "python3"
  },
  "language_info": {
   "codemirror_mode": {
    "name": "ipython",
    "version": 3
   },
   "file_extension": ".py",
   "mimetype": "text/x-python",
   "name": "python",
   "nbconvert_exporter": "python",
   "pygments_lexer": "ipython3",
   "version": "3.8.8"
  }
 },
 "nbformat": 4,
 "nbformat_minor": 1
}
