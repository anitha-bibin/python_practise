{
 "cells": [
  {
   "cell_type": "code",
   "execution_count": 1,
   "id": "a4d13d08",
   "metadata": {},
   "outputs": [],
   "source": [
    "import numpy as np\n",
    "import pandas as pd\n",
    "import seaborn as sns\n",
    "import matplotlib.pyplot as plt\n",
    "import warnings\n",
    "warnings.filterwarnings(\"ignore\")"
   ]
  },
  {
   "cell_type": "code",
   "execution_count": 2,
   "id": "1078358c",
   "metadata": {},
   "outputs": [
    {
     "data": {
      "text/html": [
       "<div>\n",
       "<style scoped>\n",
       "    .dataframe tbody tr th:only-of-type {\n",
       "        vertical-align: middle;\n",
       "    }\n",
       "\n",
       "    .dataframe tbody tr th {\n",
       "        vertical-align: top;\n",
       "    }\n",
       "\n",
       "    .dataframe thead th {\n",
       "        text-align: right;\n",
       "    }\n",
       "</style>\n",
       "<table border=\"1\" class=\"dataframe\">\n",
       "  <thead>\n",
       "    <tr style=\"text-align: right;\">\n",
       "      <th></th>\n",
       "      <th>fema_declaration_string</th>\n",
       "      <th>disaster_number</th>\n",
       "      <th>state</th>\n",
       "      <th>declaration_type</th>\n",
       "      <th>declaration_date</th>\n",
       "      <th>fy_declared</th>\n",
       "      <th>incident_type</th>\n",
       "      <th>declaration_title</th>\n",
       "      <th>ih_program_declared</th>\n",
       "      <th>ia_program_declared</th>\n",
       "      <th>...</th>\n",
       "      <th>incident_begin_date</th>\n",
       "      <th>incident_end_date</th>\n",
       "      <th>disaster_closeout_date</th>\n",
       "      <th>fips</th>\n",
       "      <th>place_code</th>\n",
       "      <th>designated_area</th>\n",
       "      <th>declaration_request_number</th>\n",
       "      <th>hash</th>\n",
       "      <th>last_refresh</th>\n",
       "      <th>id</th>\n",
       "    </tr>\n",
       "  </thead>\n",
       "  <tbody>\n",
       "    <tr>\n",
       "      <th>0</th>\n",
       "      <td>DR-1-GA</td>\n",
       "      <td>1</td>\n",
       "      <td>GA</td>\n",
       "      <td>DR</td>\n",
       "      <td>1953-05-02T00:00:00Z</td>\n",
       "      <td>1953</td>\n",
       "      <td>Tornado</td>\n",
       "      <td>Tornado</td>\n",
       "      <td>0</td>\n",
       "      <td>1</td>\n",
       "      <td>...</td>\n",
       "      <td>1953-05-02T00:00:00Z</td>\n",
       "      <td>1953-05-02T00:00:00Z</td>\n",
       "      <td>1954-06-01T00:00:00Z</td>\n",
       "      <td>13000</td>\n",
       "      <td>0</td>\n",
       "      <td>Statewide</td>\n",
       "      <td>53013</td>\n",
       "      <td>bb121323c9c29d3bef0c9a3f134bfd8b5ecff148</td>\n",
       "      <td>2021-07-13T23:01:19Z</td>\n",
       "      <td>60c3b7a9a0ee349d71025780</td>\n",
       "    </tr>\n",
       "    <tr>\n",
       "      <th>1</th>\n",
       "      <td>DR-2-TX</td>\n",
       "      <td>2</td>\n",
       "      <td>TX</td>\n",
       "      <td>DR</td>\n",
       "      <td>1953-05-15T00:00:00Z</td>\n",
       "      <td>1953</td>\n",
       "      <td>Tornado</td>\n",
       "      <td>Tornado &amp; Heavy Rainfall</td>\n",
       "      <td>0</td>\n",
       "      <td>1</td>\n",
       "      <td>...</td>\n",
       "      <td>1953-05-15T00:00:00Z</td>\n",
       "      <td>1953-05-15T00:00:00Z</td>\n",
       "      <td>1958-01-01T00:00:00Z</td>\n",
       "      <td>48000</td>\n",
       "      <td>0</td>\n",
       "      <td>Statewide</td>\n",
       "      <td>53003</td>\n",
       "      <td>c879557e78d059e6847e7688388c339d10f51979</td>\n",
       "      <td>2021-07-13T23:01:19Z</td>\n",
       "      <td>60c3b7a9a0ee349d71025783</td>\n",
       "    </tr>\n",
       "    <tr>\n",
       "      <th>2</th>\n",
       "      <td>DR-3-LA</td>\n",
       "      <td>3</td>\n",
       "      <td>LA</td>\n",
       "      <td>DR</td>\n",
       "      <td>1953-05-29T00:00:00Z</td>\n",
       "      <td>1953</td>\n",
       "      <td>Flood</td>\n",
       "      <td>Flood</td>\n",
       "      <td>0</td>\n",
       "      <td>1</td>\n",
       "      <td>...</td>\n",
       "      <td>1953-05-29T00:00:00Z</td>\n",
       "      <td>1953-05-29T00:00:00Z</td>\n",
       "      <td>1960-02-01T00:00:00Z</td>\n",
       "      <td>22000</td>\n",
       "      <td>0</td>\n",
       "      <td>Statewide</td>\n",
       "      <td>53005</td>\n",
       "      <td>4fb19699fdbba1387ffa2263fcc4a4e37a1de6d6</td>\n",
       "      <td>2021-07-13T23:01:19Z</td>\n",
       "      <td>60c3b7a9a0ee349d71025777</td>\n",
       "    </tr>\n",
       "    <tr>\n",
       "      <th>3</th>\n",
       "      <td>DR-4-MI</td>\n",
       "      <td>4</td>\n",
       "      <td>MI</td>\n",
       "      <td>DR</td>\n",
       "      <td>1953-06-02T00:00:00Z</td>\n",
       "      <td>1953</td>\n",
       "      <td>Tornado</td>\n",
       "      <td>Tornado</td>\n",
       "      <td>0</td>\n",
       "      <td>1</td>\n",
       "      <td>...</td>\n",
       "      <td>1953-06-02T00:00:00Z</td>\n",
       "      <td>1953-06-02T00:00:00Z</td>\n",
       "      <td>1956-02-01T00:00:00Z</td>\n",
       "      <td>26000</td>\n",
       "      <td>0</td>\n",
       "      <td>Statewide</td>\n",
       "      <td>53004</td>\n",
       "      <td>87a0c1dd5da249767f545e0c0a43f917e4e9ca83</td>\n",
       "      <td>2021-07-13T23:01:19Z</td>\n",
       "      <td>60c3b7a9a0ee349d7102577a</td>\n",
       "    </tr>\n",
       "    <tr>\n",
       "      <th>4</th>\n",
       "      <td>DR-5-MT</td>\n",
       "      <td>5</td>\n",
       "      <td>MT</td>\n",
       "      <td>DR</td>\n",
       "      <td>1953-06-06T00:00:00Z</td>\n",
       "      <td>1953</td>\n",
       "      <td>Flood</td>\n",
       "      <td>Floods</td>\n",
       "      <td>0</td>\n",
       "      <td>1</td>\n",
       "      <td>...</td>\n",
       "      <td>1953-06-06T00:00:00Z</td>\n",
       "      <td>1953-06-06T00:00:00Z</td>\n",
       "      <td>1955-12-01T00:00:00Z</td>\n",
       "      <td>30000</td>\n",
       "      <td>0</td>\n",
       "      <td>Statewide</td>\n",
       "      <td>53006</td>\n",
       "      <td>954449c15634fb45c8bea3ac975782793ccde050</td>\n",
       "      <td>2021-07-13T23:01:19Z</td>\n",
       "      <td>60c3b7a9a0ee349d71025774</td>\n",
       "    </tr>\n",
       "  </tbody>\n",
       "</table>\n",
       "<p>5 rows × 22 columns</p>\n",
       "</div>"
      ],
      "text/plain": [
       "  fema_declaration_string  disaster_number state declaration_type  \\\n",
       "0                 DR-1-GA                1    GA               DR   \n",
       "1                 DR-2-TX                2    TX               DR   \n",
       "2                 DR-3-LA                3    LA               DR   \n",
       "3                 DR-4-MI                4    MI               DR   \n",
       "4                 DR-5-MT                5    MT               DR   \n",
       "\n",
       "       declaration_date  fy_declared incident_type         declaration_title  \\\n",
       "0  1953-05-02T00:00:00Z         1953       Tornado                   Tornado   \n",
       "1  1953-05-15T00:00:00Z         1953       Tornado  Tornado & Heavy Rainfall   \n",
       "2  1953-05-29T00:00:00Z         1953         Flood                     Flood   \n",
       "3  1953-06-02T00:00:00Z         1953       Tornado                   Tornado   \n",
       "4  1953-06-06T00:00:00Z         1953         Flood                    Floods   \n",
       "\n",
       "   ih_program_declared  ia_program_declared  ...   incident_begin_date  \\\n",
       "0                    0                    1  ...  1953-05-02T00:00:00Z   \n",
       "1                    0                    1  ...  1953-05-15T00:00:00Z   \n",
       "2                    0                    1  ...  1953-05-29T00:00:00Z   \n",
       "3                    0                    1  ...  1953-06-02T00:00:00Z   \n",
       "4                    0                    1  ...  1953-06-06T00:00:00Z   \n",
       "\n",
       "      incident_end_date disaster_closeout_date   fips place_code  \\\n",
       "0  1953-05-02T00:00:00Z   1954-06-01T00:00:00Z  13000          0   \n",
       "1  1953-05-15T00:00:00Z   1958-01-01T00:00:00Z  48000          0   \n",
       "2  1953-05-29T00:00:00Z   1960-02-01T00:00:00Z  22000          0   \n",
       "3  1953-06-02T00:00:00Z   1956-02-01T00:00:00Z  26000          0   \n",
       "4  1953-06-06T00:00:00Z   1955-12-01T00:00:00Z  30000          0   \n",
       "\n",
       "   designated_area  declaration_request_number  \\\n",
       "0        Statewide                       53013   \n",
       "1        Statewide                       53003   \n",
       "2        Statewide                       53005   \n",
       "3        Statewide                       53004   \n",
       "4        Statewide                       53006   \n",
       "\n",
       "                                       hash          last_refresh  \\\n",
       "0  bb121323c9c29d3bef0c9a3f134bfd8b5ecff148  2021-07-13T23:01:19Z   \n",
       "1  c879557e78d059e6847e7688388c339d10f51979  2021-07-13T23:01:19Z   \n",
       "2  4fb19699fdbba1387ffa2263fcc4a4e37a1de6d6  2021-07-13T23:01:19Z   \n",
       "3  87a0c1dd5da249767f545e0c0a43f917e4e9ca83  2021-07-13T23:01:19Z   \n",
       "4  954449c15634fb45c8bea3ac975782793ccde050  2021-07-13T23:01:19Z   \n",
       "\n",
       "                         id  \n",
       "0  60c3b7a9a0ee349d71025780  \n",
       "1  60c3b7a9a0ee349d71025783  \n",
       "2  60c3b7a9a0ee349d71025777  \n",
       "3  60c3b7a9a0ee349d7102577a  \n",
       "4  60c3b7a9a0ee349d71025774  \n",
       "\n",
       "[5 rows x 22 columns]"
      ]
     },
     "execution_count": 2,
     "metadata": {},
     "output_type": "execute_result"
    }
   ],
   "source": [
    "Ndis_df=pd.read_csv('USdisaster.csv')\n",
    "Ndis_df.head()"
   ]
  },
  {
   "cell_type": "code",
   "execution_count": 3,
   "id": "7a4958d2",
   "metadata": {},
   "outputs": [
    {
     "data": {
      "text/plain": [
       "(62771, 22)"
      ]
     },
     "execution_count": 3,
     "metadata": {},
     "output_type": "execute_result"
    }
   ],
   "source": [
    "Ndis_df.shape"
   ]
  },
  {
   "cell_type": "code",
   "execution_count": 4,
   "id": "402138d3",
   "metadata": {},
   "outputs": [
    {
     "name": "stdout",
     "output_type": "stream",
     "text": [
      "<class 'pandas.core.frame.DataFrame'>\n",
      "RangeIndex: 62771 entries, 0 to 62770\n",
      "Data columns (total 22 columns):\n",
      " #   Column                      Non-Null Count  Dtype \n",
      "---  ------                      --------------  ----- \n",
      " 0   fema_declaration_string     62771 non-null  object\n",
      " 1   disaster_number             62771 non-null  int64 \n",
      " 2   state                       62771 non-null  object\n",
      " 3   declaration_type            62771 non-null  object\n",
      " 4   declaration_date            62771 non-null  object\n",
      " 5   fy_declared                 62771 non-null  int64 \n",
      " 6   incident_type               62771 non-null  object\n",
      " 7   declaration_title           62771 non-null  object\n",
      " 8   ih_program_declared         62771 non-null  int64 \n",
      " 9   ia_program_declared         62771 non-null  int64 \n",
      " 10  pa_program_declared         62771 non-null  int64 \n",
      " 11  hm_program_declared         62771 non-null  int64 \n",
      " 12  incident_begin_date         62771 non-null  object\n",
      " 13  incident_end_date           54433 non-null  object\n",
      " 14  disaster_closeout_date      47452 non-null  object\n",
      " 15  fips                        62771 non-null  int64 \n",
      " 16  place_code                  62771 non-null  int64 \n",
      " 17  designated_area             62771 non-null  object\n",
      " 18  declaration_request_number  62771 non-null  int64 \n",
      " 19  hash                        62771 non-null  object\n",
      " 20  last_refresh                62771 non-null  object\n",
      " 21  id                          62771 non-null  object\n",
      "dtypes: int64(9), object(13)\n",
      "memory usage: 10.5+ MB\n"
     ]
    }
   ],
   "source": [
    "Ndis_df.info()"
   ]
  },
  {
   "cell_type": "code",
   "execution_count": 5,
   "id": "7322d681",
   "metadata": {},
   "outputs": [
    {
     "data": {
      "text/html": [
       "<div>\n",
       "<style scoped>\n",
       "    .dataframe tbody tr th:only-of-type {\n",
       "        vertical-align: middle;\n",
       "    }\n",
       "\n",
       "    .dataframe tbody tr th {\n",
       "        vertical-align: top;\n",
       "    }\n",
       "\n",
       "    .dataframe thead th {\n",
       "        text-align: right;\n",
       "    }\n",
       "</style>\n",
       "<table border=\"1\" class=\"dataframe\">\n",
       "  <thead>\n",
       "    <tr style=\"text-align: right;\">\n",
       "      <th></th>\n",
       "      <th>disaster_number</th>\n",
       "      <th>fy_declared</th>\n",
       "      <th>ih_program_declared</th>\n",
       "      <th>ia_program_declared</th>\n",
       "      <th>pa_program_declared</th>\n",
       "      <th>hm_program_declared</th>\n",
       "      <th>fips</th>\n",
       "      <th>place_code</th>\n",
       "      <th>declaration_request_number</th>\n",
       "    </tr>\n",
       "  </thead>\n",
       "  <tbody>\n",
       "    <tr>\n",
       "      <th>count</th>\n",
       "      <td>62771.000000</td>\n",
       "      <td>62771.000000</td>\n",
       "      <td>62771.000000</td>\n",
       "      <td>62771.000000</td>\n",
       "      <td>62771.000000</td>\n",
       "      <td>62771.000000</td>\n",
       "      <td>62771.000000</td>\n",
       "      <td>62771.000000</td>\n",
       "      <td>62771.000000</td>\n",
       "    </tr>\n",
       "    <tr>\n",
       "      <th>mean</th>\n",
       "      <td>2540.282503</td>\n",
       "      <td>2003.958452</td>\n",
       "      <td>0.168470</td>\n",
       "      <td>0.273805</td>\n",
       "      <td>0.930828</td>\n",
       "      <td>0.426566</td>\n",
       "      <td>31711.800577</td>\n",
       "      <td>96348.959854</td>\n",
       "      <td>35295.169824</td>\n",
       "    </tr>\n",
       "    <tr>\n",
       "      <th>std</th>\n",
       "      <td>1394.657070</td>\n",
       "      <td>14.703548</td>\n",
       "      <td>0.374286</td>\n",
       "      <td>0.445914</td>\n",
       "      <td>0.253749</td>\n",
       "      <td>0.494582</td>\n",
       "      <td>16539.960239</td>\n",
       "      <td>14036.315551</td>\n",
       "      <td>35272.190599</td>\n",
       "    </tr>\n",
       "    <tr>\n",
       "      <th>min</th>\n",
       "      <td>1.000000</td>\n",
       "      <td>1953.000000</td>\n",
       "      <td>0.000000</td>\n",
       "      <td>0.000000</td>\n",
       "      <td>0.000000</td>\n",
       "      <td>0.000000</td>\n",
       "      <td>1000.000000</td>\n",
       "      <td>0.000000</td>\n",
       "      <td>3.000000</td>\n",
       "    </tr>\n",
       "    <tr>\n",
       "      <th>25%</th>\n",
       "      <td>1293.000000</td>\n",
       "      <td>1996.000000</td>\n",
       "      <td>0.000000</td>\n",
       "      <td>0.000000</td>\n",
       "      <td>1.000000</td>\n",
       "      <td>0.000000</td>\n",
       "      <td>20000.000000</td>\n",
       "      <td>99029.000000</td>\n",
       "      <td>8135.000000</td>\n",
       "    </tr>\n",
       "    <tr>\n",
       "      <th>50%</th>\n",
       "      <td>3033.000000</td>\n",
       "      <td>2006.000000</td>\n",
       "      <td>0.000000</td>\n",
       "      <td>0.000000</td>\n",
       "      <td>1.000000</td>\n",
       "      <td>0.000000</td>\n",
       "      <td>30037.000000</td>\n",
       "      <td>99073.000000</td>\n",
       "      <td>19106.000000</td>\n",
       "    </tr>\n",
       "    <tr>\n",
       "      <th>75%</th>\n",
       "      <td>3482.000000</td>\n",
       "      <td>2017.000000</td>\n",
       "      <td>0.000000</td>\n",
       "      <td>1.000000</td>\n",
       "      <td>1.000000</td>\n",
       "      <td>1.000000</td>\n",
       "      <td>46079.000000</td>\n",
       "      <td>99125.000000</td>\n",
       "      <td>74060.000000</td>\n",
       "    </tr>\n",
       "    <tr>\n",
       "      <th>max</th>\n",
       "      <td>5423.000000</td>\n",
       "      <td>2022.000000</td>\n",
       "      <td>1.000000</td>\n",
       "      <td>1.000000</td>\n",
       "      <td>1.000000</td>\n",
       "      <td>1.000000</td>\n",
       "      <td>78030.000000</td>\n",
       "      <td>99507.000000</td>\n",
       "      <td>99159.000000</td>\n",
       "    </tr>\n",
       "  </tbody>\n",
       "</table>\n",
       "</div>"
      ],
      "text/plain": [
       "       disaster_number   fy_declared  ih_program_declared  \\\n",
       "count     62771.000000  62771.000000         62771.000000   \n",
       "mean       2540.282503   2003.958452             0.168470   \n",
       "std        1394.657070     14.703548             0.374286   \n",
       "min           1.000000   1953.000000             0.000000   \n",
       "25%        1293.000000   1996.000000             0.000000   \n",
       "50%        3033.000000   2006.000000             0.000000   \n",
       "75%        3482.000000   2017.000000             0.000000   \n",
       "max        5423.000000   2022.000000             1.000000   \n",
       "\n",
       "       ia_program_declared  pa_program_declared  hm_program_declared  \\\n",
       "count         62771.000000         62771.000000         62771.000000   \n",
       "mean              0.273805             0.930828             0.426566   \n",
       "std               0.445914             0.253749             0.494582   \n",
       "min               0.000000             0.000000             0.000000   \n",
       "25%               0.000000             1.000000             0.000000   \n",
       "50%               0.000000             1.000000             0.000000   \n",
       "75%               1.000000             1.000000             1.000000   \n",
       "max               1.000000             1.000000             1.000000   \n",
       "\n",
       "               fips    place_code  declaration_request_number  \n",
       "count  62771.000000  62771.000000                62771.000000  \n",
       "mean   31711.800577  96348.959854                35295.169824  \n",
       "std    16539.960239  14036.315551                35272.190599  \n",
       "min     1000.000000      0.000000                    3.000000  \n",
       "25%    20000.000000  99029.000000                 8135.000000  \n",
       "50%    30037.000000  99073.000000                19106.000000  \n",
       "75%    46079.000000  99125.000000                74060.000000  \n",
       "max    78030.000000  99507.000000                99159.000000  "
      ]
     },
     "execution_count": 5,
     "metadata": {},
     "output_type": "execute_result"
    }
   ],
   "source": [
    "Ndis_df.describe()"
   ]
  },
  {
   "cell_type": "code",
   "execution_count": 6,
   "id": "6c507681",
   "metadata": {},
   "outputs": [
    {
     "data": {
      "text/plain": [
       "fema_declaration_string           0\n",
       "disaster_number                   0\n",
       "state                             0\n",
       "declaration_type                  0\n",
       "declaration_date                  0\n",
       "fy_declared                       0\n",
       "incident_type                     0\n",
       "declaration_title                 0\n",
       "ih_program_declared               0\n",
       "ia_program_declared               0\n",
       "pa_program_declared               0\n",
       "hm_program_declared               0\n",
       "incident_begin_date               0\n",
       "incident_end_date              8338\n",
       "disaster_closeout_date        15319\n",
       "fips                              0\n",
       "place_code                        0\n",
       "designated_area                   0\n",
       "declaration_request_number        0\n",
       "hash                              0\n",
       "last_refresh                      0\n",
       "id                                0\n",
       "dtype: int64"
      ]
     },
     "execution_count": 6,
     "metadata": {},
     "output_type": "execute_result"
    }
   ],
   "source": [
    "Ndis_df.isnull().sum()"
   ]
  },
  {
   "cell_type": "code",
   "execution_count": null,
   "id": "8c8b6f1b",
   "metadata": {},
   "outputs": [],
   "source": []
  },
  {
   "cell_type": "code",
   "execution_count": 7,
   "id": "1bc096e8",
   "metadata": {},
   "outputs": [
    {
     "name": "stdout",
     "output_type": "stream",
     "text": [
      "fema_declaration_string 4632\n",
      "disaster_number 4632\n",
      "state 59\n",
      "declaration_type 3\n",
      "declaration_date 3978\n",
      "fy_declared 70\n",
      "incident_type 23\n",
      "declaration_title 2189\n",
      "ih_program_declared 2\n",
      "ia_program_declared 2\n",
      "pa_program_declared 2\n",
      "hm_program_declared 2\n",
      "incident_begin_date 3458\n",
      "incident_end_date 3272\n",
      "disaster_closeout_date 1812\n",
      "fips 3323\n",
      "place_code 1302\n",
      "designated_area 2952\n",
      "declaration_request_number 4632\n",
      "hash 62771\n",
      "last_refresh 284\n",
      "id 62771\n"
     ]
    }
   ],
   "source": [
    "for i in Ndis_df.select_dtypes(exclude=['float64']).columns:\n",
    "    print(i,Ndis_df[i].nunique())"
   ]
  },
  {
   "cell_type": "markdown",
   "id": "340b7de1",
   "metadata": {},
   "source": [
    "## EXPLORATORY DATA ANALYSIS"
   ]
  },
  {
   "cell_type": "markdown",
   "id": "ac22f09a",
   "metadata": {},
   "source": [
    "### Univariate Analysis"
   ]
  },
  {
   "cell_type": "code",
   "execution_count": 8,
   "id": "1d299bad",
   "metadata": {
    "scrolled": false
   },
   "outputs": [
    {
     "data": {
      "text/plain": [
       "Text(0.5, 0, 'disaster_number')"
      ]
     },
     "execution_count": 8,
     "metadata": {},
     "output_type": "execute_result"
    },
    {
     "data": {
      "image/png": "[encoded data removed]",
      "text/plain": [
       "<Figure size 1296x432 with 2 Axes>"
      ]
     },
     "metadata": {
      "needs_background": "light"
     },
     "output_type": "display_data"
    }
   ],
   "source": [
    "plt.figure(figsize=(18,6)) \n",
    "plt.subplot(121)\n",
    "sns.kdeplot(data=Ndis_df, x=\"fy_declared\",fill=True)\n",
    "plt.xlabel(\"fy_declared\")\n",
    "\n",
    "plt.subplot(122)\n",
    "sns.kdeplot(data=Ndis_df, x=\"disaster_number\",fill=True)\n",
    "plt.xlabel(\"disaster_number\")\n"
   ]
  },
  {
   "cell_type": "code",
   "execution_count": 9,
   "id": "14425561",
   "metadata": {
    "scrolled": false
   },
   "outputs": [
    {
     "data": {
      "image/png": "[encoded data removed]",
      "text/plain": [
       "<Figure size 576x432 with 1 Axes>"
      ]
     },
     "metadata": {
      "needs_background": "light"
     },
     "output_type": "display_data"
    }
   ],
   "source": [
    "plt.figure(figsize=(8,6)) \n",
    "ax=sns.countplot(x = 'declaration_type',data = Ndis_df,palette='plasma')\n",
    "plt.title(\" Declared Disasters Count Since 1953\")\n",
    "for p in ax.patches:\n",
    "    height = p.get_height()\n",
    "    ax.text(p.get_x()+p.get_width()/2., height + 0.1, height ,ha=\"center\")\n",
    "plt.show()"
   ]
  },
  {
   "cell_type": "code",
   "execution_count": 10,
   "id": "82ca2bc1",
   "metadata": {
    "scrolled": false
   },
   "outputs": [
    {
     "data": {
      "image/png": "[encoded data removed]",
      "text/plain": [
       "<Figure size 1296x576 with 1 Axes>"
      ]
     },
     "metadata": {
      "needs_background": "light"
     },
     "output_type": "display_data"
    }
   ],
   "source": [
    "plt.figure(figsize=(18,8)) \n",
    "plt.xticks(rotation=45)\n",
    "ax=sns.countplot(x = 'incident_type',data = Ndis_df,palette='plasma')\n",
    "plt.title(\" Incident type Count Since 1953\")\n",
    "for p in ax.patches:\n",
    "    height = p.get_height()\n",
    "    ax.text(p.get_x()+p.get_width()/2, height + 0.1,height ,ha=\"center\")\n",
    "plt.show()"
   ]
  },
  {
   "cell_type": "code",
   "execution_count": 11,
   "id": "74109784",
   "metadata": {},
   "outputs": [
    {
     "data": {
      "image/png": "[encoded data removed]",
      "text/plain": [
       "<Figure size 1296x432 with 4 Axes>"
      ]
     },
     "metadata": {
      "needs_background": "light"
     },
     "output_type": "display_data"
    }
   ],
   "source": [
    "plt.subplot(141)\n",
    "Ndis_df['ih_program_declared'].plot.kde(figsize=(18,6))\n",
    "plt.xlabel(\"ih_program_declared\")\n",
    "plt.tight_layout(pad=0.5)\n",
    "\n",
    "plt.subplot(142)\n",
    "Ndis_df['ia_program_declared'].plot.kde()\n",
    "plt.xlabel(\"ia_program_declared\")\n",
    "plt.tight_layout(pad=0.5)\n",
    "\n",
    "plt.subplot(143)\n",
    "Ndis_df['pa_program_declared'].plot.kde()\n",
    "plt.xlabel(\"pa_program_declared\")\n",
    "plt.tight_layout(pad=0.5)\n",
    "\n",
    "plt.subplot(144)\n",
    "Ndis_df['hm_program_declared'].plot.kde()\n",
    "plt.xlabel(\"hm_program_declared\")\n",
    "plt.tight_layout(pad=0.5)"
   ]
  },
  {
   "cell_type": "markdown",
   "id": "4504986b",
   "metadata": {},
   "source": [
    "### Bivariate Analysis"
   ]
  },
  {
   "cell_type": "code",
   "execution_count": 12,
   "id": "4efba92c",
   "metadata": {},
   "outputs": [
    {
     "data": {
      "text/plain": [
       "<AxesSubplot:xlabel='incident_type', ylabel='fy_declared'>"
      ]
     },
     "execution_count": 12,
     "metadata": {},
     "output_type": "execute_result"
    },
    {
     "data": {
      "image/png": "[encoded data removed]",
      "text/plain": [
       "<Figure size 1440x1080 with 1 Axes>"
      ]
     },
     "metadata": {
      "needs_background": "light"
     },
     "output_type": "display_data"
    }
   ],
   "source": [
    "# Perform Bivariate Analysis using boxplot\n",
    "plt.figure(figsize=(20,15))\n",
    "plt.xticks(rotation=45)\n",
    "sns.boxplot(x= \"incident_type\",y = \"fy_declared\", data=Ndis_df)"
   ]
  },
  {
   "cell_type": "code",
   "execution_count": 13,
   "id": "f6fcb784",
   "metadata": {
    "scrolled": false
   },
   "outputs": [
    {
     "data": {
      "text/plain": [
       "<seaborn.axisgrid.PairGrid at 0x1f517b4a0d0>"
      ]
     },
     "execution_count": 13,
     "metadata": {},
     "output_type": "execute_result"
    },
    {
     "data": {
      "image/png": "[encoded data removed]",
      "text/plain": [
       "<Figure size 1008x504 with 2 Axes>"
      ]
     },
     "metadata": {
      "needs_background": "light"
     },
     "output_type": "display_data"
    }
   ],
   "source": [
    "sns.pairplot(\n",
    "    Ndis_df,\n",
    "    x_vars=[ 'declaration_type','fy_declared'],\n",
    "    y_vars=['incident_type'],height=7  \n",
    ")"
   ]
  },
  {
   "cell_type": "code",
   "execution_count": 14,
   "id": "60c53ccf",
   "metadata": {
    "scrolled": true
   },
   "outputs": [
    {
     "data": {
      "text/plain": [
       "<AxesSubplot:xlabel='hm_program_declared', ylabel='disaster_number'>"
      ]
     },
     "execution_count": 14,
     "metadata": {},
     "output_type": "execute_result"
    },
    {
     "data": {
      "image/png": "[encoded data removed]",
      "text/plain": [
       "<Figure size 1440x432 with 4 Axes>"
      ]
     },
     "metadata": {
      "needs_background": "light"
     },
     "output_type": "display_data"
    }
   ],
   "source": [
    "fig, axes = plt.subplots(nrows=1, ncols=4,figsize=(20,6)) # create 1x4 array of subplots\n",
    "sns.boxplot(y = \"disaster_number\", x = \"ia_program_declared\", data=Ndis_df, ax=axes[0]) # add boxplot to 1st subplot\n",
    "sns.boxplot(y = \"disaster_number\", x = \"pa_program_declared\", data=Ndis_df, ax=axes[1])\n",
    "sns.boxplot(y = \"disaster_number\", x = \"ih_program_declared\", data=Ndis_df, ax=axes[2]) \n",
    "sns.boxplot(y = \"disaster_number\", x = \"hm_program_declared\", data=Ndis_df, ax=axes[3])"
   ]
  },
  {
   "cell_type": "code",
   "execution_count": 15,
   "id": "8b1c29c6",
   "metadata": {},
   "outputs": [
    {
     "data": {
      "image/png": "[encoded data removed]",
      "text/plain": [
       "<Figure size 1296x432 with 4 Axes>"
      ]
     },
     "metadata": {
      "needs_background": "light"
     },
     "output_type": "display_data"
    }
   ],
   "source": [
    "fig, axes = plt.subplots(nrows=1, ncols=4,figsize=(18,6)) # create 1x4 array of subplots\n",
    "Ndis_df.boxplot(column='fy_declared',by='ia_program_declared', ax=axes[0],patch_artist=True) # add boxplot to 1st subplot\n",
    "Ndis_df.boxplot(column='fy_declared', by='hm_program_declared', ax=axes[1],patch_artist=True) # add boxplot to 2nd subplot\n",
    "Ndis_df.boxplot(column='fy_declared', by='pa_program_declared', ax=axes[2],patch_artist=True)\n",
    "Ndis_df.boxplot(column='fy_declared', by='ih_program_declared', ax=axes[3],patch_artist=True)\n",
    "fig.suptitle('boxplot on assistance provided after disaster')\n",
    "plt.show()"
   ]
  },
  {
   "cell_type": "markdown",
   "id": "b1ffc786",
   "metadata": {},
   "source": [
    "## DATA PREPROCESSING"
   ]
  },
  {
   "cell_type": "code",
   "execution_count": 16,
   "id": "4f3826ec",
   "metadata": {},
   "outputs": [
    {
     "data": {
      "text/plain": [
       "fema_declaration_string           0\n",
       "disaster_number                   0\n",
       "state                             0\n",
       "declaration_type                  0\n",
       "declaration_date                  0\n",
       "fy_declared                       0\n",
       "incident_type                     0\n",
       "declaration_title                 0\n",
       "ih_program_declared               0\n",
       "ia_program_declared               0\n",
       "pa_program_declared               0\n",
       "hm_program_declared               0\n",
       "incident_begin_date               0\n",
       "incident_end_date              8338\n",
       "disaster_closeout_date        15319\n",
       "fips                              0\n",
       "place_code                        0\n",
       "designated_area                   0\n",
       "declaration_request_number        0\n",
       "hash                              0\n",
       "last_refresh                      0\n",
       "id                                0\n",
       "dtype: int64"
      ]
     },
     "execution_count": 16,
     "metadata": {},
     "output_type": "execute_result"
    }
   ],
   "source": [
    "Ndis_df.isnull().sum()"
   ]
  },
  {
   "cell_type": "markdown",
   "id": "52cf54c9",
   "metadata": {},
   "source": [
    "As the column 'disaster_closeout_date' has 1/4 th of the values as missing, we drop the column "
   ]
  },
  {
   "cell_type": "code",
   "execution_count": 17,
   "id": "aefdd2cf",
   "metadata": {},
   "outputs": [
    {
     "data": {
      "text/plain": [
       "(62771, 21)"
      ]
     },
     "execution_count": 17,
     "metadata": {},
     "output_type": "execute_result"
    }
   ],
   "source": [
    "Ndis_df.drop('disaster_closeout_date',axis=1 , inplace=True)\n",
    "Ndis_df.shape"
   ]
  },
  {
   "cell_type": "code",
   "execution_count": 18,
   "id": "0f5335d2",
   "metadata": {},
   "outputs": [
    {
     "data": {
      "text/html": [
       "<div>\n",
       "<style scoped>\n",
       "    .dataframe tbody tr th:only-of-type {\n",
       "        vertical-align: middle;\n",
       "    }\n",
       "\n",
       "    .dataframe tbody tr th {\n",
       "        vertical-align: top;\n",
       "    }\n",
       "\n",
       "    .dataframe thead th {\n",
       "        text-align: right;\n",
       "    }\n",
       "</style>\n",
       "<table border=\"1\" class=\"dataframe\">\n",
       "  <thead>\n",
       "    <tr style=\"text-align: right;\">\n",
       "      <th></th>\n",
       "      <th>incident_begin_date</th>\n",
       "      <th>incident_end_date</th>\n",
       "    </tr>\n",
       "    <tr>\n",
       "      <th>incident_type</th>\n",
       "      <th></th>\n",
       "      <th></th>\n",
       "    </tr>\n",
       "  </thead>\n",
       "  <tbody>\n",
       "    <tr>\n",
       "      <th>Biological</th>\n",
       "      <td>7856</td>\n",
       "      <td>0</td>\n",
       "    </tr>\n",
       "    <tr>\n",
       "      <th>Chemical</th>\n",
       "      <td>9</td>\n",
       "      <td>9</td>\n",
       "    </tr>\n",
       "    <tr>\n",
       "      <th>Coastal Storm</th>\n",
       "      <td>635</td>\n",
       "      <td>634</td>\n",
       "    </tr>\n",
       "    <tr>\n",
       "      <th>Dam/Levee Break</th>\n",
       "      <td>13</td>\n",
       "      <td>13</td>\n",
       "    </tr>\n",
       "    <tr>\n",
       "      <th>Drought</th>\n",
       "      <td>1292</td>\n",
       "      <td>1292</td>\n",
       "    </tr>\n",
       "    <tr>\n",
       "      <th>Earthquake</th>\n",
       "      <td>227</td>\n",
       "      <td>227</td>\n",
       "    </tr>\n",
       "    <tr>\n",
       "      <th>Fire</th>\n",
       "      <td>3566</td>\n",
       "      <td>3102</td>\n",
       "    </tr>\n",
       "    <tr>\n",
       "      <th>Fishing Losses</th>\n",
       "      <td>42</td>\n",
       "      <td>42</td>\n",
       "    </tr>\n",
       "    <tr>\n",
       "      <th>Flood</th>\n",
       "      <td>10483</td>\n",
       "      <td>10483</td>\n",
       "    </tr>\n",
       "    <tr>\n",
       "      <th>Freezing</th>\n",
       "      <td>301</td>\n",
       "      <td>301</td>\n",
       "    </tr>\n",
       "    <tr>\n",
       "      <th>Human Cause</th>\n",
       "      <td>7</td>\n",
       "      <td>7</td>\n",
       "    </tr>\n",
       "    <tr>\n",
       "      <th>Hurricane</th>\n",
       "      <td>12490</td>\n",
       "      <td>12474</td>\n",
       "    </tr>\n",
       "    <tr>\n",
       "      <th>Mud/Landslide</th>\n",
       "      <td>36</td>\n",
       "      <td>36</td>\n",
       "    </tr>\n",
       "    <tr>\n",
       "      <th>Other</th>\n",
       "      <td>306</td>\n",
       "      <td>306</td>\n",
       "    </tr>\n",
       "    <tr>\n",
       "      <th>Severe Ice Storm</th>\n",
       "      <td>2942</td>\n",
       "      <td>2942</td>\n",
       "    </tr>\n",
       "    <tr>\n",
       "      <th>Severe Storm(s)</th>\n",
       "      <td>17127</td>\n",
       "      <td>17126</td>\n",
       "    </tr>\n",
       "    <tr>\n",
       "      <th>Snow</th>\n",
       "      <td>3664</td>\n",
       "      <td>3664</td>\n",
       "    </tr>\n",
       "    <tr>\n",
       "      <th>Terrorist</th>\n",
       "      <td>5</td>\n",
       "      <td>5</td>\n",
       "    </tr>\n",
       "    <tr>\n",
       "      <th>Tornado</th>\n",
       "      <td>1571</td>\n",
       "      <td>1571</td>\n",
       "    </tr>\n",
       "    <tr>\n",
       "      <th>Toxic Substances</th>\n",
       "      <td>9</td>\n",
       "      <td>9</td>\n",
       "    </tr>\n",
       "    <tr>\n",
       "      <th>Tsunami</th>\n",
       "      <td>9</td>\n",
       "      <td>9</td>\n",
       "    </tr>\n",
       "    <tr>\n",
       "      <th>Typhoon</th>\n",
       "      <td>130</td>\n",
       "      <td>130</td>\n",
       "    </tr>\n",
       "    <tr>\n",
       "      <th>Volcano</th>\n",
       "      <td>51</td>\n",
       "      <td>51</td>\n",
       "    </tr>\n",
       "  </tbody>\n",
       "</table>\n",
       "</div>"
      ],
      "text/plain": [
       "                  incident_begin_date  incident_end_date\n",
       "incident_type                                           \n",
       "Biological                       7856                  0\n",
       "Chemical                            9                  9\n",
       "Coastal Storm                     635                634\n",
       "Dam/Levee Break                    13                 13\n",
       "Drought                          1292               1292\n",
       "Earthquake                        227                227\n",
       "Fire                             3566               3102\n",
       "Fishing Losses                     42                 42\n",
       "Flood                           10483              10483\n",
       "Freezing                          301                301\n",
       "Human Cause                         7                  7\n",
       "Hurricane                       12490              12474\n",
       "Mud/Landslide                      36                 36\n",
       "Other                             306                306\n",
       "Severe Ice Storm                 2942               2942\n",
       "Severe Storm(s)                 17127              17126\n",
       "Snow                             3664               3664\n",
       "Terrorist                           5                  5\n",
       "Tornado                          1571               1571\n",
       "Toxic Substances                    9                  9\n",
       "Tsunami                             9                  9\n",
       "Typhoon                           130                130\n",
       "Volcano                            51                 51"
      ]
     },
     "execution_count": 18,
     "metadata": {},
     "output_type": "execute_result"
    }
   ],
   "source": [
    "#incident recorded count\n",
    "duration = Ndis_df.groupby('incident_type')['incident_begin_date','incident_end_date'].count()\n",
    "duration"
   ]
  },
  {
   "cell_type": "code",
   "execution_count": 19,
   "id": "f5b228e9",
   "metadata": {},
   "outputs": [
    {
     "data": {
      "text/plain": [
       "{'Biological': 7856,\n",
       " 'Coastal Storm': 1,\n",
       " 'Fire': 464,\n",
       " 'Hurricane': 16,\n",
       " 'Severe Storm(s)': 1}"
      ]
     },
     "execution_count": 19,
     "metadata": {},
     "output_type": "execute_result"
    }
   ],
   "source": [
    "types=duration.index.to_list()\n",
    "dur=duration.to_numpy()\n",
    "inci_type={}\n",
    "j=0\n",
    "for i in dur:\n",
    "    if(i[0]-i[1]>0):\n",
    "        key=types[j]\n",
    "        inci_type[key]=i[0]-i[1]\n",
    "    j=j+1\n",
    "inci_type"
   ]
  },
  {
   "cell_type": "markdown",
   "id": "d5ce9bd2",
   "metadata": {},
   "source": [
    "##### these are the incident types which has null values in incident_end_date."
   ]
  },
  {
   "cell_type": "markdown",
   "id": "36194b25",
   "metadata": {},
   "source": [
    "as per the graph we had in univariate analysis, Biological incidents happened in these years are of count 7856 and the missing \n",
    "value count is also the same. i.e for all the data in biological incidents, Biological incident_end_date is left null."
   ]
  },
  {
   "cell_type": "code",
   "execution_count": 20,
   "id": "ee34664a",
   "metadata": {
    "scrolled": false
   },
   "outputs": [
    {
     "data": {
      "text/html": [
       "<div>\n",
       "<style scoped>\n",
       "    .dataframe tbody tr th:only-of-type {\n",
       "        vertical-align: middle;\n",
       "    }\n",
       "\n",
       "    .dataframe tbody tr th {\n",
       "        vertical-align: top;\n",
       "    }\n",
       "\n",
       "    .dataframe thead th {\n",
       "        text-align: right;\n",
       "    }\n",
       "</style>\n",
       "<table border=\"1\" class=\"dataframe\">\n",
       "  <thead>\n",
       "    <tr style=\"text-align: right;\">\n",
       "      <th></th>\n",
       "      <th>incident_type</th>\n",
       "      <th>incident_begin_date</th>\n",
       "      <th>incident_end_date</th>\n",
       "    </tr>\n",
       "  </thead>\n",
       "  <tbody>\n",
       "    <tr>\n",
       "      <th>51210</th>\n",
       "      <td>Biological</td>\n",
       "      <td>2020-01-20T14:00:00Z</td>\n",
       "      <td>NaN</td>\n",
       "    </tr>\n",
       "    <tr>\n",
       "      <th>51211</th>\n",
       "      <td>Biological</td>\n",
       "      <td>2020-01-20T14:00:00Z</td>\n",
       "      <td>NaN</td>\n",
       "    </tr>\n",
       "    <tr>\n",
       "      <th>51212</th>\n",
       "      <td>Biological</td>\n",
       "      <td>2020-01-20T14:00:00Z</td>\n",
       "      <td>NaN</td>\n",
       "    </tr>\n",
       "    <tr>\n",
       "      <th>51213</th>\n",
       "      <td>Biological</td>\n",
       "      <td>2020-01-20T14:00:00Z</td>\n",
       "      <td>NaN</td>\n",
       "    </tr>\n",
       "    <tr>\n",
       "      <th>51214</th>\n",
       "      <td>Biological</td>\n",
       "      <td>2020-01-20T14:00:00Z</td>\n",
       "      <td>NaN</td>\n",
       "    </tr>\n",
       "    <tr>\n",
       "      <th>...</th>\n",
       "      <td>...</td>\n",
       "      <td>...</td>\n",
       "      <td>...</td>\n",
       "    </tr>\n",
       "    <tr>\n",
       "      <th>59202</th>\n",
       "      <td>Biological</td>\n",
       "      <td>2020-01-20T14:00:00Z</td>\n",
       "      <td>NaN</td>\n",
       "    </tr>\n",
       "    <tr>\n",
       "      <th>59203</th>\n",
       "      <td>Biological</td>\n",
       "      <td>2020-01-20T14:00:00Z</td>\n",
       "      <td>NaN</td>\n",
       "    </tr>\n",
       "    <tr>\n",
       "      <th>59204</th>\n",
       "      <td>Biological</td>\n",
       "      <td>2020-01-20T14:00:00Z</td>\n",
       "      <td>NaN</td>\n",
       "    </tr>\n",
       "    <tr>\n",
       "      <th>60834</th>\n",
       "      <td>Biological</td>\n",
       "      <td>2020-01-20T12:00:00Z</td>\n",
       "      <td>NaN</td>\n",
       "    </tr>\n",
       "    <tr>\n",
       "      <th>61668</th>\n",
       "      <td>Biological</td>\n",
       "      <td>2020-01-20T14:00:00Z</td>\n",
       "      <td>NaN</td>\n",
       "    </tr>\n",
       "  </tbody>\n",
       "</table>\n",
       "<p>7856 rows × 3 columns</p>\n",
       "</div>"
      ],
      "text/plain": [
       "      incident_type   incident_begin_date incident_end_date\n",
       "51210    Biological  2020-01-20T14:00:00Z               NaN\n",
       "51211    Biological  2020-01-20T14:00:00Z               NaN\n",
       "51212    Biological  2020-01-20T14:00:00Z               NaN\n",
       "51213    Biological  2020-01-20T14:00:00Z               NaN\n",
       "51214    Biological  2020-01-20T14:00:00Z               NaN\n",
       "...             ...                   ...               ...\n",
       "59202    Biological  2020-01-20T14:00:00Z               NaN\n",
       "59203    Biological  2020-01-20T14:00:00Z               NaN\n",
       "59204    Biological  2020-01-20T14:00:00Z               NaN\n",
       "60834    Biological  2020-01-20T12:00:00Z               NaN\n",
       "61668    Biological  2020-01-20T14:00:00Z               NaN\n",
       "\n",
       "[7856 rows x 3 columns]"
      ]
     },
     "metadata": {},
     "output_type": "display_data"
    }
   ],
   "source": [
    "biological_rows  = Ndis_df.loc[(Ndis_df['incident_type']=='Biological') ]\n",
    "display(biological_rows[['incident_type','incident_begin_date','incident_end_date']])"
   ]
  },
  {
   "cell_type": "markdown",
   "id": "6028919a",
   "metadata": {},
   "source": [
    "As all the entries in the category does not have incident_end_date , we drop those rows which is of incident_type 'Biological'"
   ]
  },
  {
   "cell_type": "code",
   "execution_count": 21,
   "id": "0b565b03",
   "metadata": {},
   "outputs": [],
   "source": [
    "Ndis_df.drop(Ndis_df[Ndis_df['incident_type'] == 'Biological'].index, inplace = True)\n"
   ]
  },
  {
   "cell_type": "markdown",
   "id": "93a2b2cd",
   "metadata": {},
   "source": [
    "handling missing values of Coastal Storm Incident type"
   ]
  },
  {
   "cell_type": "code",
   "execution_count": 22,
   "id": "62a8b3bc",
   "metadata": {
    "scrolled": false
   },
   "outputs": [
    {
     "data": {
      "text/html": [
       "<div>\n",
       "<style scoped>\n",
       "    .dataframe tbody tr th:only-of-type {\n",
       "        vertical-align: middle;\n",
       "    }\n",
       "\n",
       "    .dataframe tbody tr th {\n",
       "        vertical-align: top;\n",
       "    }\n",
       "\n",
       "    .dataframe thead th {\n",
       "        text-align: right;\n",
       "    }\n",
       "</style>\n",
       "<table border=\"1\" class=\"dataframe\">\n",
       "  <thead>\n",
       "    <tr style=\"text-align: right;\">\n",
       "      <th></th>\n",
       "      <th>incident_type</th>\n",
       "      <th>incident_begin_date</th>\n",
       "      <th>incident_end_date</th>\n",
       "    </tr>\n",
       "  </thead>\n",
       "  <tbody>\n",
       "    <tr>\n",
       "      <th>2197</th>\n",
       "      <td>Coastal Storm</td>\n",
       "      <td>1972-03-18T00:00:00Z</td>\n",
       "      <td>1972-03-18T00:00:00Z</td>\n",
       "    </tr>\n",
       "    <tr>\n",
       "      <th>2247</th>\n",
       "      <td>Coastal Storm</td>\n",
       "      <td>1972-06-23T00:00:00Z</td>\n",
       "      <td>1972-06-23T00:00:00Z</td>\n",
       "    </tr>\n",
       "    <tr>\n",
       "      <th>2248</th>\n",
       "      <td>Coastal Storm</td>\n",
       "      <td>1972-06-23T00:00:00Z</td>\n",
       "      <td>1972-06-23T00:00:00Z</td>\n",
       "    </tr>\n",
       "    <tr>\n",
       "      <th>2249</th>\n",
       "      <td>Coastal Storm</td>\n",
       "      <td>1972-06-23T00:00:00Z</td>\n",
       "      <td>1972-06-23T00:00:00Z</td>\n",
       "    </tr>\n",
       "    <tr>\n",
       "      <th>2250</th>\n",
       "      <td>Coastal Storm</td>\n",
       "      <td>1972-06-23T00:00:00Z</td>\n",
       "      <td>1972-06-23T00:00:00Z</td>\n",
       "    </tr>\n",
       "    <tr>\n",
       "      <th>...</th>\n",
       "      <td>...</td>\n",
       "      <td>...</td>\n",
       "      <td>...</td>\n",
       "    </tr>\n",
       "    <tr>\n",
       "      <th>62542</th>\n",
       "      <td>Coastal Storm</td>\n",
       "      <td>2021-09-12T12:00:00Z</td>\n",
       "      <td>2021-09-18T23:00:00Z</td>\n",
       "    </tr>\n",
       "    <tr>\n",
       "      <th>62543</th>\n",
       "      <td>Coastal Storm</td>\n",
       "      <td>2021-09-12T12:00:00Z</td>\n",
       "      <td>2021-09-18T23:00:00Z</td>\n",
       "    </tr>\n",
       "    <tr>\n",
       "      <th>62544</th>\n",
       "      <td>Coastal Storm</td>\n",
       "      <td>2021-09-12T12:00:00Z</td>\n",
       "      <td>2021-09-18T23:00:00Z</td>\n",
       "    </tr>\n",
       "    <tr>\n",
       "      <th>62545</th>\n",
       "      <td>Coastal Storm</td>\n",
       "      <td>2021-09-12T12:00:00Z</td>\n",
       "      <td>2021-09-18T23:00:00Z</td>\n",
       "    </tr>\n",
       "    <tr>\n",
       "      <th>62546</th>\n",
       "      <td>Coastal Storm</td>\n",
       "      <td>2021-09-12T12:00:00Z</td>\n",
       "      <td>2021-09-18T23:00:00Z</td>\n",
       "    </tr>\n",
       "  </tbody>\n",
       "</table>\n",
       "<p>635 rows × 3 columns</p>\n",
       "</div>"
      ],
      "text/plain": [
       "       incident_type   incident_begin_date     incident_end_date\n",
       "2197   Coastal Storm  1972-03-18T00:00:00Z  1972-03-18T00:00:00Z\n",
       "2247   Coastal Storm  1972-06-23T00:00:00Z  1972-06-23T00:00:00Z\n",
       "2248   Coastal Storm  1972-06-23T00:00:00Z  1972-06-23T00:00:00Z\n",
       "2249   Coastal Storm  1972-06-23T00:00:00Z  1972-06-23T00:00:00Z\n",
       "2250   Coastal Storm  1972-06-23T00:00:00Z  1972-06-23T00:00:00Z\n",
       "...              ...                   ...                   ...\n",
       "62542  Coastal Storm  2021-09-12T12:00:00Z  2021-09-18T23:00:00Z\n",
       "62543  Coastal Storm  2021-09-12T12:00:00Z  2021-09-18T23:00:00Z\n",
       "62544  Coastal Storm  2021-09-12T12:00:00Z  2021-09-18T23:00:00Z\n",
       "62545  Coastal Storm  2021-09-12T12:00:00Z  2021-09-18T23:00:00Z\n",
       "62546  Coastal Storm  2021-09-12T12:00:00Z  2021-09-18T23:00:00Z\n",
       "\n",
       "[635 rows x 3 columns]"
      ]
     },
     "metadata": {},
     "output_type": "display_data"
    }
   ],
   "source": [
    "coastal_rows  = Ndis_df.loc[(Ndis_df['incident_type']=='Coastal Storm') ]\n",
    "display(coastal_rows[['incident_type','incident_begin_date','incident_end_date']])\n"
   ]
  },
  {
   "cell_type": "markdown",
   "id": "45a5fade",
   "metadata": {},
   "source": [
    "handling missing values of Severe Storm Incident type"
   ]
  },
  {
   "cell_type": "code",
   "execution_count": 23,
   "id": "e6e963e0",
   "metadata": {
    "scrolled": false
   },
   "outputs": [
    {
     "data": {
      "text/html": [
       "<div>\n",
       "<style scoped>\n",
       "    .dataframe tbody tr th:only-of-type {\n",
       "        vertical-align: middle;\n",
       "    }\n",
       "\n",
       "    .dataframe tbody tr th {\n",
       "        vertical-align: top;\n",
       "    }\n",
       "\n",
       "    .dataframe thead th {\n",
       "        text-align: right;\n",
       "    }\n",
       "</style>\n",
       "<table border=\"1\" class=\"dataframe\">\n",
       "  <thead>\n",
       "    <tr style=\"text-align: right;\">\n",
       "      <th></th>\n",
       "      <th>incident_type</th>\n",
       "      <th>incident_begin_date</th>\n",
       "      <th>incident_end_date</th>\n",
       "    </tr>\n",
       "  </thead>\n",
       "  <tbody>\n",
       "    <tr>\n",
       "      <th>54</th>\n",
       "      <td>Severe Storm(s)</td>\n",
       "      <td>1956-04-24T00:00:00Z</td>\n",
       "      <td>1956-04-24T00:00:00Z</td>\n",
       "    </tr>\n",
       "    <tr>\n",
       "      <th>56</th>\n",
       "      <td>Severe Storm(s)</td>\n",
       "      <td>1956-05-21T00:00:00Z</td>\n",
       "      <td>1956-05-21T00:00:00Z</td>\n",
       "    </tr>\n",
       "    <tr>\n",
       "      <th>59</th>\n",
       "      <td>Severe Storm(s)</td>\n",
       "      <td>1956-08-09T00:00:00Z</td>\n",
       "      <td>1956-08-09T00:00:00Z</td>\n",
       "    </tr>\n",
       "    <tr>\n",
       "      <th>101</th>\n",
       "      <td>Severe Storm(s)</td>\n",
       "      <td>1960-07-15T00:00:00Z</td>\n",
       "      <td>1960-07-15T00:00:00Z</td>\n",
       "    </tr>\n",
       "    <tr>\n",
       "      <th>102</th>\n",
       "      <td>Severe Storm(s)</td>\n",
       "      <td>1960-07-15T00:00:00Z</td>\n",
       "      <td>1960-07-15T00:00:00Z</td>\n",
       "    </tr>\n",
       "    <tr>\n",
       "      <th>...</th>\n",
       "      <td>...</td>\n",
       "      <td>...</td>\n",
       "      <td>...</td>\n",
       "    </tr>\n",
       "    <tr>\n",
       "      <th>62751</th>\n",
       "      <td>Severe Storm(s)</td>\n",
       "      <td>2021-12-10T18:00:00Z</td>\n",
       "      <td>2021-12-10T23:59:00Z</td>\n",
       "    </tr>\n",
       "    <tr>\n",
       "      <th>62752</th>\n",
       "      <td>Severe Storm(s)</td>\n",
       "      <td>2021-12-10T18:00:00Z</td>\n",
       "      <td>2021-12-10T23:59:00Z</td>\n",
       "    </tr>\n",
       "    <tr>\n",
       "      <th>62753</th>\n",
       "      <td>Severe Storm(s)</td>\n",
       "      <td>2021-12-10T18:00:00Z</td>\n",
       "      <td>2021-12-10T23:59:00Z</td>\n",
       "    </tr>\n",
       "    <tr>\n",
       "      <th>62754</th>\n",
       "      <td>Severe Storm(s)</td>\n",
       "      <td>2021-12-10T18:00:00Z</td>\n",
       "      <td>2021-12-10T23:59:00Z</td>\n",
       "    </tr>\n",
       "    <tr>\n",
       "      <th>62770</th>\n",
       "      <td>Severe Storm(s)</td>\n",
       "      <td>2021-10-29T00:01:00Z</td>\n",
       "      <td>2021-11-01T00:00:00Z</td>\n",
       "    </tr>\n",
       "  </tbody>\n",
       "</table>\n",
       "<p>17127 rows × 3 columns</p>\n",
       "</div>"
      ],
      "text/plain": [
       "         incident_type   incident_begin_date     incident_end_date\n",
       "54     Severe Storm(s)  1956-04-24T00:00:00Z  1956-04-24T00:00:00Z\n",
       "56     Severe Storm(s)  1956-05-21T00:00:00Z  1956-05-21T00:00:00Z\n",
       "59     Severe Storm(s)  1956-08-09T00:00:00Z  1956-08-09T00:00:00Z\n",
       "101    Severe Storm(s)  1960-07-15T00:00:00Z  1960-07-15T00:00:00Z\n",
       "102    Severe Storm(s)  1960-07-15T00:00:00Z  1960-07-15T00:00:00Z\n",
       "...                ...                   ...                   ...\n",
       "62751  Severe Storm(s)  2021-12-10T18:00:00Z  2021-12-10T23:59:00Z\n",
       "62752  Severe Storm(s)  2021-12-10T18:00:00Z  2021-12-10T23:59:00Z\n",
       "62753  Severe Storm(s)  2021-12-10T18:00:00Z  2021-12-10T23:59:00Z\n",
       "62754  Severe Storm(s)  2021-12-10T18:00:00Z  2021-12-10T23:59:00Z\n",
       "62770  Severe Storm(s)  2021-10-29T00:01:00Z  2021-11-01T00:00:00Z\n",
       "\n",
       "[17127 rows x 3 columns]"
      ]
     },
     "metadata": {},
     "output_type": "display_data"
    }
   ],
   "source": [
    "storm_rows  = Ndis_df.loc[(Ndis_df['incident_type']=='Severe Storm(s)') ]\n",
    "display(storm_rows[['incident_type','incident_begin_date','incident_end_date']])"
   ]
  },
  {
   "cell_type": "markdown",
   "id": "f79ca641",
   "metadata": {},
   "source": [
    "handling missing values of Hurricane Incident type"
   ]
  },
  {
   "cell_type": "code",
   "execution_count": 24,
   "id": "c97dcff2",
   "metadata": {},
   "outputs": [
    {
     "data": {
      "text/html": [
       "<div>\n",
       "<style scoped>\n",
       "    .dataframe tbody tr th:only-of-type {\n",
       "        vertical-align: middle;\n",
       "    }\n",
       "\n",
       "    .dataframe tbody tr th {\n",
       "        vertical-align: top;\n",
       "    }\n",
       "\n",
       "    .dataframe thead th {\n",
       "        text-align: right;\n",
       "    }\n",
       "</style>\n",
       "<table border=\"1\" class=\"dataframe\">\n",
       "  <thead>\n",
       "    <tr style=\"text-align: right;\">\n",
       "      <th></th>\n",
       "      <th>incident_type</th>\n",
       "      <th>incident_begin_date</th>\n",
       "      <th>incident_end_date</th>\n",
       "    </tr>\n",
       "  </thead>\n",
       "  <tbody>\n",
       "    <tr>\n",
       "      <th>20</th>\n",
       "      <td>Hurricane</td>\n",
       "      <td>1954-09-02T00:00:00Z</td>\n",
       "      <td>1954-09-02T00:00:00Z</td>\n",
       "    </tr>\n",
       "    <tr>\n",
       "      <th>21</th>\n",
       "      <td>Hurricane</td>\n",
       "      <td>1954-09-02T00:00:00Z</td>\n",
       "      <td>1954-09-02T00:00:00Z</td>\n",
       "    </tr>\n",
       "    <tr>\n",
       "      <th>22</th>\n",
       "      <td>Hurricane</td>\n",
       "      <td>1954-09-13T00:00:00Z</td>\n",
       "      <td>1954-09-13T00:00:00Z</td>\n",
       "    </tr>\n",
       "    <tr>\n",
       "      <th>23</th>\n",
       "      <td>Hurricane</td>\n",
       "      <td>1954-09-17T00:00:00Z</td>\n",
       "      <td>1954-09-17T00:00:00Z</td>\n",
       "    </tr>\n",
       "    <tr>\n",
       "      <th>24</th>\n",
       "      <td>Hurricane</td>\n",
       "      <td>1954-10-07T00:00:00Z</td>\n",
       "      <td>1954-10-07T00:00:00Z</td>\n",
       "    </tr>\n",
       "    <tr>\n",
       "      <th>...</th>\n",
       "      <td>...</td>\n",
       "      <td>...</td>\n",
       "      <td>...</td>\n",
       "    </tr>\n",
       "    <tr>\n",
       "      <th>62653</th>\n",
       "      <td>Hurricane</td>\n",
       "      <td>2021-09-01T08:00:00Z</td>\n",
       "      <td>2021-09-02T23:59:00Z</td>\n",
       "    </tr>\n",
       "    <tr>\n",
       "      <th>62654</th>\n",
       "      <td>Hurricane</td>\n",
       "      <td>2021-09-01T08:00:00Z</td>\n",
       "      <td>2021-09-02T23:59:00Z</td>\n",
       "    </tr>\n",
       "    <tr>\n",
       "      <th>62655</th>\n",
       "      <td>Hurricane</td>\n",
       "      <td>2021-09-01T08:00:00Z</td>\n",
       "      <td>2021-09-02T23:59:00Z</td>\n",
       "    </tr>\n",
       "    <tr>\n",
       "      <th>62656</th>\n",
       "      <td>Hurricane</td>\n",
       "      <td>2021-09-01T08:00:00Z</td>\n",
       "      <td>2021-09-02T23:59:00Z</td>\n",
       "    </tr>\n",
       "    <tr>\n",
       "      <th>62657</th>\n",
       "      <td>Hurricane</td>\n",
       "      <td>2021-09-01T08:00:00Z</td>\n",
       "      <td>2021-09-02T23:59:00Z</td>\n",
       "    </tr>\n",
       "  </tbody>\n",
       "</table>\n",
       "<p>12490 rows × 3 columns</p>\n",
       "</div>"
      ],
      "text/plain": [
       "      incident_type   incident_begin_date     incident_end_date\n",
       "20        Hurricane  1954-09-02T00:00:00Z  1954-09-02T00:00:00Z\n",
       "21        Hurricane  1954-09-02T00:00:00Z  1954-09-02T00:00:00Z\n",
       "22        Hurricane  1954-09-13T00:00:00Z  1954-09-13T00:00:00Z\n",
       "23        Hurricane  1954-09-17T00:00:00Z  1954-09-17T00:00:00Z\n",
       "24        Hurricane  1954-10-07T00:00:00Z  1954-10-07T00:00:00Z\n",
       "...             ...                   ...                   ...\n",
       "62653     Hurricane  2021-09-01T08:00:00Z  2021-09-02T23:59:00Z\n",
       "62654     Hurricane  2021-09-01T08:00:00Z  2021-09-02T23:59:00Z\n",
       "62655     Hurricane  2021-09-01T08:00:00Z  2021-09-02T23:59:00Z\n",
       "62656     Hurricane  2021-09-01T08:00:00Z  2021-09-02T23:59:00Z\n",
       "62657     Hurricane  2021-09-01T08:00:00Z  2021-09-02T23:59:00Z\n",
       "\n",
       "[12490 rows x 3 columns]"
      ]
     },
     "metadata": {},
     "output_type": "display_data"
    }
   ],
   "source": [
    "hurricane_rows  = Ndis_df.loc[(Ndis_df['incident_type']=='Hurricane') ]\n",
    "display(hurricane_rows[['incident_type','incident_begin_date','incident_end_date']])"
   ]
  },
  {
   "cell_type": "markdown",
   "id": "1ebbb6dd",
   "metadata": {},
   "source": [
    "data shows incident_begin_date and incident_end_date are same in case of Coastal Storm, Hurricane and Severe Storm(s). \n",
    "So replace the null value in incident_end_date with incident_begin_date."
   ]
  },
  {
   "cell_type": "code",
   "execution_count": 25,
   "id": "f1846d67",
   "metadata": {},
   "outputs": [],
   "source": [
    "value_replace=['Coastal Storm','Hurricane','Severe Storm(s)']\n",
    "for i in value_replace:\n",
    "    Ndis_df['incident_end_date'] = np.where(((Ndis_df['incident_type']==i) & (Ndis_df['incident_end_date'].isna())),Ndis_df['incident_begin_date'], Ndis_df['incident_end_date'])\n"
   ]
  },
  {
   "cell_type": "code",
   "execution_count": 26,
   "id": "988db339",
   "metadata": {},
   "outputs": [
    {
     "data": {
      "text/html": [
       "<div>\n",
       "<style scoped>\n",
       "    .dataframe tbody tr th:only-of-type {\n",
       "        vertical-align: middle;\n",
       "    }\n",
       "\n",
       "    .dataframe tbody tr th {\n",
       "        vertical-align: top;\n",
       "    }\n",
       "\n",
       "    .dataframe thead th {\n",
       "        text-align: right;\n",
       "    }\n",
       "</style>\n",
       "<table border=\"1\" class=\"dataframe\">\n",
       "  <thead>\n",
       "    <tr style=\"text-align: right;\">\n",
       "      <th></th>\n",
       "      <th>incident_type</th>\n",
       "      <th>incident_begin_date</th>\n",
       "      <th>incident_end_date</th>\n",
       "    </tr>\n",
       "  </thead>\n",
       "  <tbody>\n",
       "    <tr>\n",
       "      <th>40428</th>\n",
       "      <td>Fire</td>\n",
       "      <td>2011-04-06T00:00:00Z</td>\n",
       "      <td>2011-08-29T00:00:00Z</td>\n",
       "    </tr>\n",
       "    <tr>\n",
       "      <th>31242</th>\n",
       "      <td>Fire</td>\n",
       "      <td>2005-11-27T00:00:00Z</td>\n",
       "      <td>2006-05-14T18:18:00Z</td>\n",
       "    </tr>\n",
       "    <tr>\n",
       "      <th>31314</th>\n",
       "      <td>Fire</td>\n",
       "      <td>2005-11-27T00:00:00Z</td>\n",
       "      <td>2006-05-14T18:18:00Z</td>\n",
       "    </tr>\n",
       "    <tr>\n",
       "      <th>41415</th>\n",
       "      <td>Fire</td>\n",
       "      <td>2011-08-30T00:00:00Z</td>\n",
       "      <td>2011-12-31T00:00:00Z</td>\n",
       "    </tr>\n",
       "    <tr>\n",
       "      <th>20340</th>\n",
       "      <td>Fire</td>\n",
       "      <td>2000-07-13T00:00:00Z</td>\n",
       "      <td>2000-09-25T00:00:00Z</td>\n",
       "    </tr>\n",
       "    <tr>\n",
       "      <th>25182</th>\n",
       "      <td>Fire</td>\n",
       "      <td>2004-07-13T17:14:00Z</td>\n",
       "      <td>2004-07-17T00:00:00Z</td>\n",
       "    </tr>\n",
       "    <tr>\n",
       "      <th>21836</th>\n",
       "      <td>Fire</td>\n",
       "      <td>2001-11-16T00:00:00Z</td>\n",
       "      <td>2001-11-30T10:00:00Z</td>\n",
       "    </tr>\n",
       "    <tr>\n",
       "      <th>18914</th>\n",
       "      <td>Fire</td>\n",
       "      <td>1999-08-01T12:00:00Z</td>\n",
       "      <td>1999-12-10T00:00:00Z</td>\n",
       "    </tr>\n",
       "    <tr>\n",
       "      <th>25178</th>\n",
       "      <td>Fire</td>\n",
       "      <td>2004-07-03T21:00:00Z</td>\n",
       "      <td>2004-07-11T00:00:00Z</td>\n",
       "    </tr>\n",
       "    <tr>\n",
       "      <th>33956</th>\n",
       "      <td>Fire</td>\n",
       "      <td>2008-03-14T00:00:00Z</td>\n",
       "      <td>2008-09-01T00:00:00Z</td>\n",
       "    </tr>\n",
       "    <tr>\n",
       "      <th>17289</th>\n",
       "      <td>Fire</td>\n",
       "      <td>1998-05-25T00:00:00Z</td>\n",
       "      <td>1998-07-22T00:00:00Z</td>\n",
       "    </tr>\n",
       "    <tr>\n",
       "      <th>15071</th>\n",
       "      <td>Fire</td>\n",
       "      <td>1996-03-12T00:00:00Z</td>\n",
       "      <td>1996-03-12T00:00:00Z</td>\n",
       "    </tr>\n",
       "    <tr>\n",
       "      <th>41381</th>\n",
       "      <td>Fire</td>\n",
       "      <td>2011-08-30T00:00:00Z</td>\n",
       "      <td>2011-12-31T00:00:00Z</td>\n",
       "    </tr>\n",
       "    <tr>\n",
       "      <th>60327</th>\n",
       "      <td>Fire</td>\n",
       "      <td>2020-09-07T00:00:00Z</td>\n",
       "      <td>2020-11-03T23:59:00Z</td>\n",
       "    </tr>\n",
       "    <tr>\n",
       "      <th>48188</th>\n",
       "      <td>Fire</td>\n",
       "      <td>2017-12-05T12:32:00Z</td>\n",
       "      <td>2017-12-14T23:59:00Z</td>\n",
       "    </tr>\n",
       "  </tbody>\n",
       "</table>\n",
       "</div>"
      ],
      "text/plain": [
       "      incident_type   incident_begin_date     incident_end_date\n",
       "40428          Fire  2011-04-06T00:00:00Z  2011-08-29T00:00:00Z\n",
       "31242          Fire  2005-11-27T00:00:00Z  2006-05-14T18:18:00Z\n",
       "31314          Fire  2005-11-27T00:00:00Z  2006-05-14T18:18:00Z\n",
       "41415          Fire  2011-08-30T00:00:00Z  2011-12-31T00:00:00Z\n",
       "20340          Fire  2000-07-13T00:00:00Z  2000-09-25T00:00:00Z\n",
       "25182          Fire  2004-07-13T17:14:00Z  2004-07-17T00:00:00Z\n",
       "21836          Fire  2001-11-16T00:00:00Z  2001-11-30T10:00:00Z\n",
       "18914          Fire  1999-08-01T12:00:00Z  1999-12-10T00:00:00Z\n",
       "25178          Fire  2004-07-03T21:00:00Z  2004-07-11T00:00:00Z\n",
       "33956          Fire  2008-03-14T00:00:00Z  2008-09-01T00:00:00Z\n",
       "17289          Fire  1998-05-25T00:00:00Z  1998-07-22T00:00:00Z\n",
       "15071          Fire  1996-03-12T00:00:00Z  1996-03-12T00:00:00Z\n",
       "41381          Fire  2011-08-30T00:00:00Z  2011-12-31T00:00:00Z\n",
       "60327          Fire  2020-09-07T00:00:00Z  2020-11-03T23:59:00Z\n",
       "48188          Fire  2017-12-05T12:32:00Z  2017-12-14T23:59:00Z"
      ]
     },
     "execution_count": 26,
     "metadata": {},
     "output_type": "execute_result"
    }
   ],
   "source": [
    "fire_rows  = Ndis_df.loc[(Ndis_df['incident_type']=='Fire') ]\n",
    "new=fire_rows[['incident_type','incident_begin_date','incident_end_date']]\n",
    "new.sample(n=15)"
   ]
  },
  {
   "cell_type": "markdown",
   "id": "fb9de18e",
   "metadata": {},
   "source": [
    "the dates cannot be assumed . So the rows of category 'Fire' with null values can be removed."
   ]
  },
  {
   "cell_type": "code",
   "execution_count": 27,
   "id": "12c62b25",
   "metadata": {},
   "outputs": [
    {
     "data": {
      "text/plain": [
       "(54451, 21)"
      ]
     },
     "execution_count": 27,
     "metadata": {},
     "output_type": "execute_result"
    }
   ],
   "source": [
    "indexes = Ndis_df.loc[(Ndis_df['incident_type']=='Fire') & (Ndis_df['incident_end_date'].isna())].index\n",
    "Ndis_df.drop(indexes,inplace=True)\n",
    "Ndis_df.shape"
   ]
  },
  {
   "cell_type": "code",
   "execution_count": 28,
   "id": "21e0f26d",
   "metadata": {},
   "outputs": [
    {
     "data": {
      "text/plain": [
       "fema_declaration_string       0\n",
       "disaster_number               0\n",
       "state                         0\n",
       "declaration_type              0\n",
       "declaration_date              0\n",
       "fy_declared                   0\n",
       "incident_type                 0\n",
       "declaration_title             0\n",
       "ih_program_declared           0\n",
       "ia_program_declared           0\n",
       "pa_program_declared           0\n",
       "hm_program_declared           0\n",
       "incident_begin_date           0\n",
       "incident_end_date             0\n",
       "fips                          0\n",
       "place_code                    0\n",
       "designated_area               0\n",
       "declaration_request_number    0\n",
       "hash                          0\n",
       "last_refresh                  0\n",
       "id                            0\n",
       "dtype: int64"
      ]
     },
     "execution_count": 28,
     "metadata": {},
     "output_type": "execute_result"
    }
   ],
   "source": [
    "Ndis_df.isnull().sum()"
   ]
  },
  {
   "cell_type": "markdown",
   "id": "472a2e3a",
   "metadata": {},
   "source": [
    "## Outlier Detection and Handling"
   ]
  },
  {
   "cell_type": "code",
   "execution_count": 29,
   "id": "3c1292eb",
   "metadata": {
    "scrolled": true
   },
   "outputs": [
    {
     "data": {
      "text/plain": [
       "<AxesSubplot:xlabel='disaster_number'>"
      ]
     },
     "execution_count": 29,
     "metadata": {},
     "output_type": "execute_result"
    },
    {
     "data": {
      "image/png": "[encoded data removed]",
      "text/plain": [
       "<Figure size 432x288 with 1 Axes>"
      ]
     },
     "metadata": {
      "needs_background": "light"
     },
     "output_type": "display_data"
    }
   ],
   "source": [
    "sns.boxplot(Ndis_df['disaster_number'])"
   ]
  },
  {
   "cell_type": "code",
   "execution_count": 30,
   "id": "8490fa19",
   "metadata": {},
   "outputs": [
    {
     "data": {
      "text/plain": [
       "<AxesSubplot:xlabel='fips'>"
      ]
     },
     "execution_count": 30,
     "metadata": {},
     "output_type": "execute_result"
    },
    {
     "data": {
      "image/png": "[encoded data removed]",
      "text/plain": [
       "<Figure size 432x288 with 1 Axes>"
      ]
     },
     "metadata": {
      "needs_background": "light"
     },
     "output_type": "display_data"
    }
   ],
   "source": [
    "sns.boxplot(Ndis_df['fips'])"
   ]
  },
  {
   "cell_type": "code",
   "execution_count": 31,
   "id": "bbc77785",
   "metadata": {},
   "outputs": [
    {
     "data": {
      "text/plain": [
       "<AxesSubplot:xlabel='declaration_request_number'>"
      ]
     },
     "execution_count": 31,
     "metadata": {},
     "output_type": "execute_result"
    },
    {
     "data": {
      "image/png": "[encoded data removed]",
      "text/plain": [
       "<Figure size 432x288 with 1 Axes>"
      ]
     },
     "metadata": {
      "needs_background": "light"
     },
     "output_type": "display_data"
    }
   ],
   "source": [
    "sns.boxplot(Ndis_df['declaration_request_number'])"
   ]
  },
  {
   "cell_type": "code",
   "execution_count": 32,
   "id": "7dbc7201",
   "metadata": {
    "scrolled": true
   },
   "outputs": [
    {
     "data": {
      "text/plain": [
       "<AxesSubplot:xlabel='fy_declared'>"
      ]
     },
     "execution_count": 32,
     "metadata": {},
     "output_type": "execute_result"
    },
    {
     "data": {
      "image/png": "[encoded data removed]",
      "text/plain": [
       "<Figure size 432x288 with 1 Axes>"
      ]
     },
     "metadata": {
      "needs_background": "light"
     },
     "output_type": "display_data"
    }
   ],
   "source": [
    "sns.boxplot(Ndis_df['fy_declared'])"
   ]
  },
  {
   "cell_type": "code",
   "execution_count": 33,
   "id": "d6eedf43",
   "metadata": {},
   "outputs": [
    {
     "name": "stdout",
     "output_type": "stream",
     "text": [
      "1971.0\n",
      "2035.0\n",
      "1853 outliers found in the fy_declared values\n"
     ]
    }
   ],
   "source": [
    "Q1=np.percentile(Ndis_df['fy_declared'],25,interpolation=\"midpoint\")\n",
    "Q3=np.percentile(Ndis_df['fy_declared'],75,interpolation=\"midpoint\")\n",
    "IQR=Q3-Q1\n",
    "low_lim=Q1-1.5*IQR\n",
    "up_lim=Q3+1.5*IQR\n",
    "print(low_lim)\n",
    "print(up_lim)\n",
    "\n",
    "outlier=[]\n",
    "for x in Ndis_df['fy_declared']:\n",
    "    if(x>up_lim)or(x<low_lim):\n",
    "        outlier.append(x)\n",
    "print(len(outlier), \"outliers found in the fy_declared values\")"
   ]
  },
  {
   "cell_type": "code",
   "execution_count": 34,
   "id": "c3607642",
   "metadata": {},
   "outputs": [
    {
     "data": {
      "text/plain": [
       "Text(0.5, 1.0, \"Boxplot of the 'fy_declared' values after treating the outliers\")"
      ]
     },
     "execution_count": 34,
     "metadata": {},
     "output_type": "execute_result"
    },
    {
     "data": {
      "image/png": "[encoded data removed]",
      "text/plain": [
       "<Figure size 432x288 with 1 Axes>"
      ]
     },
     "metadata": {
      "needs_background": "light"
     },
     "output_type": "display_data"
    }
   ],
   "source": [
    "# Computing 10th percentiles and replacing the outliers\n",
    "tenth_percentile = int(np.percentile(Ndis_df['fy_declared'], 10))\n",
    "\n",
    "# the values below 10th percentile are replaced with 10th percentile value\n",
    "Ndis_df['fy_declared'] = np.where(Ndis_df['fy_declared']<tenth_percentile, tenth_percentile, Ndis_df['fy_declared'])\n",
    "\n",
    "sns.boxplot(Ndis_df['fy_declared'])\n",
    "plt.title(\"Boxplot of the 'fy_declared' values after treating the outliers\")"
   ]
  },
  {
   "cell_type": "code",
   "execution_count": 35,
   "id": "ab53596e",
   "metadata": {},
   "outputs": [
    {
     "data": {
      "text/plain": [
       "<AxesSubplot:xlabel='place_code'>"
      ]
     },
     "execution_count": 35,
     "metadata": {},
     "output_type": "execute_result"
    },
    {
     "data": {
      "image/png": "[encoded data removed]",
      "text/plain": [
       "<Figure size 432x288 with 1 Axes>"
      ]
     },
     "metadata": {
      "needs_background": "light"
     },
     "output_type": "display_data"
    }
   ],
   "source": [
    "sns.boxplot(Ndis_df['place_code'])"
   ]
  },
  {
   "cell_type": "code",
   "execution_count": 36,
   "id": "074552ef",
   "metadata": {},
   "outputs": [
    {
     "name": "stdout",
     "output_type": "stream",
     "text": [
      "98890.0\n",
      "99266.0\n"
     ]
    }
   ],
   "source": [
    "Q1=np.percentile(Ndis_df['place_code'],25,interpolation=\"midpoint\")\n",
    "Q3=np.percentile(Ndis_df['place_code'],75,interpolation=\"midpoint\")\n",
    "IQR=Q3-Q1\n",
    "low_lim=Q1-1.5*IQR\n",
    "up_lim=Q3+1.5*IQR\n",
    "print(low_lim)\n",
    "print(up_lim)\n"
   ]
  },
  {
   "cell_type": "code",
   "execution_count": 37,
   "id": "4aa8f3c2",
   "metadata": {},
   "outputs": [
    {
     "name": "stdout",
     "output_type": "stream",
     "text": [
      "4016 outliers found in the fy_declared values\n"
     ]
    }
   ],
   "source": [
    "outlier=[]\n",
    "for x in Ndis_df['place_code']:\n",
    "    if(x>up_lim)or(x<low_lim):\n",
    "        outlier.append(x)\n",
    "print(len(outlier), \"outliers found in the fy_declared values\")"
   ]
  },
  {
   "cell_type": "code",
   "execution_count": 38,
   "id": "a27ce98d",
   "metadata": {},
   "outputs": [
    {
     "data": {
      "text/plain": [
       "Text(0.5, 1.0, \"Boxplot of the 'place_code' values after treating the outliers\")"
      ]
     },
     "execution_count": 38,
     "metadata": {},
     "output_type": "execute_result"
    },
    {
     "data": {
      "image/png": "[encoded data removed]",
      "text/plain": [
       "<Figure size 432x288 with 1 Axes>"
      ]
     },
     "metadata": {
      "needs_background": "light"
     },
     "output_type": "display_data"
    }
   ],
   "source": [
    "# Computing 10th ,90th percentiles and replacing the outliers\n",
    "tenth_percentile = int(np.percentile(Ndis_df['place_code'], 10))\n",
    "ninetieth_percentile = int(np.percentile(Ndis_df['place_code'], 90))\n",
    "\n",
    "# the values above 90th percentile are replaced with 90th percentile value\n",
    "Ndis_df['place_code'] = np.where(Ndis_df['place_code']<tenth_percentile, tenth_percentile, Ndis_df['place_code'])\n",
    "Ndis_df['place_code'] = np.where(Ndis_df['place_code']>ninetieth_percentile, ninetieth_percentile, Ndis_df['place_code'])\n",
    "\n",
    "sns.boxplot(Ndis_df['place_code'])\n",
    "plt.title(\"Boxplot of the 'place_code' values after treating the outliers\")"
   ]
  },
  {
   "cell_type": "markdown",
   "id": "e78781be",
   "metadata": {},
   "source": [
    "## ENCODING"
   ]
  },
  {
   "cell_type": "markdown",
   "id": "a36bbb79",
   "metadata": {},
   "source": [
    "Ordinal Encoding for state, declaration_type ,incident_type ,declaration_title,"
   ]
  },
  {
   "cell_type": "code",
   "execution_count": 45,
   "id": "7db6ce12",
   "metadata": {},
   "outputs": [],
   "source": [
    "from numpy import asarray\n",
    "from sklearn.preprocessing import OrdinalEncoder\n",
    "\n",
    "columns_to_be_encoded = [ 'state' ,'incident_type' ,'declaration_title','declaration_type']\n",
    "\n",
    "for column in columns_to_be_encoded:\n",
    "    # Create Ordinal encoder\n",
    "    encoder = OrdinalEncoder()\n",
    "    get_column = Ndis_df[column]\n",
    "    reshaped_vals = get_column.values.reshape(-1, 1)\n",
    "    # Ordinally encode reshaped_vals\n",
    "    Ndis_df[column] = encoder.fit_transform(reshaped_vals)\n"
   ]
  },
  {
   "cell_type": "code",
   "execution_count": 40,
   "id": "3a9e5fbe",
   "metadata": {},
   "outputs": [
    {
     "data": {
      "text/plain": [
       "1941"
      ]
     },
     "metadata": {},
     "output_type": "display_data"
    }
   ],
   "source": [
    "display(Ndis_df['declaration_title'].nunique())"
   ]
  },
  {
   "cell_type": "code",
   "execution_count": 41,
   "id": "365295bf",
   "metadata": {},
   "outputs": [
    {
     "data": {
      "text/plain": [
       "array([17.,  7.,  5., 12.,  4., 10., 21., 14., 18., 20.,  3.,  2., 15.,\n",
       "       13.,  8.,  1.,  6., 11.,  9., 16., 19.,  0.])"
      ]
     },
     "metadata": {},
     "output_type": "display_data"
    }
   ],
   "source": [
    "display(Ndis_df['incident_type'].unique())"
   ]
  },
  {
   "cell_type": "code",
   "execution_count": 46,
   "id": "c3071a3f",
   "metadata": {},
   "outputs": [
    {
     "data": {
      "text/plain": [
       "array([0., 2., 1.])"
      ]
     },
     "metadata": {},
     "output_type": "display_data"
    }
   ],
   "source": [
    "display(Ndis_df['declaration_type'].unique())"
   ]
  },
  {
   "cell_type": "code",
   "execution_count": null,
   "id": "021e7eb3",
   "metadata": {},
   "outputs": [],
   "source": []
  }
 ],
 "metadata": {
  "kernelspec": {
   "display_name": "Python 3 (ipykernel)",
   "language": "python",
   "name": "python3"
  },
  "language_info": {
   "codemirror_mode": {
    "name": "ipython",
    "version": 3
   },
   "file_extension": ".py",
   "mimetype": "text/x-python",
   "name": "python",
   "nbconvert_exporter": "python",
   "pygments_lexer": "ipython3",
   "version": "3.9.7"
  }
 },
 "nbformat": 4,
 "nbformat_minor": 5
}
