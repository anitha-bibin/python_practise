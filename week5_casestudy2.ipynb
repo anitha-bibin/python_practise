{
 "cells": [
  {
   "cell_type": "markdown",
   "id": "a5164952",
   "metadata": {},
   "source": [
    "An Institution wishes to find out their student’s ability in maths, reading and\n",
    "writing skills. The Institution wants to do an exploratory study to check the\n",
    "following information.\n",
    "1. Find out how many males and females participated in the test.\n",
    "2. What do you think about the students' parental level of education?\n",
    "3. Who scores the most on average for math, reading and writing based on\n",
    "● Gender\n",
    "● Test preparation course\n",
    "4. What do you think about the scoring variation for math, reading and writing\n",
    "based on\n",
    "● Gender\n",
    "● Test preparation course\n",
    "5. The management needs your help to give bonus points to the top 25% of\n",
    "students based on their maths score, so how will you help the management\n",
    "to achieve this."
   ]
  },
  {
   "cell_type": "code",
   "execution_count": 1,
   "id": "e3a353e3",
   "metadata": {},
   "outputs": [],
   "source": [
    "import pandas as pd\n",
    "import numpy as np\n",
    "import matplotlib.pyplot as plt\n",
    "import seaborn as sns\n",
    "import statistics\n",
    "import warnings\n",
    "\n",
    "warnings.simplefilter(action='ignore', category=FutureWarning)\n",
    "file_data=pd.read_csv('StudentsPerformance.csv')"
   ]
  },
  {
   "cell_type": "code",
   "execution_count": 2,
   "id": "766431a0",
   "metadata": {},
   "outputs": [
    {
     "data": {
      "text/html": [
       "<div>\n",
       "<style scoped>\n",
       "    .dataframe tbody tr th:only-of-type {\n",
       "        vertical-align: middle;\n",
       "    }\n",
       "\n",
       "    .dataframe tbody tr th {\n",
       "        vertical-align: top;\n",
       "    }\n",
       "\n",
       "    .dataframe thead th {\n",
       "        text-align: right;\n",
       "    }\n",
       "</style>\n",
       "<table border=\"1\" class=\"dataframe\">\n",
       "  <thead>\n",
       "    <tr style=\"text-align: right;\">\n",
       "      <th></th>\n",
       "      <th>gender</th>\n",
       "      <th>race/ethnicity</th>\n",
       "      <th>parental level of education</th>\n",
       "      <th>lunch</th>\n",
       "      <th>test preparation course</th>\n",
       "      <th>math score</th>\n",
       "      <th>reading score</th>\n",
       "      <th>writing score</th>\n",
       "    </tr>\n",
       "  </thead>\n",
       "  <tbody>\n",
       "    <tr>\n",
       "      <th>0</th>\n",
       "      <td>female</td>\n",
       "      <td>group C</td>\n",
       "      <td>some high school</td>\n",
       "      <td>free/reduced</td>\n",
       "      <td>none</td>\n",
       "      <td>0</td>\n",
       "      <td>17</td>\n",
       "      <td>10</td>\n",
       "    </tr>\n",
       "    <tr>\n",
       "      <th>1</th>\n",
       "      <td>female</td>\n",
       "      <td>group B</td>\n",
       "      <td>high school</td>\n",
       "      <td>free/reduced</td>\n",
       "      <td>none</td>\n",
       "      <td>8</td>\n",
       "      <td>24</td>\n",
       "      <td>23</td>\n",
       "    </tr>\n",
       "    <tr>\n",
       "      <th>2</th>\n",
       "      <td>female</td>\n",
       "      <td>group B</td>\n",
       "      <td>some high school</td>\n",
       "      <td>free/reduced</td>\n",
       "      <td>none</td>\n",
       "      <td>18</td>\n",
       "      <td>32</td>\n",
       "      <td>28</td>\n",
       "    </tr>\n",
       "    <tr>\n",
       "      <th>3</th>\n",
       "      <td>female</td>\n",
       "      <td>group B</td>\n",
       "      <td>some college</td>\n",
       "      <td>standard</td>\n",
       "      <td>none</td>\n",
       "      <td>11</td>\n",
       "      <td>38</td>\n",
       "      <td>32</td>\n",
       "    </tr>\n",
       "    <tr>\n",
       "      <th>4</th>\n",
       "      <td>female</td>\n",
       "      <td>group C</td>\n",
       "      <td>some college</td>\n",
       "      <td>free/reduced</td>\n",
       "      <td>none</td>\n",
       "      <td>22</td>\n",
       "      <td>39</td>\n",
       "      <td>33</td>\n",
       "    </tr>\n",
       "  </tbody>\n",
       "</table>\n",
       "</div>"
      ],
      "text/plain": [
       "   gender race/ethnicity parental level of education         lunch  \\\n",
       "0  female        group C            some high school  free/reduced   \n",
       "1  female        group B                 high school  free/reduced   \n",
       "2  female        group B            some high school  free/reduced   \n",
       "3  female        group B                some college      standard   \n",
       "4  female        group C                some college  free/reduced   \n",
       "\n",
       "  test preparation course  math score  reading score  writing score  \n",
       "0                    none           0             17             10  \n",
       "1                    none           8             24             23  \n",
       "2                    none          18             32             28  \n",
       "3                    none          11             38             32  \n",
       "4                    none          22             39             33  "
      ]
     },
     "execution_count": 2,
     "metadata": {},
     "output_type": "execute_result"
    }
   ],
   "source": [
    "file_data.head()"
   ]
  },
  {
   "cell_type": "markdown",
   "id": "f1c5f1e6",
   "metadata": {},
   "source": [
    "# Qn.1. Find out how many males and females participated in the test."
   ]
  },
  {
   "cell_type": "code",
   "execution_count": 3,
   "id": "79139039",
   "metadata": {},
   "outputs": [
    {
     "name": "stdout",
     "output_type": "stream",
     "text": [
      "Female participants = 518 and male participants = 482\n"
     ]
    }
   ],
   "source": [
    "gender_split=file_data.groupby('gender').size()\n",
    "print(\"Female participants =\",gender_split['female'],\"and male participants =\",gender_split['male'])"
   ]
  },
  {
   "cell_type": "markdown",
   "id": "88f9e9bf",
   "metadata": {},
   "source": [
    "# Qn.2. What do you think about the students' parental level of education?"
   ]
  },
  {
   "cell_type": "code",
   "execution_count": 4,
   "id": "298226c6",
   "metadata": {},
   "outputs": [
    {
     "name": "stdout",
     "output_type": "stream",
     "text": [
      "parental level of education\n",
      "some college          226\n",
      "associate's degree    222\n",
      "high school           196\n",
      "some high school      179\n",
      "bachelor's degree     118\n",
      "master's degree        59\n",
      "dtype: int64\n",
      "Most of the students' parents has the education level of : some college and the count is 226\n"
     ]
    }
   ],
   "source": [
    "education_split=file_data.groupby('parental level of education').size().sort_values(ascending=False)\n",
    "print(education_split)\n",
    "print(\"Most of the students' parents has the education level of :\",education_split.nlargest(1).idxmax(),\n",
    "      \"and the count is\",education_split.nlargest().max())\n"
   ]
  },
  {
   "cell_type": "markdown",
   "id": "6c21f2c1",
   "metadata": {},
   "source": [
    "And the picture representation of the count is shown below"
   ]
  },
  {
   "cell_type": "code",
   "execution_count": 5,
   "id": "a31a2986",
   "metadata": {},
   "outputs": [
    {
     "data": {
      "image/png": "[encoded data removed]",
      "text/plain": [
       "<Figure size 576x576 with 1 Axes>"
      ]
     },
     "metadata": {
      "needs_background": "light"
     },
     "output_type": "display_data"
    }
   ],
   "source": [
    "plt.figure(figsize=(8,8))\n",
    "ax=sns.countplot(x = 'parental level of education',\n",
    "              data = file_data,\n",
    "              order = file_data['parental level of education'].value_counts().index)\n",
    "for container in ax.containers:\n",
    "    ax.bar_label(container)\n",
    "plt.title(\" parents education level\")\n",
    "plt.xticks(rotation=90)\n",
    "plt.tight_layout()\n",
    "plt.show()\n"
   ]
  },
  {
   "cell_type": "markdown",
   "id": "bd2ba697",
   "metadata": {},
   "source": [
    "# Qn.3.Who scores the most on average for math, reading and writing based on ● Gender ● Test preparation course"
   ]
  },
  {
   "cell_type": "code",
   "execution_count": 6,
   "id": "f57dc202",
   "metadata": {},
   "outputs": [
    {
     "name": "stdout",
     "output_type": "stream",
     "text": [
      "        math score  reading score  writing score\n",
      "gender                                          \n",
      "female   63.376448      72.590734      72.467181\n",
      "male     68.821577      65.545643      63.446058\n",
      "\n",
      "\n",
      " math score         male\n",
      "reading score    female\n",
      "writing score    female\n",
      "dtype: object\n"
     ]
    }
   ],
   "source": [
    "stu_data=file_data.groupby('gender')['math score','reading score','writing score'].mean()\n",
    "#file_data['math score'][ file_data['gender'] == \"male\" ].mean()\n",
    "print(stu_data)\n",
    "print(\"\\n\\n\",stu_data.idxmax())"
   ]
  },
  {
   "cell_type": "markdown",
   "id": "cfc67ff4",
   "metadata": {},
   "source": [
    "The average scores are shown grouped by gender. \n",
    "\n",
    "above data shows that in Maths, male students scored more and in reading and writing , female students scored more"
   ]
  },
  {
   "cell_type": "code",
   "execution_count": 7,
   "id": "724d0f89",
   "metadata": {
    "scrolled": true
   },
   "outputs": [
    {
     "name": "stdout",
     "output_type": "stream",
     "text": [
      "                         math score  reading score  writing score\n",
      "test preparation course                                          \n",
      "completed                  69.96648      74.175978      74.684358\n",
      "none                       63.78972      66.417445      64.457944\n",
      "\n",
      "\n",
      " math score       completed\n",
      "reading score    completed\n",
      "writing score    completed\n",
      "dtype: object\n"
     ]
    }
   ],
   "source": [
    "stu_data=file_data.groupby('test preparation course')['math score','reading score','writing score'].mean()\n",
    "print(stu_data)\n",
    "print(\"\\n\\n\",stu_data.idxmax())"
   ]
  },
  {
   "cell_type": "markdown",
   "id": "114c5f4b",
   "metadata": {},
   "source": [
    "The average scores are shown grouped by 'test preparation course'. \n",
    "\n",
    "above data shows that in Math , reading and writing , students who completed the test preparation course scored more"
   ]
  },
  {
   "cell_type": "code",
   "execution_count": null,
   "id": "0a7840da",
   "metadata": {},
   "outputs": [],
   "source": []
  },
  {
   "cell_type": "markdown",
   "id": "2015323d",
   "metadata": {},
   "source": [
    "# Qn.4.What do you think about the scoring variation for math, reading and writing based on ● Gender ● Test preparation course\n"
   ]
  },
  {
   "cell_type": "code",
   "execution_count": 8,
   "id": "2adcaf88",
   "metadata": {},
   "outputs": [
    {
     "name": "stdout",
     "output_type": "stream",
     "text": [
      "        math score           \n",
      "               var       mean\n",
      "gender                       \n",
      "female  256.958593  63.376448\n",
      "male    211.889097  68.821577 \n",
      "\n",
      "\n",
      "       reading score           \n",
      "                 var       mean\n",
      "gender                         \n",
      "female    207.677438  72.590734\n",
      "male      200.211010  65.545643 \n",
      "\n",
      "\n",
      "       writing score           \n",
      "                 var       mean\n",
      "gender                         \n",
      "female    220.369327  72.467181\n",
      "male      202.413924  63.446058 \n",
      "\n",
      "\n"
     ]
    }
   ],
   "source": [
    "print(file_data.groupby('gender').agg({'math score': ['var', 'mean']}),\"\\n\\n\")\n",
    "print(file_data.groupby('gender').agg({'reading score': ['var', 'mean']}),\"\\n\\n\")\n",
    "print(file_data.groupby('gender').agg({'writing score': ['var', 'mean']}),\"\\n\\n\")\n",
    "\n",
    "#dataframe = pd.DataFrame(file_data, columns = ['gender', 'math score', 'reading score', 'writing score'])\n",
    "#rslt_df = dataframe.loc[dataframe['gender'] == 'male']\n",
    "#file_data['math score'][ file_data['gender'] == \"male\" ].var()\n",
    "#print(rslt_df['math score'].mean())\n",
    "\n",
    "    "
   ]
  },
  {
   "cell_type": "code",
   "execution_count": 9,
   "id": "efb6d96a",
   "metadata": {},
   "outputs": [
    {
     "name": "stdout",
     "output_type": "stream",
     "text": [
      "                         math score          \n",
      "                                var      mean\n",
      "test preparation course                      \n",
      "completed                210.884027  69.96648\n",
      "none                     246.668662  63.78972 \n",
      "\n",
      "\n",
      "                        reading score           \n",
      "                                  var       mean\n",
      "test preparation course                         \n",
      "completed                  183.265864  74.175978\n",
      "none                       213.419851  66.417445 \n",
      "\n",
      "\n",
      "                        writing score           \n",
      "                                  var       mean\n",
      "test preparation course                         \n",
      "completed                  175.202612  74.684358\n",
      "none                       226.251739  64.457944 \n",
      "\n",
      "\n"
     ]
    }
   ],
   "source": [
    "print(file_data.groupby('test preparation course').agg({'math score': ['var', 'mean']}),\"\\n\\n\")\n",
    "print(file_data.groupby('test preparation course').agg({'reading score': ['var', 'mean']}),\"\\n\\n\")\n",
    "print(file_data.groupby('test preparation course').agg({'writing score': ['var', 'mean']}),\"\\n\\n\")"
   ]
  },
  {
   "cell_type": "markdown",
   "id": "3db7bed5",
   "metadata": {},
   "source": [
    "# Qn. 5 The management needs your help to give bonus points to the top 25% of students based on their maths score, so how will you help the management to achieve this."
   ]
  },
  {
   "cell_type": "code",
   "execution_count": 10,
   "id": "0a2fddf1",
   "metadata": {},
   "outputs": [
    {
     "name": "stdout",
     "output_type": "stream",
     "text": [
      "     gender  math score  reading score  writing score bonus points\n",
      "999    male         100            100            100           10\n",
      "996    male         100             96             86           10\n",
      "515  female         100             92             97           10\n",
      "517  female         100            100            100           10\n",
      "516  female         100            100            100           10\n",
      "..      ...         ...            ...            ...          ...\n",
      "856    male          77             76             77            5\n",
      "855    male          77             69             68            5\n",
      "854    male          77             68             69            5\n",
      "853    male          77             78             73            5\n",
      "852    male          77             62             64            5\n",
      "\n",
      "[250 rows x 5 columns]\n"
     ]
    }
   ],
   "source": [
    "df = pd.DataFrame(file_data,columns = ['gender', 'math score','reading score','writing score'])\n",
    "#25% count is calculated\n",
    "#df.shape[0]\n",
    "bonus_stu=int(len(df)/4)\n",
    "\n",
    "# sorted values by math score in descending order and top 25% data is taken for process\n",
    "rslt_df=df.sort_values(by='math score',ascending=False).head(bonus_stu) \n",
    "#new column is added to the result dataframe with null values\n",
    "rslt_df['bonus points']=pd.NaT\n",
    "\n",
    "# iterate over rows with iterrows()\n",
    "for index, row in rslt_df.iterrows():\n",
    "    if (row['math score']>=99):\n",
    "        pt=10\n",
    "    elif(row['math score']>95):\n",
    "        pt=8\n",
    "    elif(row['math score']>90):\n",
    "        pt=7\n",
    "    else:\n",
    "        pt=5\n",
    "#bonus point is added to the corresponding row\n",
    "    rslt_df.at[index, 'bonus points'] = pt\n",
    "\n",
    "print(rslt_df)\n"
   ]
  },
  {
   "cell_type": "code",
   "execution_count": null,
   "id": "dd23630a",
   "metadata": {},
   "outputs": [],
   "source": []
  },
  {
   "cell_type": "code",
   "execution_count": null,
   "id": "913705b4",
   "metadata": {},
   "outputs": [],
   "source": []
  }
 ],
 "metadata": {
  "kernelspec": {
   "display_name": "Python 3 (ipykernel)",
   "language": "python",
   "name": "python3"
  },
  "language_info": {
   "codemirror_mode": {
    "name": "ipython",
    "version": 3
   },
   "file_extension": ".py",
   "mimetype": "text/x-python",
   "name": "python",
   "nbconvert_exporter": "python",
   "pygments_lexer": "ipython3",
   "version": "3.9.7"
  }
 },
 "nbformat": 4,
 "nbformat_minor": 5
}
